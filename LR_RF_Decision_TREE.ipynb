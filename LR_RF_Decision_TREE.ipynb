{
  "nbformat": 4,
  "nbformat_minor": 0,
  "metadata": {
    "colab": {
      "provenance": []
    },
    "kernelspec": {
      "name": "python3",
      "display_name": "Python 3"
    },
    "language_info": {
      "name": "python"
    }
  },
  "cells": [
    {
      "cell_type": "code",
      "execution_count": 90,
      "metadata": {
        "id": "92d_fasZf0JW"
      },
      "outputs": [],
      "source": [
        "import pyspark.sql\n",
        "from pyspark.sql import SparkSession\n",
        "import seaborn as sns\n",
        "import pandas as pd\n",
        "import numpy as np\n",
        "import matplotlib.pyplot as plt\n",
        "\n",
        "from pyspark.sql.functions import col, when, count, sum, avg, max, min, udf\n",
        "from pyspark.ml.feature import Imputer, StringIndexer, VectorAssembler, StandardScaler, OneHotEncoder\n",
        "from pyspark.ml import Pipeline\n",
        "from pyspark.ml.classification import DecisionTreeClassifier\n",
        "from pyspark.ml.classification  import LogisticRegression\n",
        "from pyspark.ml.evaluation import BinaryClassificationEvaluator"
      ]
    },
    {
      "cell_type": "code",
      "source": [
        "!pip install pyspark"
      ],
      "metadata": {
        "colab": {
          "base_uri": "https://localhost:8080/"
        },
        "id": "FJ_6NwmtgP0k",
        "outputId": "6da80b80-819d-428e-ce9c-88efa1331fc5"
      },
      "execution_count": 3,
      "outputs": [
        {
          "output_type": "stream",
          "name": "stdout",
          "text": [
            "Collecting pyspark\n",
            "  Downloading pyspark-3.5.3.tar.gz (317.3 MB)\n",
            "\u001b[2K     \u001b[90m━━━━━━━━━━━━━━━━━━━━━━━━━━━━━━━━━━━━━━━━\u001b[0m \u001b[32m317.3/317.3 MB\u001b[0m \u001b[31m1.3 MB/s\u001b[0m eta \u001b[36m0:00:00\u001b[0m\n",
            "\u001b[?25h  Preparing metadata (setup.py) ... \u001b[?25l\u001b[?25hdone\n",
            "Requirement already satisfied: py4j==0.10.9.7 in /usr/local/lib/python3.10/dist-packages (from pyspark) (0.10.9.7)\n",
            "Building wheels for collected packages: pyspark\n",
            "  Building wheel for pyspark (setup.py) ... \u001b[?25l\u001b[?25hdone\n",
            "  Created wheel for pyspark: filename=pyspark-3.5.3-py2.py3-none-any.whl size=317840625 sha256=e5ff2e9916223ad00488df2a530642fc0325db2344a03a8bd6986e825a288ed8\n",
            "  Stored in directory: /root/.cache/pip/wheels/1b/3a/92/28b93e2fbfdbb07509ca4d6f50c5e407f48dce4ddbda69a4ab\n",
            "Successfully built pyspark\n",
            "Installing collected packages: pyspark\n",
            "Successfully installed pyspark-3.5.3\n"
          ]
        }
      ]
    },
    {
      "cell_type": "code",
      "source": [
        "spark = SparkSession.builder.appName(\"mypysparkproject\").getOrCreate()\n",
        "spark"
      ],
      "metadata": {
        "colab": {
          "base_uri": "https://localhost:8080/",
          "height": 219
        },
        "id": "CkXAE0NOgm8s",
        "outputId": "109245c9-4fd9-45a9-eebf-f52f635b95bd"
      },
      "execution_count": 5,
      "outputs": [
        {
          "output_type": "execute_result",
          "data": {
            "text/plain": [
              "<pyspark.sql.session.SparkSession at 0x7fc098312b30>"
            ],
            "text/html": [
              "\n",
              "            <div>\n",
              "                <p><b>SparkSession - in-memory</b></p>\n",
              "                \n",
              "        <div>\n",
              "            <p><b>SparkContext</b></p>\n",
              "\n",
              "            <p><a href=\"http://fda71c6f5597:4040\">Spark UI</a></p>\n",
              "\n",
              "            <dl>\n",
              "              <dt>Version</dt>\n",
              "                <dd><code>v3.5.3</code></dd>\n",
              "              <dt>Master</dt>\n",
              "                <dd><code>local[*]</code></dd>\n",
              "              <dt>AppName</dt>\n",
              "                <dd><code>mypysparkproject</code></dd>\n",
              "            </dl>\n",
              "        </div>\n",
              "        \n",
              "            </div>\n",
              "        "
            ]
          },
          "metadata": {},
          "execution_count": 5
        }
      ]
    },
    {
      "cell_type": "code",
      "source": [
        "df = spark.read.csv('/content/dataset.csv', header = True )\n",
        "df.show()"
      ],
      "metadata": {
        "colab": {
          "base_uri": "https://localhost:8080/"
        },
        "id": "hpsFPMeFg3VW",
        "outputId": "8c0c36a6-4637-4de9-de8c-e4e785271b21"
      },
      "execution_count": 10,
      "outputs": [
        {
          "output_type": "stream",
          "name": "stdout",
          "text": [
            "+----------+------+-------------+-------+----------+------+------------+----------------+---------------+-------------------+-------------------+-------------------+-------------------+-------------------+-------------------+--------------+----------------+--------------------+--------------+------------+-----+\n",
            "|customerID|gender|SeniorCitizen|Partner|Dependents|tenure|PhoneService|   MultipleLines|InternetService|     OnlineSecurity|       OnlineBackup|   DeviceProtection|        TechSupport|        StreamingTV|    StreamingMovies|      Contract|PaperlessBilling|       PaymentMethod|MonthlyCharges|TotalCharges|Churn|\n",
            "+----------+------+-------------+-------+----------+------+------------+----------------+---------------+-------------------+-------------------+-------------------+-------------------+-------------------+-------------------+--------------+----------------+--------------------+--------------+------------+-----+\n",
            "|7590-VHVEG|Female|           No|    Yes|        No|     1|          No|No phone service|            DSL|                 No|                Yes|                 No|                 No|                 No|                 No|Month-to-month|             Yes|    Electronic check|         29.85|       29.85|   No|\n",
            "|5575-GNVDE|  Male|           No|     No|        No|    34|         Yes|              No|            DSL|                Yes|                 No|                Yes|                 No|                 No|                 No|      One year|              No|        Mailed check|         56.95|      1889.5|   No|\n",
            "|3668-QPYBK|  Male|           No|     No|        No|     2|         Yes|              No|            DSL|                Yes|                Yes|                 No|                 No|                 No|                 No|Month-to-month|             Yes|        Mailed check|         53.85|      108.15|  Yes|\n",
            "|7795-CFOCW|  Male|           No|     No|        No|    45|          No|No phone service|            DSL|                Yes|                 No|                Yes|                Yes|                 No|                 No|      One year|              No|Bank transfer (au...|          42.3|     1840.75|   No|\n",
            "|9237-HQITU|Female|           No|     No|        No|     2|         Yes|              No|    Fiber optic|                 No|                 No|                 No|                 No|                 No|                 No|Month-to-month|             Yes|    Electronic check|          70.7|      151.65|  Yes|\n",
            "|9305-CDSKC|Female|           No|     No|        No|     8|         Yes|             Yes|    Fiber optic|                 No|                 No|                Yes|                 No|                Yes|                Yes|Month-to-month|             Yes|    Electronic check|         99.65|       820.5|  Yes|\n",
            "|1452-KIOVK|  Male|           No|     No|       Yes|    22|         Yes|             Yes|    Fiber optic|                 No|                Yes|                 No|                 No|                Yes|                 No|Month-to-month|             Yes|Credit card (auto...|          89.1|      1949.4|   No|\n",
            "|6713-OKOMC|Female|           No|     No|        No|    10|          No|No phone service|            DSL|                Yes|                 No|                 No|                 No|                 No|                 No|Month-to-month|              No|        Mailed check|         29.75|       301.9|   No|\n",
            "|7892-POOKP|Female|           No|    Yes|        No|    28|         Yes|             Yes|    Fiber optic|                 No|                 No|                Yes|                Yes|                Yes|                Yes|Month-to-month|             Yes|    Electronic check|         104.8|     3046.05|  Yes|\n",
            "|6388-TABGU|  Male|           No|     No|       Yes|    62|         Yes|              No|            DSL|                Yes|                Yes|                 No|                 No|                 No|                 No|      One year|              No|Bank transfer (au...|         56.15|     3487.95|   No|\n",
            "|9763-GRSKD|  Male|           No|    Yes|       Yes|    13|         Yes|              No|            DSL|                Yes|                 No|                 No|                 No|                 No|                 No|Month-to-month|             Yes|        Mailed check|         49.95|      587.45|   No|\n",
            "|7469-LKBCI|  Male|           No|     No|        No|    16|         Yes|              No|             No|No internet service|No internet service|No internet service|No internet service|No internet service|No internet service|      Two year|              No|Credit card (auto...|         18.95|       326.8|   No|\n",
            "|8091-TTVAX|  Male|           No|    Yes|        No|    58|         Yes|             Yes|    Fiber optic|                 No|                 No|                Yes|                 No|                Yes|                Yes|      One year|              No|Credit card (auto...|        100.35|      5681.1|   No|\n",
            "|0280-XJGEX|  Male|           No|     No|        No|    49|         Yes|             Yes|    Fiber optic|                 No|                Yes|                Yes|                 No|                Yes|                Yes|Month-to-month|             Yes|Bank transfer (au...|         103.7|      5036.3|  Yes|\n",
            "|5129-JLPIS|  Male|           No|     No|        No|    25|         Yes|              No|    Fiber optic|                Yes|                 No|                Yes|                Yes|                Yes|                Yes|Month-to-month|             Yes|    Electronic check|         105.5|     2686.05|   No|\n",
            "|3655-SNQYZ|Female|           No|    Yes|       Yes|    69|         Yes|             Yes|    Fiber optic|                Yes|                Yes|                Yes|                Yes|                Yes|                Yes|      Two year|              No|Credit card (auto...|        113.25|     7895.15|   No|\n",
            "|8191-XWSZG|Female|           No|     No|        No|    52|         Yes|              No|             No|No internet service|No internet service|No internet service|No internet service|No internet service|No internet service|      One year|              No|        Mailed check|         20.65|     1022.95|   No|\n",
            "|9959-WOFKT|  Male|           No|     No|       Yes|    71|         Yes|             Yes|    Fiber optic|                Yes|                 No|                Yes|                 No|                Yes|                Yes|      Two year|              No|Bank transfer (au...|         106.7|     7382.25|   No|\n",
            "|4190-MFLUW|Female|           No|    Yes|       Yes|    10|         Yes|              No|            DSL|                 No|                 No|                Yes|                Yes|                 No|                 No|Month-to-month|              No|Credit card (auto...|          55.2|      528.35|  Yes|\n",
            "|4183-MYFRB|Female|           No|     No|        No|    21|         Yes|              No|    Fiber optic|                 No|                Yes|                Yes|                 No|                 No|                Yes|Month-to-month|             Yes|    Electronic check|         90.05|      1862.9|   No|\n",
            "+----------+------+-------------+-------+----------+------+------------+----------------+---------------+-------------------+-------------------+-------------------+-------------------+-------------------+-------------------+--------------+----------------+--------------------+--------------+------------+-----+\n",
            "only showing top 20 rows\n",
            "\n"
          ]
        }
      ]
    },
    {
      "cell_type": "code",
      "source": [
        "df.describe().show()"
      ],
      "metadata": {
        "colab": {
          "base_uri": "https://localhost:8080/"
        },
        "id": "Wbg5uC4LhidL",
        "outputId": "71196db9-256c-40ea-bf68-6e2f59d5f111"
      },
      "execution_count": 11,
      "outputs": [
        {
          "output_type": "stream",
          "name": "stdout",
          "text": [
            "+-------+----------+------+-------------+-------+----------+------------------+------------+-------------+---------------+--------------+------------+----------------+-----------+-----------+---------------+--------------+----------------+--------------------+------------------+------------------+-----+\n",
            "|summary|customerID|gender|SeniorCitizen|Partner|Dependents|            tenure|PhoneService|MultipleLines|InternetService|OnlineSecurity|OnlineBackup|DeviceProtection|TechSupport|StreamingTV|StreamingMovies|      Contract|PaperlessBilling|       PaymentMethod|    MonthlyCharges|      TotalCharges|Churn|\n",
            "+-------+----------+------+-------------+-------+----------+------------------+------------+-------------+---------------+--------------+------------+----------------+-----------+-----------+---------------+--------------+----------------+--------------------+------------------+------------------+-----+\n",
            "|  count|      7043|  7043|         7043|   7043|      7043|              7043|        7043|         7043|           7043|          7043|        7043|            7043|       7043|       7043|           7043|          7043|            7043|                7043|              7043|              7032| 7043|\n",
            "|   mean|      NULL|  NULL|         NULL|   NULL|      NULL|32.435751810308105|        NULL|         NULL|           NULL|          NULL|        NULL|            NULL|       NULL|       NULL|           NULL|          NULL|            NULL|                NULL| 64.76169246059922|2283.3004408418697| NULL|\n",
            "| stddev|      NULL|  NULL|         NULL|   NULL|      NULL| 25.07522813150339|        NULL|         NULL|           NULL|          NULL|        NULL|            NULL|       NULL|       NULL|           NULL|          NULL|            NULL|                NULL|30.090047097678482| 2266.771361883145| NULL|\n",
            "|    min|0002-ORFBO|Female|           No|     No|        No|                 0|          No|           No|            DSL|            No|          No|              No|         No|         No|             No|Month-to-month|              No|Bank transfer (au...|               100|             100.2|   No|\n",
            "|    max|9995-HOTOH|  Male|          Yes|    Yes|       Yes|                 9|         Yes|          Yes|             No|           Yes|         Yes|             Yes|        Yes|        Yes|            Yes|      Two year|             Yes|        Mailed check|             99.95|             999.9|  Yes|\n",
            "+-------+----------+------+-------------+-------+----------+------------------+------------+-------------+---------------+--------------+------------+----------------+-----------+-----------+---------------+--------------+----------------+--------------------+------------------+------------------+-----+\n",
            "\n"
          ]
        }
      ]
    },
    {
      "cell_type": "code",
      "source": [
        "df.select([count(when(col(c).isNull(), c)).alias(c) for c in df.columns]).show()"
      ],
      "metadata": {
        "colab": {
          "base_uri": "https://localhost:8080/"
        },
        "id": "Mr8EmJmShf13",
        "outputId": "99f63062-323c-4059-fd7e-b7725881191a"
      },
      "execution_count": 17,
      "outputs": [
        {
          "output_type": "stream",
          "name": "stdout",
          "text": [
            "+----------+------+-------------+-------+----------+------+------------+-------------+---------------+--------------+------------+----------------+-----------+-----------+---------------+--------+----------------+-------------+--------------+------------+-----+\n",
            "|customerID|gender|SeniorCitizen|Partner|Dependents|tenure|PhoneService|MultipleLines|InternetService|OnlineSecurity|OnlineBackup|DeviceProtection|TechSupport|StreamingTV|StreamingMovies|Contract|PaperlessBilling|PaymentMethod|MonthlyCharges|TotalCharges|Churn|\n",
            "+----------+------+-------------+-------+----------+------+------------+-------------+---------------+--------------+------------+----------------+-----------+-----------+---------------+--------+----------------+-------------+--------------+------------+-----+\n",
            "|         0|     0|            0|      0|         0|     0|           0|            0|              0|             0|           0|               0|          0|          0|              0|       0|               0|            0|             0|          11|    0|\n",
            "+----------+------+-------------+-------+----------+------+------------+-------------+---------------+--------------+------------+----------------+-----------+-----------+---------------+--------+----------------+-------------+--------------+------------+-----+\n",
            "\n"
          ]
        }
      ]
    },
    {
      "cell_type": "code",
      "source": [
        "df.printSchema()"
      ],
      "metadata": {
        "colab": {
          "base_uri": "https://localhost:8080/"
        },
        "id": "rz7RbqbDioxN",
        "outputId": "21418033-453f-411b-a2b0-64a655951305"
      },
      "execution_count": 18,
      "outputs": [
        {
          "output_type": "stream",
          "name": "stdout",
          "text": [
            "root\n",
            " |-- customerID: string (nullable = true)\n",
            " |-- gender: string (nullable = true)\n",
            " |-- SeniorCitizen: string (nullable = true)\n",
            " |-- Partner: string (nullable = true)\n",
            " |-- Dependents: string (nullable = true)\n",
            " |-- tenure: string (nullable = true)\n",
            " |-- PhoneService: string (nullable = true)\n",
            " |-- MultipleLines: string (nullable = true)\n",
            " |-- InternetService: string (nullable = true)\n",
            " |-- OnlineSecurity: string (nullable = true)\n",
            " |-- OnlineBackup: string (nullable = true)\n",
            " |-- DeviceProtection: string (nullable = true)\n",
            " |-- TechSupport: string (nullable = true)\n",
            " |-- StreamingTV: string (nullable = true)\n",
            " |-- StreamingMovies: string (nullable = true)\n",
            " |-- Contract: string (nullable = true)\n",
            " |-- PaperlessBilling: string (nullable = true)\n",
            " |-- PaymentMethod: string (nullable = true)\n",
            " |-- MonthlyCharges: string (nullable = true)\n",
            " |-- TotalCharges: string (nullable = true)\n",
            " |-- Churn: string (nullable = true)\n",
            "\n"
          ]
        }
      ]
    },
    {
      "cell_type": "code",
      "source": [
        "df.createOrReplaceTempView(\"customers\")"
      ],
      "metadata": {
        "id": "encRxaL2k7aM"
      },
      "execution_count": 21,
      "outputs": []
    },
    {
      "cell_type": "code",
      "source": [
        "result = spark.sql(\"\"\"\n",
        "SELECT * FROM customers\n",
        "WHERE churn = 'Yes'\n",
        "\"\"\")\n",
        "result.show()"
      ],
      "metadata": {
        "colab": {
          "base_uri": "https://localhost:8080/"
        },
        "id": "EavSNlwqlIuk",
        "outputId": "a22ea71b-2663-4f99-a208-b8f11d8860ab"
      },
      "execution_count": 27,
      "outputs": [
        {
          "output_type": "stream",
          "name": "stdout",
          "text": [
            "+----------+------+-------------+-------+----------+------+------------+----------------+---------------+-------------------+-------------------+-------------------+-------------------+-------------------+-------------------+--------------+----------------+--------------------+--------------+------------+-----+\n",
            "|customerID|gender|SeniorCitizen|Partner|Dependents|tenure|PhoneService|   MultipleLines|InternetService|     OnlineSecurity|       OnlineBackup|   DeviceProtection|        TechSupport|        StreamingTV|    StreamingMovies|      Contract|PaperlessBilling|       PaymentMethod|MonthlyCharges|TotalCharges|Churn|\n",
            "+----------+------+-------------+-------+----------+------+------------+----------------+---------------+-------------------+-------------------+-------------------+-------------------+-------------------+-------------------+--------------+----------------+--------------------+--------------+------------+-----+\n",
            "|3668-QPYBK|  Male|           No|     No|        No|     2|         Yes|              No|            DSL|                Yes|                Yes|                 No|                 No|                 No|                 No|Month-to-month|             Yes|        Mailed check|         53.85|      108.15|  Yes|\n",
            "|9237-HQITU|Female|           No|     No|        No|     2|         Yes|              No|    Fiber optic|                 No|                 No|                 No|                 No|                 No|                 No|Month-to-month|             Yes|    Electronic check|          70.7|      151.65|  Yes|\n",
            "|9305-CDSKC|Female|           No|     No|        No|     8|         Yes|             Yes|    Fiber optic|                 No|                 No|                Yes|                 No|                Yes|                Yes|Month-to-month|             Yes|    Electronic check|         99.65|       820.5|  Yes|\n",
            "|7892-POOKP|Female|           No|    Yes|        No|    28|         Yes|             Yes|    Fiber optic|                 No|                 No|                Yes|                Yes|                Yes|                Yes|Month-to-month|             Yes|    Electronic check|         104.8|     3046.05|  Yes|\n",
            "|0280-XJGEX|  Male|           No|     No|        No|    49|         Yes|             Yes|    Fiber optic|                 No|                Yes|                Yes|                 No|                Yes|                Yes|Month-to-month|             Yes|Bank transfer (au...|         103.7|      5036.3|  Yes|\n",
            "|4190-MFLUW|Female|           No|    Yes|       Yes|    10|         Yes|              No|            DSL|                 No|                 No|                Yes|                Yes|                 No|                 No|Month-to-month|              No|Credit card (auto...|          55.2|      528.35|  Yes|\n",
            "|8779-QRDMV|  Male|          Yes|     No|        No|     1|          No|No phone service|            DSL|                 No|                 No|                Yes|                 No|                 No|                Yes|Month-to-month|             Yes|    Electronic check|         39.65|       39.65|  Yes|\n",
            "|1066-JKSGK|  Male|           No|     No|        No|     1|         Yes|              No|             No|No internet service|No internet service|No internet service|No internet service|No internet service|No internet service|Month-to-month|              No|        Mailed check|         20.15|       20.15|  Yes|\n",
            "|6467-CHFZW|  Male|           No|    Yes|       Yes|    47|         Yes|             Yes|    Fiber optic|                 No|                Yes|                 No|                 No|                Yes|                Yes|Month-to-month|             Yes|    Electronic check|         99.35|     4749.15|  Yes|\n",
            "|8665-UTDHZ|  Male|           No|    Yes|       Yes|     1|          No|No phone service|            DSL|                 No|                Yes|                 No|                 No|                 No|                 No|Month-to-month|              No|    Electronic check|          30.2|        30.2|  Yes|\n",
            "|8773-HHUOZ|Female|           No|     No|       Yes|    17|         Yes|              No|            DSL|                 No|                 No|                 No|                 No|                Yes|                Yes|Month-to-month|             Yes|        Mailed check|          64.7|      1093.1|  Yes|\n",
            "|6047-YHPVI|  Male|           No|     No|        No|     5|         Yes|              No|    Fiber optic|                 No|                 No|                 No|                 No|                 No|                 No|Month-to-month|             Yes|    Electronic check|          69.7|       316.9|  Yes|\n",
            "|5380-WJKOV|  Male|           No|     No|        No|    34|         Yes|             Yes|    Fiber optic|                 No|                Yes|                Yes|                 No|                Yes|                Yes|Month-to-month|             Yes|    Electronic check|        106.35|     3549.25|  Yes|\n",
            "|8168-UQWWF|Female|           No|     No|        No|    11|         Yes|             Yes|    Fiber optic|                 No|                 No|                Yes|                 No|                Yes|                Yes|Month-to-month|             Yes|Bank transfer (au...|         97.85|      1105.4|  Yes|\n",
            "|7760-OYPDY|Female|           No|     No|        No|     2|         Yes|              No|    Fiber optic|                 No|                 No|                 No|                 No|                Yes|                 No|Month-to-month|             Yes|    Electronic check|         80.65|      144.15|  Yes|\n",
            "|9420-LOJKX|Female|           No|     No|        No|    15|         Yes|              No|    Fiber optic|                Yes|                Yes|                 No|                 No|                Yes|                Yes|Month-to-month|             Yes|Credit card (auto...|          99.1|      1426.4|  Yes|\n",
            "|7495-OOKFY|Female|          Yes|    Yes|        No|     8|         Yes|             Yes|    Fiber optic|                 No|                Yes|                 No|                 No|                 No|                 No|Month-to-month|             Yes|Credit card (auto...|         80.65|       633.3|  Yes|\n",
            "|1658-BYGOY|  Male|          Yes|     No|        No|    18|         Yes|             Yes|    Fiber optic|                 No|                 No|                 No|                 No|                Yes|                Yes|Month-to-month|             Yes|    Electronic check|         95.45|     1752.55|  Yes|\n",
            "|5698-BQJOH|Female|           No|     No|        No|     9|         Yes|             Yes|    Fiber optic|                 No|                 No|                 No|                 No|                Yes|                Yes|Month-to-month|              No|    Electronic check|          94.4|      857.25|  Yes|\n",
            "|5919-TMRGD|Female|           No|     No|       Yes|     1|         Yes|              No|    Fiber optic|                 No|                 No|                 No|                 No|                Yes|                 No|Month-to-month|             Yes|    Electronic check|         79.35|       79.35|  Yes|\n",
            "+----------+------+-------------+-------+----------+------+------------+----------------+---------------+-------------------+-------------------+-------------------+-------------------+-------------------+-------------------+--------------+----------------+--------------------+--------------+------------+-----+\n",
            "only showing top 20 rows\n",
            "\n"
          ]
        }
      ]
    },
    {
      "cell_type": "code",
      "source": [
        "test = result.toPandas()\n",
        "test.head()"
      ],
      "metadata": {
        "colab": {
          "base_uri": "https://localhost:8080/",
          "height": 342
        },
        "id": "spNcKuIHlUns",
        "outputId": "ae1b63c3-49ec-4861-eeb9-74e2ae76a4a8"
      },
      "execution_count": 35,
      "outputs": [
        {
          "output_type": "execute_result",
          "data": {
            "text/plain": [
              "   customerID  gender SeniorCitizen Partner Dependents tenure PhoneService  \\\n",
              "0  3668-QPYBK    Male            No      No         No      2          Yes   \n",
              "1  9237-HQITU  Female            No      No         No      2          Yes   \n",
              "2  9305-CDSKC  Female            No      No         No      8          Yes   \n",
              "3  7892-POOKP  Female            No     Yes         No     28          Yes   \n",
              "4  0280-XJGEX    Male            No      No         No     49          Yes   \n",
              "\n",
              "  MultipleLines InternetService OnlineSecurity  ... DeviceProtection  \\\n",
              "0            No             DSL            Yes  ...               No   \n",
              "1            No     Fiber optic             No  ...               No   \n",
              "2           Yes     Fiber optic             No  ...              Yes   \n",
              "3           Yes     Fiber optic             No  ...              Yes   \n",
              "4           Yes     Fiber optic             No  ...              Yes   \n",
              "\n",
              "  TechSupport StreamingTV StreamingMovies        Contract PaperlessBilling  \\\n",
              "0          No          No              No  Month-to-month              Yes   \n",
              "1          No          No              No  Month-to-month              Yes   \n",
              "2          No         Yes             Yes  Month-to-month              Yes   \n",
              "3         Yes         Yes             Yes  Month-to-month              Yes   \n",
              "4          No         Yes             Yes  Month-to-month              Yes   \n",
              "\n",
              "               PaymentMethod MonthlyCharges TotalCharges Churn  \n",
              "0               Mailed check          53.85       108.15   Yes  \n",
              "1           Electronic check           70.7       151.65   Yes  \n",
              "2           Electronic check          99.65        820.5   Yes  \n",
              "3           Electronic check          104.8      3046.05   Yes  \n",
              "4  Bank transfer (automatic)          103.7       5036.3   Yes  \n",
              "\n",
              "[5 rows x 21 columns]"
            ],
            "text/html": [
              "\n",
              "  <div id=\"df-c7d7b2cd-1a1c-41b2-b8fb-f4827b44f65f\" class=\"colab-df-container\">\n",
              "    <div>\n",
              "<style scoped>\n",
              "    .dataframe tbody tr th:only-of-type {\n",
              "        vertical-align: middle;\n",
              "    }\n",
              "\n",
              "    .dataframe tbody tr th {\n",
              "        vertical-align: top;\n",
              "    }\n",
              "\n",
              "    .dataframe thead th {\n",
              "        text-align: right;\n",
              "    }\n",
              "</style>\n",
              "<table border=\"1\" class=\"dataframe\">\n",
              "  <thead>\n",
              "    <tr style=\"text-align: right;\">\n",
              "      <th></th>\n",
              "      <th>customerID</th>\n",
              "      <th>gender</th>\n",
              "      <th>SeniorCitizen</th>\n",
              "      <th>Partner</th>\n",
              "      <th>Dependents</th>\n",
              "      <th>tenure</th>\n",
              "      <th>PhoneService</th>\n",
              "      <th>MultipleLines</th>\n",
              "      <th>InternetService</th>\n",
              "      <th>OnlineSecurity</th>\n",
              "      <th>...</th>\n",
              "      <th>DeviceProtection</th>\n",
              "      <th>TechSupport</th>\n",
              "      <th>StreamingTV</th>\n",
              "      <th>StreamingMovies</th>\n",
              "      <th>Contract</th>\n",
              "      <th>PaperlessBilling</th>\n",
              "      <th>PaymentMethod</th>\n",
              "      <th>MonthlyCharges</th>\n",
              "      <th>TotalCharges</th>\n",
              "      <th>Churn</th>\n",
              "    </tr>\n",
              "  </thead>\n",
              "  <tbody>\n",
              "    <tr>\n",
              "      <th>0</th>\n",
              "      <td>3668-QPYBK</td>\n",
              "      <td>Male</td>\n",
              "      <td>No</td>\n",
              "      <td>No</td>\n",
              "      <td>No</td>\n",
              "      <td>2</td>\n",
              "      <td>Yes</td>\n",
              "      <td>No</td>\n",
              "      <td>DSL</td>\n",
              "      <td>Yes</td>\n",
              "      <td>...</td>\n",
              "      <td>No</td>\n",
              "      <td>No</td>\n",
              "      <td>No</td>\n",
              "      <td>No</td>\n",
              "      <td>Month-to-month</td>\n",
              "      <td>Yes</td>\n",
              "      <td>Mailed check</td>\n",
              "      <td>53.85</td>\n",
              "      <td>108.15</td>\n",
              "      <td>Yes</td>\n",
              "    </tr>\n",
              "    <tr>\n",
              "      <th>1</th>\n",
              "      <td>9237-HQITU</td>\n",
              "      <td>Female</td>\n",
              "      <td>No</td>\n",
              "      <td>No</td>\n",
              "      <td>No</td>\n",
              "      <td>2</td>\n",
              "      <td>Yes</td>\n",
              "      <td>No</td>\n",
              "      <td>Fiber optic</td>\n",
              "      <td>No</td>\n",
              "      <td>...</td>\n",
              "      <td>No</td>\n",
              "      <td>No</td>\n",
              "      <td>No</td>\n",
              "      <td>No</td>\n",
              "      <td>Month-to-month</td>\n",
              "      <td>Yes</td>\n",
              "      <td>Electronic check</td>\n",
              "      <td>70.7</td>\n",
              "      <td>151.65</td>\n",
              "      <td>Yes</td>\n",
              "    </tr>\n",
              "    <tr>\n",
              "      <th>2</th>\n",
              "      <td>9305-CDSKC</td>\n",
              "      <td>Female</td>\n",
              "      <td>No</td>\n",
              "      <td>No</td>\n",
              "      <td>No</td>\n",
              "      <td>8</td>\n",
              "      <td>Yes</td>\n",
              "      <td>Yes</td>\n",
              "      <td>Fiber optic</td>\n",
              "      <td>No</td>\n",
              "      <td>...</td>\n",
              "      <td>Yes</td>\n",
              "      <td>No</td>\n",
              "      <td>Yes</td>\n",
              "      <td>Yes</td>\n",
              "      <td>Month-to-month</td>\n",
              "      <td>Yes</td>\n",
              "      <td>Electronic check</td>\n",
              "      <td>99.65</td>\n",
              "      <td>820.5</td>\n",
              "      <td>Yes</td>\n",
              "    </tr>\n",
              "    <tr>\n",
              "      <th>3</th>\n",
              "      <td>7892-POOKP</td>\n",
              "      <td>Female</td>\n",
              "      <td>No</td>\n",
              "      <td>Yes</td>\n",
              "      <td>No</td>\n",
              "      <td>28</td>\n",
              "      <td>Yes</td>\n",
              "      <td>Yes</td>\n",
              "      <td>Fiber optic</td>\n",
              "      <td>No</td>\n",
              "      <td>...</td>\n",
              "      <td>Yes</td>\n",
              "      <td>Yes</td>\n",
              "      <td>Yes</td>\n",
              "      <td>Yes</td>\n",
              "      <td>Month-to-month</td>\n",
              "      <td>Yes</td>\n",
              "      <td>Electronic check</td>\n",
              "      <td>104.8</td>\n",
              "      <td>3046.05</td>\n",
              "      <td>Yes</td>\n",
              "    </tr>\n",
              "    <tr>\n",
              "      <th>4</th>\n",
              "      <td>0280-XJGEX</td>\n",
              "      <td>Male</td>\n",
              "      <td>No</td>\n",
              "      <td>No</td>\n",
              "      <td>No</td>\n",
              "      <td>49</td>\n",
              "      <td>Yes</td>\n",
              "      <td>Yes</td>\n",
              "      <td>Fiber optic</td>\n",
              "      <td>No</td>\n",
              "      <td>...</td>\n",
              "      <td>Yes</td>\n",
              "      <td>No</td>\n",
              "      <td>Yes</td>\n",
              "      <td>Yes</td>\n",
              "      <td>Month-to-month</td>\n",
              "      <td>Yes</td>\n",
              "      <td>Bank transfer (automatic)</td>\n",
              "      <td>103.7</td>\n",
              "      <td>5036.3</td>\n",
              "      <td>Yes</td>\n",
              "    </tr>\n",
              "  </tbody>\n",
              "</table>\n",
              "<p>5 rows × 21 columns</p>\n",
              "</div>\n",
              "    <div class=\"colab-df-buttons\">\n",
              "\n",
              "  <div class=\"colab-df-container\">\n",
              "    <button class=\"colab-df-convert\" onclick=\"convertToInteractive('df-c7d7b2cd-1a1c-41b2-b8fb-f4827b44f65f')\"\n",
              "            title=\"Convert this dataframe to an interactive table.\"\n",
              "            style=\"display:none;\">\n",
              "\n",
              "  <svg xmlns=\"http://www.w3.org/2000/svg\" height=\"24px\" viewBox=\"0 -960 960 960\">\n",
              "    <path d=\"M120-120v-720h720v720H120Zm60-500h600v-160H180v160Zm220 220h160v-160H400v160Zm0 220h160v-160H400v160ZM180-400h160v-160H180v160Zm440 0h160v-160H620v160ZM180-180h160v-160H180v160Zm440 0h160v-160H620v160Z\"/>\n",
              "  </svg>\n",
              "    </button>\n",
              "\n",
              "  <style>\n",
              "    .colab-df-container {\n",
              "      display:flex;\n",
              "      gap: 12px;\n",
              "    }\n",
              "\n",
              "    .colab-df-convert {\n",
              "      background-color: #E8F0FE;\n",
              "      border: none;\n",
              "      border-radius: 50%;\n",
              "      cursor: pointer;\n",
              "      display: none;\n",
              "      fill: #1967D2;\n",
              "      height: 32px;\n",
              "      padding: 0 0 0 0;\n",
              "      width: 32px;\n",
              "    }\n",
              "\n",
              "    .colab-df-convert:hover {\n",
              "      background-color: #E2EBFA;\n",
              "      box-shadow: 0px 1px 2px rgba(60, 64, 67, 0.3), 0px 1px 3px 1px rgba(60, 64, 67, 0.15);\n",
              "      fill: #174EA6;\n",
              "    }\n",
              "\n",
              "    .colab-df-buttons div {\n",
              "      margin-bottom: 4px;\n",
              "    }\n",
              "\n",
              "    [theme=dark] .colab-df-convert {\n",
              "      background-color: #3B4455;\n",
              "      fill: #D2E3FC;\n",
              "    }\n",
              "\n",
              "    [theme=dark] .colab-df-convert:hover {\n",
              "      background-color: #434B5C;\n",
              "      box-shadow: 0px 1px 3px 1px rgba(0, 0, 0, 0.15);\n",
              "      filter: drop-shadow(0px 1px 2px rgba(0, 0, 0, 0.3));\n",
              "      fill: #FFFFFF;\n",
              "    }\n",
              "  </style>\n",
              "\n",
              "    <script>\n",
              "      const buttonEl =\n",
              "        document.querySelector('#df-c7d7b2cd-1a1c-41b2-b8fb-f4827b44f65f button.colab-df-convert');\n",
              "      buttonEl.style.display =\n",
              "        google.colab.kernel.accessAllowed ? 'block' : 'none';\n",
              "\n",
              "      async function convertToInteractive(key) {\n",
              "        const element = document.querySelector('#df-c7d7b2cd-1a1c-41b2-b8fb-f4827b44f65f');\n",
              "        const dataTable =\n",
              "          await google.colab.kernel.invokeFunction('convertToInteractive',\n",
              "                                                    [key], {});\n",
              "        if (!dataTable) return;\n",
              "\n",
              "        const docLinkHtml = 'Like what you see? Visit the ' +\n",
              "          '<a target=\"_blank\" href=https://colab.research.google.com/notebooks/data_table.ipynb>data table notebook</a>'\n",
              "          + ' to learn more about interactive tables.';\n",
              "        element.innerHTML = '';\n",
              "        dataTable['output_type'] = 'display_data';\n",
              "        await google.colab.output.renderOutput(dataTable, element);\n",
              "        const docLink = document.createElement('div');\n",
              "        docLink.innerHTML = docLinkHtml;\n",
              "        element.appendChild(docLink);\n",
              "      }\n",
              "    </script>\n",
              "  </div>\n",
              "\n",
              "\n",
              "<div id=\"df-636944a0-4139-4edb-99c3-5d70e3e51038\">\n",
              "  <button class=\"colab-df-quickchart\" onclick=\"quickchart('df-636944a0-4139-4edb-99c3-5d70e3e51038')\"\n",
              "            title=\"Suggest charts\"\n",
              "            style=\"display:none;\">\n",
              "\n",
              "<svg xmlns=\"http://www.w3.org/2000/svg\" height=\"24px\"viewBox=\"0 0 24 24\"\n",
              "     width=\"24px\">\n",
              "    <g>\n",
              "        <path d=\"M19 3H5c-1.1 0-2 .9-2 2v14c0 1.1.9 2 2 2h14c1.1 0 2-.9 2-2V5c0-1.1-.9-2-2-2zM9 17H7v-7h2v7zm4 0h-2V7h2v10zm4 0h-2v-4h2v4z\"/>\n",
              "    </g>\n",
              "</svg>\n",
              "  </button>\n",
              "\n",
              "<style>\n",
              "  .colab-df-quickchart {\n",
              "      --bg-color: #E8F0FE;\n",
              "      --fill-color: #1967D2;\n",
              "      --hover-bg-color: #E2EBFA;\n",
              "      --hover-fill-color: #174EA6;\n",
              "      --disabled-fill-color: #AAA;\n",
              "      --disabled-bg-color: #DDD;\n",
              "  }\n",
              "\n",
              "  [theme=dark] .colab-df-quickchart {\n",
              "      --bg-color: #3B4455;\n",
              "      --fill-color: #D2E3FC;\n",
              "      --hover-bg-color: #434B5C;\n",
              "      --hover-fill-color: #FFFFFF;\n",
              "      --disabled-bg-color: #3B4455;\n",
              "      --disabled-fill-color: #666;\n",
              "  }\n",
              "\n",
              "  .colab-df-quickchart {\n",
              "    background-color: var(--bg-color);\n",
              "    border: none;\n",
              "    border-radius: 50%;\n",
              "    cursor: pointer;\n",
              "    display: none;\n",
              "    fill: var(--fill-color);\n",
              "    height: 32px;\n",
              "    padding: 0;\n",
              "    width: 32px;\n",
              "  }\n",
              "\n",
              "  .colab-df-quickchart:hover {\n",
              "    background-color: var(--hover-bg-color);\n",
              "    box-shadow: 0 1px 2px rgba(60, 64, 67, 0.3), 0 1px 3px 1px rgba(60, 64, 67, 0.15);\n",
              "    fill: var(--button-hover-fill-color);\n",
              "  }\n",
              "\n",
              "  .colab-df-quickchart-complete:disabled,\n",
              "  .colab-df-quickchart-complete:disabled:hover {\n",
              "    background-color: var(--disabled-bg-color);\n",
              "    fill: var(--disabled-fill-color);\n",
              "    box-shadow: none;\n",
              "  }\n",
              "\n",
              "  .colab-df-spinner {\n",
              "    border: 2px solid var(--fill-color);\n",
              "    border-color: transparent;\n",
              "    border-bottom-color: var(--fill-color);\n",
              "    animation:\n",
              "      spin 1s steps(1) infinite;\n",
              "  }\n",
              "\n",
              "  @keyframes spin {\n",
              "    0% {\n",
              "      border-color: transparent;\n",
              "      border-bottom-color: var(--fill-color);\n",
              "      border-left-color: var(--fill-color);\n",
              "    }\n",
              "    20% {\n",
              "      border-color: transparent;\n",
              "      border-left-color: var(--fill-color);\n",
              "      border-top-color: var(--fill-color);\n",
              "    }\n",
              "    30% {\n",
              "      border-color: transparent;\n",
              "      border-left-color: var(--fill-color);\n",
              "      border-top-color: var(--fill-color);\n",
              "      border-right-color: var(--fill-color);\n",
              "    }\n",
              "    40% {\n",
              "      border-color: transparent;\n",
              "      border-right-color: var(--fill-color);\n",
              "      border-top-color: var(--fill-color);\n",
              "    }\n",
              "    60% {\n",
              "      border-color: transparent;\n",
              "      border-right-color: var(--fill-color);\n",
              "    }\n",
              "    80% {\n",
              "      border-color: transparent;\n",
              "      border-right-color: var(--fill-color);\n",
              "      border-bottom-color: var(--fill-color);\n",
              "    }\n",
              "    90% {\n",
              "      border-color: transparent;\n",
              "      border-bottom-color: var(--fill-color);\n",
              "    }\n",
              "  }\n",
              "</style>\n",
              "\n",
              "  <script>\n",
              "    async function quickchart(key) {\n",
              "      const quickchartButtonEl =\n",
              "        document.querySelector('#' + key + ' button');\n",
              "      quickchartButtonEl.disabled = true;  // To prevent multiple clicks.\n",
              "      quickchartButtonEl.classList.add('colab-df-spinner');\n",
              "      try {\n",
              "        const charts = await google.colab.kernel.invokeFunction(\n",
              "            'suggestCharts', [key], {});\n",
              "      } catch (error) {\n",
              "        console.error('Error during call to suggestCharts:', error);\n",
              "      }\n",
              "      quickchartButtonEl.classList.remove('colab-df-spinner');\n",
              "      quickchartButtonEl.classList.add('colab-df-quickchart-complete');\n",
              "    }\n",
              "    (() => {\n",
              "      let quickchartButtonEl =\n",
              "        document.querySelector('#df-636944a0-4139-4edb-99c3-5d70e3e51038 button');\n",
              "      quickchartButtonEl.style.display =\n",
              "        google.colab.kernel.accessAllowed ? 'block' : 'none';\n",
              "    })();\n",
              "  </script>\n",
              "</div>\n",
              "\n",
              "    </div>\n",
              "  </div>\n"
            ],
            "application/vnd.google.colaboratory.intrinsic+json": {
              "type": "dataframe",
              "variable_name": "test"
            }
          },
          "metadata": {},
          "execution_count": 35
        }
      ]
    },
    {
      "cell_type": "code",
      "source": [
        "df.createOrReplaceTempView(\"customers\")"
      ],
      "metadata": {
        "id": "Hc_ewrlKl_iR"
      },
      "execution_count": 36,
      "outputs": []
    },
    {
      "cell_type": "code",
      "source": [
        "test = spark.sql(\"\"\"\n",
        "SELECT gender, Contract FROM customers\n",
        "where Churn =='Yes' and Monthlycharges > 40\n",
        "\"\"\")\n",
        "test.show()"
      ],
      "metadata": {
        "colab": {
          "base_uri": "https://localhost:8080/"
        },
        "id": "g6VsqlBQnNBK",
        "outputId": "8ae8ba29-4a95-4ea6-bb81-035bd76714db"
      },
      "execution_count": 39,
      "outputs": [
        {
          "output_type": "stream",
          "name": "stdout",
          "text": [
            "+------+--------------+\n",
            "|gender|      Contract|\n",
            "+------+--------------+\n",
            "|  Male|Month-to-month|\n",
            "|Female|Month-to-month|\n",
            "|Female|Month-to-month|\n",
            "|Female|Month-to-month|\n",
            "|  Male|Month-to-month|\n",
            "|Female|Month-to-month|\n",
            "|  Male|Month-to-month|\n",
            "|Female|Month-to-month|\n",
            "|  Male|Month-to-month|\n",
            "|  Male|Month-to-month|\n",
            "|Female|Month-to-month|\n",
            "|Female|Month-to-month|\n",
            "|Female|Month-to-month|\n",
            "|Female|Month-to-month|\n",
            "|  Male|Month-to-month|\n",
            "|Female|Month-to-month|\n",
            "|Female|Month-to-month|\n",
            "|Female|Month-to-month|\n",
            "|Female|Month-to-month|\n",
            "|Female|Month-to-month|\n",
            "+------+--------------+\n",
            "only showing top 20 rows\n",
            "\n"
          ]
        }
      ]
    },
    {
      "cell_type": "code",
      "source": [
        "len(df.columns)"
      ],
      "metadata": {
        "colab": {
          "base_uri": "https://localhost:8080/"
        },
        "id": "UvYSuj0eoCrL",
        "outputId": "e3662bac-bbca-44e2-9358-9e258378e5dc"
      },
      "execution_count": 42,
      "outputs": [
        {
          "output_type": "execute_result",
          "data": {
            "text/plain": [
              "21"
            ]
          },
          "metadata": {},
          "execution_count": 42
        }
      ]
    },
    {
      "cell_type": "code",
      "source": [
        "df.count()"
      ],
      "metadata": {
        "colab": {
          "base_uri": "https://localhost:8080/"
        },
        "id": "x1XT9FstoIV1",
        "outputId": "3d13ead8-1efa-449c-b81b-861ba73e8976"
      },
      "execution_count": 43,
      "outputs": [
        {
          "output_type": "execute_result",
          "data": {
            "text/plain": [
              "7043"
            ]
          },
          "metadata": {},
          "execution_count": 43
        }
      ]
    },
    {
      "cell_type": "code",
      "source": [
        "df.groupBy('Churn', 'gender', 'Paymentmethod').count().show()"
      ],
      "metadata": {
        "colab": {
          "base_uri": "https://localhost:8080/"
        },
        "id": "WeV4xCSQoSn1",
        "outputId": "1883d077-e033-4b2f-f52f-c6f8388e703f"
      },
      "execution_count": 46,
      "outputs": [
        {
          "output_type": "stream",
          "name": "stdout",
          "text": [
            "+-----+------+--------------------+-----+\n",
            "|Churn|gender|       Paymentmethod|count|\n",
            "+-----+------+--------------------+-----+\n",
            "|  Yes|  Male|        Mailed check|  158|\n",
            "|  Yes|Female|    Electronic check|  522|\n",
            "|  Yes|Female|Bank transfer (au...|  136|\n",
            "|   No|Female|Credit card (auto...|  621|\n",
            "|   No|  Male|Bank transfer (au...|  634|\n",
            "|   No|Female|        Mailed check|  628|\n",
            "|  Yes|Female|Credit card (auto...|  131|\n",
            "|  Yes|  Male|Credit card (auto...|  101|\n",
            "|  Yes|  Male|    Electronic check|  549|\n",
            "|   No|Female|    Electronic check|  648|\n",
            "|  Yes|  Male|Bank transfer (au...|  122|\n",
            "|   No|Female|Bank transfer (au...|  652|\n",
            "|  Yes|Female|        Mailed check|  150|\n",
            "|   No|  Male|    Electronic check|  646|\n",
            "|   No|  Male|Credit card (auto...|  669|\n",
            "|   No|  Male|        Mailed check|  676|\n",
            "+-----+------+--------------------+-----+\n",
            "\n"
          ]
        }
      ]
    },
    {
      "cell_type": "code",
      "source": [
        "df.dtypes"
      ],
      "metadata": {
        "colab": {
          "base_uri": "https://localhost:8080/"
        },
        "id": "6WFC0Fq4p3pH",
        "outputId": "7d4c46ec-7c48-444b-ddbb-e525fda25837"
      },
      "execution_count": 56,
      "outputs": [
        {
          "output_type": "execute_result",
          "data": {
            "text/plain": [
              "[('customerID', 'string'),\n",
              " ('gender', 'string'),\n",
              " ('SeniorCitizen', 'string'),\n",
              " ('Partner', 'string'),\n",
              " ('Dependents', 'string'),\n",
              " ('tenure', 'string'),\n",
              " ('PhoneService', 'string'),\n",
              " ('MultipleLines', 'string'),\n",
              " ('InternetService', 'string'),\n",
              " ('OnlineSecurity', 'string'),\n",
              " ('OnlineBackup', 'string'),\n",
              " ('DeviceProtection', 'string'),\n",
              " ('TechSupport', 'string'),\n",
              " ('StreamingTV', 'string'),\n",
              " ('StreamingMovies', 'string'),\n",
              " ('Contract', 'string'),\n",
              " ('PaperlessBilling', 'string'),\n",
              " ('PaymentMethod', 'string'),\n",
              " ('MonthlyCharges', 'string'),\n",
              " ('TotalCharges', 'string'),\n",
              " ('Churn', 'string')]"
            ]
          },
          "metadata": {},
          "execution_count": 56
        }
      ]
    },
    {
      "cell_type": "code",
      "source": [
        "numerical = [name for name, typ in df.dtypes if typ==\"string\"]\n",
        "numerical"
      ],
      "metadata": {
        "colab": {
          "base_uri": "https://localhost:8080/"
        },
        "id": "3uvy33bqp6b-",
        "outputId": "fe2b5e11-3d7b-486d-b9ca-b5525140b4a9"
      },
      "execution_count": 59,
      "outputs": [
        {
          "output_type": "execute_result",
          "data": {
            "text/plain": [
              "['customerID',\n",
              " 'gender',\n",
              " 'SeniorCitizen',\n",
              " 'Partner',\n",
              " 'Dependents',\n",
              " 'tenure',\n",
              " 'PhoneService',\n",
              " 'MultipleLines',\n",
              " 'InternetService',\n",
              " 'OnlineSecurity',\n",
              " 'OnlineBackup',\n",
              " 'DeviceProtection',\n",
              " 'TechSupport',\n",
              " 'StreamingTV',\n",
              " 'StreamingMovies',\n",
              " 'Contract',\n",
              " 'PaperlessBilling',\n",
              " 'PaymentMethod',\n",
              " 'MonthlyCharges',\n",
              " 'TotalCharges',\n",
              " 'Churn']"
            ]
          },
          "metadata": {},
          "execution_count": 59
        }
      ]
    },
    {
      "cell_type": "code",
      "source": [
        "numerical_col = [ 'MonthlyCharges',\n",
        " 'TotalCharges', 'tenure']\n",
        "categorical_col = ['customerID',\n",
        " 'gender',\n",
        " 'SeniorCitizen',\n",
        " 'Partner',\n",
        " 'Dependents',\n",
        " 'PhoneService',\n",
        " 'MultipleLines',\n",
        " 'InternetService',\n",
        " 'OnlineSecurity',\n",
        " 'OnlineBackup',\n",
        " 'DeviceProtection',\n",
        " 'TechSupport',\n",
        " 'StreamingTV',\n",
        " 'StreamingMovies',\n",
        " 'Contract',\n",
        " 'PaperlessBilling',\n",
        " 'PaymentMethod',\n",
        " 'Churn']"
      ],
      "metadata": {
        "id": "JPuaIfg7p7QW"
      },
      "execution_count": 60,
      "outputs": []
    },
    {
      "cell_type": "code",
      "source": [
        "from pyspark.sql.types import FloatType, IntegerType\n",
        "\n",
        "for column_name in numerical_col:\n",
        "  df = df.withColumn(column_name, df[column_name].cast(FloatType()))\n",
        "for column_name in categorical_col:\n",
        "  df = df.withColumn(column_name, df[column_name].cast(\"string\"))\n",
        "\n",
        "df.printSchema()\n"
      ],
      "metadata": {
        "colab": {
          "base_uri": "https://localhost:8080/"
        },
        "id": "amk4UMvTp7Sn",
        "outputId": "9a410f22-7d58-4b06-d346-e50bd6a302fb"
      },
      "execution_count": 61,
      "outputs": [
        {
          "output_type": "stream",
          "name": "stdout",
          "text": [
            "root\n",
            " |-- customerID: string (nullable = true)\n",
            " |-- gender: string (nullable = true)\n",
            " |-- SeniorCitizen: string (nullable = true)\n",
            " |-- Partner: string (nullable = true)\n",
            " |-- Dependents: string (nullable = true)\n",
            " |-- tenure: float (nullable = true)\n",
            " |-- PhoneService: string (nullable = true)\n",
            " |-- MultipleLines: string (nullable = true)\n",
            " |-- InternetService: string (nullable = true)\n",
            " |-- OnlineSecurity: string (nullable = true)\n",
            " |-- OnlineBackup: string (nullable = true)\n",
            " |-- DeviceProtection: string (nullable = true)\n",
            " |-- TechSupport: string (nullable = true)\n",
            " |-- StreamingTV: string (nullable = true)\n",
            " |-- StreamingMovies: string (nullable = true)\n",
            " |-- Contract: string (nullable = true)\n",
            " |-- PaperlessBilling: string (nullable = true)\n",
            " |-- PaymentMethod: string (nullable = true)\n",
            " |-- MonthlyCharges: float (nullable = true)\n",
            " |-- TotalCharges: float (nullable = true)\n",
            " |-- Churn: string (nullable = true)\n",
            "\n"
          ]
        }
      ]
    },
    {
      "cell_type": "code",
      "source": [
        "columns = ['customerID',\n",
        " 'gender',\n",
        " 'SeniorCitizen',\n",
        " 'Partner',\n",
        " 'Dependents',\n",
        " 'tenure',\n",
        " 'PhoneService',\n",
        " 'MultipleLines',\n",
        " 'InternetService',\n",
        " 'OnlineSecurity',\n",
        " 'OnlineBackup',\n",
        " 'DeviceProtection',\n",
        " 'TechSupport',\n",
        " 'StreamingTV',\n",
        " 'StreamingMovies',\n",
        " 'Contract',\n",
        " 'PaperlessBilling',\n",
        " 'PaymentMethod',\n",
        " 'MonthlyCharges',\n",
        " 'TotalCharges',]\n",
        "\n",
        "for col in columns:\n",
        "      df.crosstab(col, 'Churn').show()"
      ],
      "metadata": {
        "colab": {
          "base_uri": "https://localhost:8080/"
        },
        "id": "LlrINYEkp7U2",
        "outputId": "63da04d4-5334-406d-9e32-bb1de4f12539"
      },
      "execution_count": 69,
      "outputs": [
        {
          "output_type": "stream",
          "name": "stdout",
          "text": [
            "+----------------+---+---+\n",
            "|customerID_Churn| No|Yes|\n",
            "+----------------+---+---+\n",
            "|      3528-HFRIQ|  1|  0|\n",
            "|      0356-ERHVT|  1|  0|\n",
            "|      6479-OAUSD|  1|  0|\n",
            "|      3195-TQDZX|  1|  0|\n",
            "|      6718-BDGHG|  1|  0|\n",
            "|      3692-JHONH|  1|  0|\n",
            "|      6234-RAAPL|  1|  0|\n",
            "|      0953-LGOVU|  1|  0|\n",
            "|      4868-AADLV|  1|  0|\n",
            "|      5859-HZYLF|  1|  0|\n",
            "|      1450-SKCVI|  0|  1|\n",
            "|      7661-CPURM|  1|  0|\n",
            "|      3668-QPYBK|  0|  1|\n",
            "|      0786-VSSUD|  0|  1|\n",
            "|      2712-SYWAY|  1|  0|\n",
            "|      9921-QFQUL|  1|  0|\n",
            "|      2592-YKDIF|  1|  0|\n",
            "|      5668-MEISB|  1|  0|\n",
            "|      6383-ZTSIW|  1|  0|\n",
            "|      7244-KXYZN|  1|  0|\n",
            "+----------------+---+---+\n",
            "only showing top 20 rows\n",
            "\n",
            "+------------+----+---+\n",
            "|gender_Churn|  No|Yes|\n",
            "+------------+----+---+\n",
            "|      Female|2549|939|\n",
            "|        Male|2625|930|\n",
            "+------------+----+---+\n",
            "\n",
            "+-------------------+----+----+\n",
            "|SeniorCitizen_Churn|  No| Yes|\n",
            "+-------------------+----+----+\n",
            "|                 No|4508|1393|\n",
            "|                Yes| 666| 476|\n",
            "+-------------------+----+----+\n",
            "\n",
            "+-------------+----+----+\n",
            "|Partner_Churn|  No| Yes|\n",
            "+-------------+----+----+\n",
            "|           No|2441|1200|\n",
            "|          Yes|2733| 669|\n",
            "+-------------+----+----+\n",
            "\n",
            "+----------------+----+----+\n",
            "|Dependents_Churn|  No| Yes|\n",
            "+----------------+----+----+\n",
            "|              No|3390|1543|\n",
            "|             Yes|1784| 326|\n",
            "+----------------+----+----+\n",
            "\n",
            "+------------+---+---+\n",
            "|tenure_Churn| No|Yes|\n",
            "+------------+---+---+\n",
            "|         1.0|233|380|\n",
            "|        50.0| 58| 10|\n",
            "|        22.0| 63| 27|\n",
            "|        65.0| 67|  9|\n",
            "|        38.0| 46| 13|\n",
            "|        66.0| 76| 13|\n",
            "|        20.0| 53| 18|\n",
            "|        15.0| 62| 37|\n",
            "|        45.0| 55|  6|\n",
            "|        67.0| 88| 10|\n",
            "|        47.0| 54| 14|\n",
            "|        44.0| 45|  6|\n",
            "|        63.0| 68|  4|\n",
            "|        69.0| 87|  8|\n",
            "|        25.0| 56| 23|\n",
            "|        26.0| 64| 15|\n",
            "|        72.0|356|  6|\n",
            "|        59.0| 52|  8|\n",
            "|        17.0| 61| 26|\n",
            "|        41.0| 56| 14|\n",
            "+------------+---+---+\n",
            "only showing top 20 rows\n",
            "\n",
            "+------------------+----+----+\n",
            "|PhoneService_Churn|  No| Yes|\n",
            "+------------------+----+----+\n",
            "|                No| 512| 170|\n",
            "|               Yes|4662|1699|\n",
            "+------------------+----+----+\n",
            "\n",
            "+-------------------+----+---+\n",
            "|MultipleLines_Churn|  No|Yes|\n",
            "+-------------------+----+---+\n",
            "|   No phone service| 512|170|\n",
            "|                 No|2541|849|\n",
            "|                Yes|2121|850|\n",
            "+-------------------+----+---+\n",
            "\n",
            "+---------------------+----+----+\n",
            "|InternetService_Churn|  No| Yes|\n",
            "+---------------------+----+----+\n",
            "|          Fiber optic|1799|1297|\n",
            "|                   No|1413| 113|\n",
            "|                  DSL|1962| 459|\n",
            "+---------------------+----+----+\n",
            "\n",
            "+--------------------+----+----+\n",
            "|OnlineSecurity_Churn|  No| Yes|\n",
            "+--------------------+----+----+\n",
            "|                  No|2037|1461|\n",
            "|                 Yes|1724| 295|\n",
            "| No internet service|1413| 113|\n",
            "+--------------------+----+----+\n",
            "\n",
            "+-------------------+----+----+\n",
            "| OnlineBackup_Churn|  No| Yes|\n",
            "+-------------------+----+----+\n",
            "|                 No|1855|1233|\n",
            "|                Yes|1906| 523|\n",
            "|No internet service|1413| 113|\n",
            "+-------------------+----+----+\n",
            "\n",
            "+----------------------+----+----+\n",
            "|DeviceProtection_Churn|  No| Yes|\n",
            "+----------------------+----+----+\n",
            "|                    No|1884|1211|\n",
            "|                   Yes|1877| 545|\n",
            "|   No internet service|1413| 113|\n",
            "+----------------------+----+----+\n",
            "\n",
            "+-------------------+----+----+\n",
            "|  TechSupport_Churn|  No| Yes|\n",
            "+-------------------+----+----+\n",
            "|                 No|2027|1446|\n",
            "|                Yes|1734| 310|\n",
            "|No internet service|1413| 113|\n",
            "+-------------------+----+----+\n",
            "\n",
            "+-------------------+----+---+\n",
            "|  StreamingTV_Churn|  No|Yes|\n",
            "+-------------------+----+---+\n",
            "|                 No|1868|942|\n",
            "|                Yes|1893|814|\n",
            "|No internet service|1413|113|\n",
            "+-------------------+----+---+\n",
            "\n",
            "+---------------------+----+---+\n",
            "|StreamingMovies_Churn|  No|Yes|\n",
            "+---------------------+----+---+\n",
            "|                   No|1847|938|\n",
            "|                  Yes|1914|818|\n",
            "|  No internet service|1413|113|\n",
            "+---------------------+----+---+\n",
            "\n",
            "+--------------+----+----+\n",
            "|Contract_Churn|  No| Yes|\n",
            "+--------------+----+----+\n",
            "|Month-to-month|2220|1655|\n",
            "|      One year|1307| 166|\n",
            "|      Two year|1647|  48|\n",
            "+--------------+----+----+\n",
            "\n",
            "+----------------------+----+----+\n",
            "|PaperlessBilling_Churn|  No| Yes|\n",
            "+----------------------+----+----+\n",
            "|                    No|2403| 469|\n",
            "|                   Yes|2771|1400|\n",
            "+----------------------+----+----+\n",
            "\n",
            "+--------------------+----+----+\n",
            "| PaymentMethod_Churn|  No| Yes|\n",
            "+--------------------+----+----+\n",
            "|Credit card (auto...|1290| 232|\n",
            "|        Mailed check|1304| 308|\n",
            "|Bank transfer (au...|1286| 258|\n",
            "|    Electronic check|1294|1071|\n",
            "+--------------------+----+----+\n",
            "\n",
            "+--------------------+---+---+\n",
            "|MonthlyCharges_Churn| No|Yes|\n",
            "+--------------------+---+---+\n",
            "|                58.7|  1|  0|\n",
            "|               83.65|  1|  1|\n",
            "|                78.9|  5|  2|\n",
            "|               102.0|  0|  2|\n",
            "|              110.35|  1|  1|\n",
            "|               110.9|  2|  1|\n",
            "|                73.7|  2|  0|\n",
            "|                91.8|  1|  0|\n",
            "|               36.65|  1|  0|\n",
            "|               91.75|  0|  1|\n",
            "|                34.4|  1|  0|\n",
            "|                20.5| 25|  3|\n",
            "|                69.3|  2|  0|\n",
            "|               60.85|  2|  0|\n",
            "|               26.25|  2|  0|\n",
            "|              101.55|  1|  1|\n",
            "|                45.4|  4|  3|\n",
            "|               49.25|  3|  3|\n",
            "|               105.7|  3|  1|\n",
            "|               91.15|  4|  1|\n",
            "+--------------------+---+---+\n",
            "only showing top 20 rows\n",
            "\n",
            "+------------------+---+---+\n",
            "|TotalCharges_Churn| No|Yes|\n",
            "+------------------+---+---+\n",
            "|              78.9|  1|  0|\n",
            "|            5769.6|  0|  1|\n",
            "|           2633.95|  1|  0|\n",
            "|            3437.5|  1|  0|\n",
            "|            6710.5|  0|  1|\n",
            "|             373.0|  1|  0|\n",
            "|             483.7|  0|  1|\n",
            "|             291.9|  0|  1|\n",
            "|           1612.75|  0|  1|\n",
            "|             723.3|  1|  0|\n",
            "|            3915.4|  1|  0|\n",
            "|             247.0|  1|  0|\n",
            "|            4479.2|  1|  0|\n",
            "|           2768.65|  1|  0|\n",
            "|            600.15|  1|  0|\n",
            "|            936.85|  1|  0|\n",
            "|            2638.1|  1|  0|\n",
            "|            1604.5|  0|  1|\n",
            "|            340.35|  2|  0|\n",
            "|            3055.5|  1|  0|\n",
            "+------------------+---+---+\n",
            "only showing top 20 rows\n",
            "\n"
          ]
        }
      ]
    },
    {
      "cell_type": "code",
      "source": [
        "data = df.select(numerical_col).toPandas()\n",
        "data.head()"
      ],
      "metadata": {
        "colab": {
          "base_uri": "https://localhost:8080/",
          "height": 206
        },
        "id": "v6caBRBep7W-",
        "outputId": "ad0ce635-e0bb-4a64-cf2e-e4566feacc31"
      },
      "execution_count": 71,
      "outputs": [
        {
          "output_type": "execute_result",
          "data": {
            "text/plain": [
              "   MonthlyCharges  TotalCharges  tenure\n",
              "0       29.850000     29.850000     1.0\n",
              "1       56.950001   1889.500000    34.0\n",
              "2       53.849998    108.150002     2.0\n",
              "3       42.299999   1840.750000    45.0\n",
              "4       70.699997    151.649994     2.0"
            ],
            "text/html": [
              "\n",
              "  <div id=\"df-45aedad3-3237-49c7-9f0f-ae9943a735db\" class=\"colab-df-container\">\n",
              "    <div>\n",
              "<style scoped>\n",
              "    .dataframe tbody tr th:only-of-type {\n",
              "        vertical-align: middle;\n",
              "    }\n",
              "\n",
              "    .dataframe tbody tr th {\n",
              "        vertical-align: top;\n",
              "    }\n",
              "\n",
              "    .dataframe thead th {\n",
              "        text-align: right;\n",
              "    }\n",
              "</style>\n",
              "<table border=\"1\" class=\"dataframe\">\n",
              "  <thead>\n",
              "    <tr style=\"text-align: right;\">\n",
              "      <th></th>\n",
              "      <th>MonthlyCharges</th>\n",
              "      <th>TotalCharges</th>\n",
              "      <th>tenure</th>\n",
              "    </tr>\n",
              "  </thead>\n",
              "  <tbody>\n",
              "    <tr>\n",
              "      <th>0</th>\n",
              "      <td>29.850000</td>\n",
              "      <td>29.850000</td>\n",
              "      <td>1.0</td>\n",
              "    </tr>\n",
              "    <tr>\n",
              "      <th>1</th>\n",
              "      <td>56.950001</td>\n",
              "      <td>1889.500000</td>\n",
              "      <td>34.0</td>\n",
              "    </tr>\n",
              "    <tr>\n",
              "      <th>2</th>\n",
              "      <td>53.849998</td>\n",
              "      <td>108.150002</td>\n",
              "      <td>2.0</td>\n",
              "    </tr>\n",
              "    <tr>\n",
              "      <th>3</th>\n",
              "      <td>42.299999</td>\n",
              "      <td>1840.750000</td>\n",
              "      <td>45.0</td>\n",
              "    </tr>\n",
              "    <tr>\n",
              "      <th>4</th>\n",
              "      <td>70.699997</td>\n",
              "      <td>151.649994</td>\n",
              "      <td>2.0</td>\n",
              "    </tr>\n",
              "  </tbody>\n",
              "</table>\n",
              "</div>\n",
              "    <div class=\"colab-df-buttons\">\n",
              "\n",
              "  <div class=\"colab-df-container\">\n",
              "    <button class=\"colab-df-convert\" onclick=\"convertToInteractive('df-45aedad3-3237-49c7-9f0f-ae9943a735db')\"\n",
              "            title=\"Convert this dataframe to an interactive table.\"\n",
              "            style=\"display:none;\">\n",
              "\n",
              "  <svg xmlns=\"http://www.w3.org/2000/svg\" height=\"24px\" viewBox=\"0 -960 960 960\">\n",
              "    <path d=\"M120-120v-720h720v720H120Zm60-500h600v-160H180v160Zm220 220h160v-160H400v160Zm0 220h160v-160H400v160ZM180-400h160v-160H180v160Zm440 0h160v-160H620v160ZM180-180h160v-160H180v160Zm440 0h160v-160H620v160Z\"/>\n",
              "  </svg>\n",
              "    </button>\n",
              "\n",
              "  <style>\n",
              "    .colab-df-container {\n",
              "      display:flex;\n",
              "      gap: 12px;\n",
              "    }\n",
              "\n",
              "    .colab-df-convert {\n",
              "      background-color: #E8F0FE;\n",
              "      border: none;\n",
              "      border-radius: 50%;\n",
              "      cursor: pointer;\n",
              "      display: none;\n",
              "      fill: #1967D2;\n",
              "      height: 32px;\n",
              "      padding: 0 0 0 0;\n",
              "      width: 32px;\n",
              "    }\n",
              "\n",
              "    .colab-df-convert:hover {\n",
              "      background-color: #E2EBFA;\n",
              "      box-shadow: 0px 1px 2px rgba(60, 64, 67, 0.3), 0px 1px 3px 1px rgba(60, 64, 67, 0.15);\n",
              "      fill: #174EA6;\n",
              "    }\n",
              "\n",
              "    .colab-df-buttons div {\n",
              "      margin-bottom: 4px;\n",
              "    }\n",
              "\n",
              "    [theme=dark] .colab-df-convert {\n",
              "      background-color: #3B4455;\n",
              "      fill: #D2E3FC;\n",
              "    }\n",
              "\n",
              "    [theme=dark] .colab-df-convert:hover {\n",
              "      background-color: #434B5C;\n",
              "      box-shadow: 0px 1px 3px 1px rgba(0, 0, 0, 0.15);\n",
              "      filter: drop-shadow(0px 1px 2px rgba(0, 0, 0, 0.3));\n",
              "      fill: #FFFFFF;\n",
              "    }\n",
              "  </style>\n",
              "\n",
              "    <script>\n",
              "      const buttonEl =\n",
              "        document.querySelector('#df-45aedad3-3237-49c7-9f0f-ae9943a735db button.colab-df-convert');\n",
              "      buttonEl.style.display =\n",
              "        google.colab.kernel.accessAllowed ? 'block' : 'none';\n",
              "\n",
              "      async function convertToInteractive(key) {\n",
              "        const element = document.querySelector('#df-45aedad3-3237-49c7-9f0f-ae9943a735db');\n",
              "        const dataTable =\n",
              "          await google.colab.kernel.invokeFunction('convertToInteractive',\n",
              "                                                    [key], {});\n",
              "        if (!dataTable) return;\n",
              "\n",
              "        const docLinkHtml = 'Like what you see? Visit the ' +\n",
              "          '<a target=\"_blank\" href=https://colab.research.google.com/notebooks/data_table.ipynb>data table notebook</a>'\n",
              "          + ' to learn more about interactive tables.';\n",
              "        element.innerHTML = '';\n",
              "        dataTable['output_type'] = 'display_data';\n",
              "        await google.colab.output.renderOutput(dataTable, element);\n",
              "        const docLink = document.createElement('div');\n",
              "        docLink.innerHTML = docLinkHtml;\n",
              "        element.appendChild(docLink);\n",
              "      }\n",
              "    </script>\n",
              "  </div>\n",
              "\n",
              "\n",
              "<div id=\"df-9deb5522-18db-44fb-94b6-d8a37df78e80\">\n",
              "  <button class=\"colab-df-quickchart\" onclick=\"quickchart('df-9deb5522-18db-44fb-94b6-d8a37df78e80')\"\n",
              "            title=\"Suggest charts\"\n",
              "            style=\"display:none;\">\n",
              "\n",
              "<svg xmlns=\"http://www.w3.org/2000/svg\" height=\"24px\"viewBox=\"0 0 24 24\"\n",
              "     width=\"24px\">\n",
              "    <g>\n",
              "        <path d=\"M19 3H5c-1.1 0-2 .9-2 2v14c0 1.1.9 2 2 2h14c1.1 0 2-.9 2-2V5c0-1.1-.9-2-2-2zM9 17H7v-7h2v7zm4 0h-2V7h2v10zm4 0h-2v-4h2v4z\"/>\n",
              "    </g>\n",
              "</svg>\n",
              "  </button>\n",
              "\n",
              "<style>\n",
              "  .colab-df-quickchart {\n",
              "      --bg-color: #E8F0FE;\n",
              "      --fill-color: #1967D2;\n",
              "      --hover-bg-color: #E2EBFA;\n",
              "      --hover-fill-color: #174EA6;\n",
              "      --disabled-fill-color: #AAA;\n",
              "      --disabled-bg-color: #DDD;\n",
              "  }\n",
              "\n",
              "  [theme=dark] .colab-df-quickchart {\n",
              "      --bg-color: #3B4455;\n",
              "      --fill-color: #D2E3FC;\n",
              "      --hover-bg-color: #434B5C;\n",
              "      --hover-fill-color: #FFFFFF;\n",
              "      --disabled-bg-color: #3B4455;\n",
              "      --disabled-fill-color: #666;\n",
              "  }\n",
              "\n",
              "  .colab-df-quickchart {\n",
              "    background-color: var(--bg-color);\n",
              "    border: none;\n",
              "    border-radius: 50%;\n",
              "    cursor: pointer;\n",
              "    display: none;\n",
              "    fill: var(--fill-color);\n",
              "    height: 32px;\n",
              "    padding: 0;\n",
              "    width: 32px;\n",
              "  }\n",
              "\n",
              "  .colab-df-quickchart:hover {\n",
              "    background-color: var(--hover-bg-color);\n",
              "    box-shadow: 0 1px 2px rgba(60, 64, 67, 0.3), 0 1px 3px 1px rgba(60, 64, 67, 0.15);\n",
              "    fill: var(--button-hover-fill-color);\n",
              "  }\n",
              "\n",
              "  .colab-df-quickchart-complete:disabled,\n",
              "  .colab-df-quickchart-complete:disabled:hover {\n",
              "    background-color: var(--disabled-bg-color);\n",
              "    fill: var(--disabled-fill-color);\n",
              "    box-shadow: none;\n",
              "  }\n",
              "\n",
              "  .colab-df-spinner {\n",
              "    border: 2px solid var(--fill-color);\n",
              "    border-color: transparent;\n",
              "    border-bottom-color: var(--fill-color);\n",
              "    animation:\n",
              "      spin 1s steps(1) infinite;\n",
              "  }\n",
              "\n",
              "  @keyframes spin {\n",
              "    0% {\n",
              "      border-color: transparent;\n",
              "      border-bottom-color: var(--fill-color);\n",
              "      border-left-color: var(--fill-color);\n",
              "    }\n",
              "    20% {\n",
              "      border-color: transparent;\n",
              "      border-left-color: var(--fill-color);\n",
              "      border-top-color: var(--fill-color);\n",
              "    }\n",
              "    30% {\n",
              "      border-color: transparent;\n",
              "      border-left-color: var(--fill-color);\n",
              "      border-top-color: var(--fill-color);\n",
              "      border-right-color: var(--fill-color);\n",
              "    }\n",
              "    40% {\n",
              "      border-color: transparent;\n",
              "      border-right-color: var(--fill-color);\n",
              "      border-top-color: var(--fill-color);\n",
              "    }\n",
              "    60% {\n",
              "      border-color: transparent;\n",
              "      border-right-color: var(--fill-color);\n",
              "    }\n",
              "    80% {\n",
              "      border-color: transparent;\n",
              "      border-right-color: var(--fill-color);\n",
              "      border-bottom-color: var(--fill-color);\n",
              "    }\n",
              "    90% {\n",
              "      border-color: transparent;\n",
              "      border-bottom-color: var(--fill-color);\n",
              "    }\n",
              "  }\n",
              "</style>\n",
              "\n",
              "  <script>\n",
              "    async function quickchart(key) {\n",
              "      const quickchartButtonEl =\n",
              "        document.querySelector('#' + key + ' button');\n",
              "      quickchartButtonEl.disabled = true;  // To prevent multiple clicks.\n",
              "      quickchartButtonEl.classList.add('colab-df-spinner');\n",
              "      try {\n",
              "        const charts = await google.colab.kernel.invokeFunction(\n",
              "            'suggestCharts', [key], {});\n",
              "      } catch (error) {\n",
              "        console.error('Error during call to suggestCharts:', error);\n",
              "      }\n",
              "      quickchartButtonEl.classList.remove('colab-df-spinner');\n",
              "      quickchartButtonEl.classList.add('colab-df-quickchart-complete');\n",
              "    }\n",
              "    (() => {\n",
              "      let quickchartButtonEl =\n",
              "        document.querySelector('#df-9deb5522-18db-44fb-94b6-d8a37df78e80 button');\n",
              "      quickchartButtonEl.style.display =\n",
              "        google.colab.kernel.accessAllowed ? 'block' : 'none';\n",
              "    })();\n",
              "  </script>\n",
              "</div>\n",
              "\n",
              "    </div>\n",
              "  </div>\n"
            ],
            "application/vnd.google.colaboratory.intrinsic+json": {
              "type": "dataframe",
              "variable_name": "data",
              "summary": "{\n  \"name\": \"data\",\n  \"rows\": 7043,\n  \"fields\": [\n    {\n      \"column\": \"MonthlyCharges\",\n      \"properties\": {\n        \"dtype\": \"float32\",\n        \"num_unique_values\": 1585,\n        \"samples\": [\n          48.849998474121094,\n          20.049999237060547,\n          36.849998474121094\n        ],\n        \"semantic_type\": \"\",\n        \"description\": \"\"\n      }\n    },\n    {\n      \"column\": \"TotalCharges\",\n      \"properties\": {\n        \"dtype\": \"float32\",\n        \"num_unique_values\": 6530,\n        \"samples\": [\n          5594.0,\n          6840.9501953125,\n          6148.4501953125\n        ],\n        \"semantic_type\": \"\",\n        \"description\": \"\"\n      }\n    },\n    {\n      \"column\": \"tenure\",\n      \"properties\": {\n        \"dtype\": \"float32\",\n        \"num_unique_values\": 74,\n        \"samples\": [\n          8.0,\n          53.0,\n          12.0\n        ],\n        \"semantic_type\": \"\",\n        \"description\": \"\"\n      }\n    }\n  ]\n}"
            }
          },
          "metadata": {},
          "execution_count": 71
        }
      ]
    },
    {
      "cell_type": "code",
      "source": [
        "data.hist(figsize=(16, 20), bins=50, xlabelsize=8, ylabelsize=8);"
      ],
      "metadata": {
        "colab": {
          "base_uri": "https://localhost:8080/",
          "height": 1000
        },
        "id": "voIiLQU5p7ZP",
        "outputId": "51916923-de1f-44f5-ec1d-6b14bc14c49e"
      },
      "execution_count": 75,
      "outputs": [
        {
          "output_type": "display_data",
          "data": {
            "text/plain": [
              "<Figure size 1600x2000 with 4 Axes>"
            ],
            "image/png": "[encoded data removed]"
          },
          "metadata": {}
        }
      ]
    },
    {
      "cell_type": "code",
      "source": [
        "data.tenure.describe()"
      ],
      "metadata": {
        "colab": {
          "base_uri": "https://localhost:8080/",
          "height": 335
        },
        "id": "iaI_EApOp7bX",
        "outputId": "641423a0-dc40-4ffd-de16-4b9e11f941a2"
      },
      "execution_count": 78,
      "outputs": [
        {
          "output_type": "execute_result",
          "data": {
            "text/plain": [
              "count    7043.000000\n",
              "mean       32.435753\n",
              "std        25.075197\n",
              "min         0.000000\n",
              "25%         9.000000\n",
              "50%        29.000000\n",
              "75%        55.000000\n",
              "max       458.000000\n",
              "Name: tenure, dtype: float64"
            ],
            "text/html": [
              "<div>\n",
              "<style scoped>\n",
              "    .dataframe tbody tr th:only-of-type {\n",
              "        vertical-align: middle;\n",
              "    }\n",
              "\n",
              "    .dataframe tbody tr th {\n",
              "        vertical-align: top;\n",
              "    }\n",
              "\n",
              "    .dataframe thead th {\n",
              "        text-align: right;\n",
              "    }\n",
              "</style>\n",
              "<table border=\"1\" class=\"dataframe\">\n",
              "  <thead>\n",
              "    <tr style=\"text-align: right;\">\n",
              "      <th></th>\n",
              "      <th>tenure</th>\n",
              "    </tr>\n",
              "  </thead>\n",
              "  <tbody>\n",
              "    <tr>\n",
              "      <th>count</th>\n",
              "      <td>7043.000000</td>\n",
              "    </tr>\n",
              "    <tr>\n",
              "      <th>mean</th>\n",
              "      <td>32.435753</td>\n",
              "    </tr>\n",
              "    <tr>\n",
              "      <th>std</th>\n",
              "      <td>25.075197</td>\n",
              "    </tr>\n",
              "    <tr>\n",
              "      <th>min</th>\n",
              "      <td>0.000000</td>\n",
              "    </tr>\n",
              "    <tr>\n",
              "      <th>25%</th>\n",
              "      <td>9.000000</td>\n",
              "    </tr>\n",
              "    <tr>\n",
              "      <th>50%</th>\n",
              "      <td>29.000000</td>\n",
              "    </tr>\n",
              "    <tr>\n",
              "      <th>75%</th>\n",
              "      <td>55.000000</td>\n",
              "    </tr>\n",
              "    <tr>\n",
              "      <th>max</th>\n",
              "      <td>458.000000</td>\n",
              "    </tr>\n",
              "  </tbody>\n",
              "</table>\n",
              "</div><br><label><b>dtype:</b> float64</label>"
            ]
          },
          "metadata": {},
          "execution_count": 78
        }
      ]
    },
    {
      "cell_type": "code",
      "source": [
        "data.corr()"
      ],
      "metadata": {
        "colab": {
          "base_uri": "https://localhost:8080/",
          "height": 143
        },
        "id": "uR5iZBZfp7d2",
        "outputId": "e0f5a40a-f3a6-4e4d-d548-421ebc0b9bfa"
      },
      "execution_count": 79,
      "outputs": [
        {
          "output_type": "execute_result",
          "data": {
            "text/plain": [
              "                MonthlyCharges  TotalCharges    tenure\n",
              "MonthlyCharges        1.000000      0.651065  0.243703\n",
              "TotalCharges          0.651065      1.000000  0.806530\n",
              "tenure                0.243703      0.806530  1.000000"
            ],
            "text/html": [
              "\n",
              "  <div id=\"df-f70ee273-5003-4e49-88cc-277189a118ff\" class=\"colab-df-container\">\n",
              "    <div>\n",
              "<style scoped>\n",
              "    .dataframe tbody tr th:only-of-type {\n",
              "        vertical-align: middle;\n",
              "    }\n",
              "\n",
              "    .dataframe tbody tr th {\n",
              "        vertical-align: top;\n",
              "    }\n",
              "\n",
              "    .dataframe thead th {\n",
              "        text-align: right;\n",
              "    }\n",
              "</style>\n",
              "<table border=\"1\" class=\"dataframe\">\n",
              "  <thead>\n",
              "    <tr style=\"text-align: right;\">\n",
              "      <th></th>\n",
              "      <th>MonthlyCharges</th>\n",
              "      <th>TotalCharges</th>\n",
              "      <th>tenure</th>\n",
              "    </tr>\n",
              "  </thead>\n",
              "  <tbody>\n",
              "    <tr>\n",
              "      <th>MonthlyCharges</th>\n",
              "      <td>1.000000</td>\n",
              "      <td>0.651065</td>\n",
              "      <td>0.243703</td>\n",
              "    </tr>\n",
              "    <tr>\n",
              "      <th>TotalCharges</th>\n",
              "      <td>0.651065</td>\n",
              "      <td>1.000000</td>\n",
              "      <td>0.806530</td>\n",
              "    </tr>\n",
              "    <tr>\n",
              "      <th>tenure</th>\n",
              "      <td>0.243703</td>\n",
              "      <td>0.806530</td>\n",
              "      <td>1.000000</td>\n",
              "    </tr>\n",
              "  </tbody>\n",
              "</table>\n",
              "</div>\n",
              "    <div class=\"colab-df-buttons\">\n",
              "\n",
              "  <div class=\"colab-df-container\">\n",
              "    <button class=\"colab-df-convert\" onclick=\"convertToInteractive('df-f70ee273-5003-4e49-88cc-277189a118ff')\"\n",
              "            title=\"Convert this dataframe to an interactive table.\"\n",
              "            style=\"display:none;\">\n",
              "\n",
              "  <svg xmlns=\"http://www.w3.org/2000/svg\" height=\"24px\" viewBox=\"0 -960 960 960\">\n",
              "    <path d=\"M120-120v-720h720v720H120Zm60-500h600v-160H180v160Zm220 220h160v-160H400v160Zm0 220h160v-160H400v160ZM180-400h160v-160H180v160Zm440 0h160v-160H620v160ZM180-180h160v-160H180v160Zm440 0h160v-160H620v160Z\"/>\n",
              "  </svg>\n",
              "    </button>\n",
              "\n",
              "  <style>\n",
              "    .colab-df-container {\n",
              "      display:flex;\n",
              "      gap: 12px;\n",
              "    }\n",
              "\n",
              "    .colab-df-convert {\n",
              "      background-color: #E8F0FE;\n",
              "      border: none;\n",
              "      border-radius: 50%;\n",
              "      cursor: pointer;\n",
              "      display: none;\n",
              "      fill: #1967D2;\n",
              "      height: 32px;\n",
              "      padding: 0 0 0 0;\n",
              "      width: 32px;\n",
              "    }\n",
              "\n",
              "    .colab-df-convert:hover {\n",
              "      background-color: #E2EBFA;\n",
              "      box-shadow: 0px 1px 2px rgba(60, 64, 67, 0.3), 0px 1px 3px 1px rgba(60, 64, 67, 0.15);\n",
              "      fill: #174EA6;\n",
              "    }\n",
              "\n",
              "    .colab-df-buttons div {\n",
              "      margin-bottom: 4px;\n",
              "    }\n",
              "\n",
              "    [theme=dark] .colab-df-convert {\n",
              "      background-color: #3B4455;\n",
              "      fill: #D2E3FC;\n",
              "    }\n",
              "\n",
              "    [theme=dark] .colab-df-convert:hover {\n",
              "      background-color: #434B5C;\n",
              "      box-shadow: 0px 1px 3px 1px rgba(0, 0, 0, 0.15);\n",
              "      filter: drop-shadow(0px 1px 2px rgba(0, 0, 0, 0.3));\n",
              "      fill: #FFFFFF;\n",
              "    }\n",
              "  </style>\n",
              "\n",
              "    <script>\n",
              "      const buttonEl =\n",
              "        document.querySelector('#df-f70ee273-5003-4e49-88cc-277189a118ff button.colab-df-convert');\n",
              "      buttonEl.style.display =\n",
              "        google.colab.kernel.accessAllowed ? 'block' : 'none';\n",
              "\n",
              "      async function convertToInteractive(key) {\n",
              "        const element = document.querySelector('#df-f70ee273-5003-4e49-88cc-277189a118ff');\n",
              "        const dataTable =\n",
              "          await google.colab.kernel.invokeFunction('convertToInteractive',\n",
              "                                                    [key], {});\n",
              "        if (!dataTable) return;\n",
              "\n",
              "        const docLinkHtml = 'Like what you see? Visit the ' +\n",
              "          '<a target=\"_blank\" href=https://colab.research.google.com/notebooks/data_table.ipynb>data table notebook</a>'\n",
              "          + ' to learn more about interactive tables.';\n",
              "        element.innerHTML = '';\n",
              "        dataTable['output_type'] = 'display_data';\n",
              "        await google.colab.output.renderOutput(dataTable, element);\n",
              "        const docLink = document.createElement('div');\n",
              "        docLink.innerHTML = docLinkHtml;\n",
              "        element.appendChild(docLink);\n",
              "      }\n",
              "    </script>\n",
              "  </div>\n",
              "\n",
              "\n",
              "<div id=\"df-831a5487-7b0a-4264-a712-247c7806850a\">\n",
              "  <button class=\"colab-df-quickchart\" onclick=\"quickchart('df-831a5487-7b0a-4264-a712-247c7806850a')\"\n",
              "            title=\"Suggest charts\"\n",
              "            style=\"display:none;\">\n",
              "\n",
              "<svg xmlns=\"http://www.w3.org/2000/svg\" height=\"24px\"viewBox=\"0 0 24 24\"\n",
              "     width=\"24px\">\n",
              "    <g>\n",
              "        <path d=\"M19 3H5c-1.1 0-2 .9-2 2v14c0 1.1.9 2 2 2h14c1.1 0 2-.9 2-2V5c0-1.1-.9-2-2-2zM9 17H7v-7h2v7zm4 0h-2V7h2v10zm4 0h-2v-4h2v4z\"/>\n",
              "    </g>\n",
              "</svg>\n",
              "  </button>\n",
              "\n",
              "<style>\n",
              "  .colab-df-quickchart {\n",
              "      --bg-color: #E8F0FE;\n",
              "      --fill-color: #1967D2;\n",
              "      --hover-bg-color: #E2EBFA;\n",
              "      --hover-fill-color: #174EA6;\n",
              "      --disabled-fill-color: #AAA;\n",
              "      --disabled-bg-color: #DDD;\n",
              "  }\n",
              "\n",
              "  [theme=dark] .colab-df-quickchart {\n",
              "      --bg-color: #3B4455;\n",
              "      --fill-color: #D2E3FC;\n",
              "      --hover-bg-color: #434B5C;\n",
              "      --hover-fill-color: #FFFFFF;\n",
              "      --disabled-bg-color: #3B4455;\n",
              "      --disabled-fill-color: #666;\n",
              "  }\n",
              "\n",
              "  .colab-df-quickchart {\n",
              "    background-color: var(--bg-color);\n",
              "    border: none;\n",
              "    border-radius: 50%;\n",
              "    cursor: pointer;\n",
              "    display: none;\n",
              "    fill: var(--fill-color);\n",
              "    height: 32px;\n",
              "    padding: 0;\n",
              "    width: 32px;\n",
              "  }\n",
              "\n",
              "  .colab-df-quickchart:hover {\n",
              "    background-color: var(--hover-bg-color);\n",
              "    box-shadow: 0 1px 2px rgba(60, 64, 67, 0.3), 0 1px 3px 1px rgba(60, 64, 67, 0.15);\n",
              "    fill: var(--button-hover-fill-color);\n",
              "  }\n",
              "\n",
              "  .colab-df-quickchart-complete:disabled,\n",
              "  .colab-df-quickchart-complete:disabled:hover {\n",
              "    background-color: var(--disabled-bg-color);\n",
              "    fill: var(--disabled-fill-color);\n",
              "    box-shadow: none;\n",
              "  }\n",
              "\n",
              "  .colab-df-spinner {\n",
              "    border: 2px solid var(--fill-color);\n",
              "    border-color: transparent;\n",
              "    border-bottom-color: var(--fill-color);\n",
              "    animation:\n",
              "      spin 1s steps(1) infinite;\n",
              "  }\n",
              "\n",
              "  @keyframes spin {\n",
              "    0% {\n",
              "      border-color: transparent;\n",
              "      border-bottom-color: var(--fill-color);\n",
              "      border-left-color: var(--fill-color);\n",
              "    }\n",
              "    20% {\n",
              "      border-color: transparent;\n",
              "      border-left-color: var(--fill-color);\n",
              "      border-top-color: var(--fill-color);\n",
              "    }\n",
              "    30% {\n",
              "      border-color: transparent;\n",
              "      border-left-color: var(--fill-color);\n",
              "      border-top-color: var(--fill-color);\n",
              "      border-right-color: var(--fill-color);\n",
              "    }\n",
              "    40% {\n",
              "      border-color: transparent;\n",
              "      border-right-color: var(--fill-color);\n",
              "      border-top-color: var(--fill-color);\n",
              "    }\n",
              "    60% {\n",
              "      border-color: transparent;\n",
              "      border-right-color: var(--fill-color);\n",
              "    }\n",
              "    80% {\n",
              "      border-color: transparent;\n",
              "      border-right-color: var(--fill-color);\n",
              "      border-bottom-color: var(--fill-color);\n",
              "    }\n",
              "    90% {\n",
              "      border-color: transparent;\n",
              "      border-bottom-color: var(--fill-color);\n",
              "    }\n",
              "  }\n",
              "</style>\n",
              "\n",
              "  <script>\n",
              "    async function quickchart(key) {\n",
              "      const quickchartButtonEl =\n",
              "        document.querySelector('#' + key + ' button');\n",
              "      quickchartButtonEl.disabled = true;  // To prevent multiple clicks.\n",
              "      quickchartButtonEl.classList.add('colab-df-spinner');\n",
              "      try {\n",
              "        const charts = await google.colab.kernel.invokeFunction(\n",
              "            'suggestCharts', [key], {});\n",
              "      } catch (error) {\n",
              "        console.error('Error during call to suggestCharts:', error);\n",
              "      }\n",
              "      quickchartButtonEl.classList.remove('colab-df-spinner');\n",
              "      quickchartButtonEl.classList.add('colab-df-quickchart-complete');\n",
              "    }\n",
              "    (() => {\n",
              "      let quickchartButtonEl =\n",
              "        document.querySelector('#df-831a5487-7b0a-4264-a712-247c7806850a button');\n",
              "      quickchartButtonEl.style.display =\n",
              "        google.colab.kernel.accessAllowed ? 'block' : 'none';\n",
              "    })();\n",
              "  </script>\n",
              "</div>\n",
              "\n",
              "    </div>\n",
              "  </div>\n"
            ],
            "application/vnd.google.colaboratory.intrinsic+json": {
              "type": "dataframe",
              "summary": "{\n  \"name\": \"data\",\n  \"rows\": 3,\n  \"fields\": [\n    {\n      \"column\": \"MonthlyCharges\",\n      \"properties\": {\n        \"dtype\": \"number\",\n        \"std\": 0.3785241982517191,\n        \"min\": 0.24370349436721236,\n        \"max\": 1.0,\n        \"num_unique_values\": 3,\n        \"samples\": [\n          1.0,\n          0.65106480354624,\n          0.24370349436721236\n        ],\n        \"semantic_type\": \"\",\n        \"description\": \"\"\n      }\n    },\n    {\n      \"column\": \"TotalCharges\",\n      \"properties\": {\n        \"dtype\": \"number\",\n        \"std\": 0.17481219640108495,\n        \"min\": 0.65106480354624,\n        \"max\": 1.0,\n        \"num_unique_values\": 3,\n        \"samples\": [\n          0.65106480354624,\n          1.0,\n          0.8065302035174865\n        ],\n        \"semantic_type\": \"\",\n        \"description\": \"\"\n      }\n    },\n    {\n      \"column\": \"tenure\",\n      \"properties\": {\n        \"dtype\": \"number\",\n        \"std\": 0.39289287579786036,\n        \"min\": 0.24370349436721236,\n        \"max\": 1.0,\n        \"num_unique_values\": 3,\n        \"samples\": [\n          0.24370349436721236,\n          0.8065302035174865,\n          1.0\n        ],\n        \"semantic_type\": \"\",\n        \"description\": \"\"\n      }\n    }\n  ]\n}"
            }
          },
          "metadata": {},
          "execution_count": 79
        }
      ]
    },
    {
      "cell_type": "code",
      "source": [
        "cat_data = df.select(categorical_col)\n",
        "cat_data.show()"
      ],
      "metadata": {
        "colab": {
          "base_uri": "https://localhost:8080/"
        },
        "id": "byKm29Ffp7iW",
        "outputId": "8dafcb59-425d-4a91-9311-686eb804b3be"
      },
      "execution_count": 85,
      "outputs": [
        {
          "output_type": "stream",
          "name": "stdout",
          "text": [
            "+----------+------+-------------+-------+----------+------------+----------------+---------------+-------------------+-------------------+-------------------+-------------------+-------------------+-------------------+--------------+----------------+--------------------+-----+\n",
            "|customerID|gender|SeniorCitizen|Partner|Dependents|PhoneService|   MultipleLines|InternetService|     OnlineSecurity|       OnlineBackup|   DeviceProtection|        TechSupport|        StreamingTV|    StreamingMovies|      Contract|PaperlessBilling|       PaymentMethod|Churn|\n",
            "+----------+------+-------------+-------+----------+------------+----------------+---------------+-------------------+-------------------+-------------------+-------------------+-------------------+-------------------+--------------+----------------+--------------------+-----+\n",
            "|7590-VHVEG|Female|           No|    Yes|        No|          No|No phone service|            DSL|                 No|                Yes|                 No|                 No|                 No|                 No|Month-to-month|             Yes|    Electronic check|   No|\n",
            "|5575-GNVDE|  Male|           No|     No|        No|         Yes|              No|            DSL|                Yes|                 No|                Yes|                 No|                 No|                 No|      One year|              No|        Mailed check|   No|\n",
            "|3668-QPYBK|  Male|           No|     No|        No|         Yes|              No|            DSL|                Yes|                Yes|                 No|                 No|                 No|                 No|Month-to-month|             Yes|        Mailed check|  Yes|\n",
            "|7795-CFOCW|  Male|           No|     No|        No|          No|No phone service|            DSL|                Yes|                 No|                Yes|                Yes|                 No|                 No|      One year|              No|Bank transfer (au...|   No|\n",
            "|9237-HQITU|Female|           No|     No|        No|         Yes|              No|    Fiber optic|                 No|                 No|                 No|                 No|                 No|                 No|Month-to-month|             Yes|    Electronic check|  Yes|\n",
            "|9305-CDSKC|Female|           No|     No|        No|         Yes|             Yes|    Fiber optic|                 No|                 No|                Yes|                 No|                Yes|                Yes|Month-to-month|             Yes|    Electronic check|  Yes|\n",
            "|1452-KIOVK|  Male|           No|     No|       Yes|         Yes|             Yes|    Fiber optic|                 No|                Yes|                 No|                 No|                Yes|                 No|Month-to-month|             Yes|Credit card (auto...|   No|\n",
            "|6713-OKOMC|Female|           No|     No|        No|          No|No phone service|            DSL|                Yes|                 No|                 No|                 No|                 No|                 No|Month-to-month|              No|        Mailed check|   No|\n",
            "|7892-POOKP|Female|           No|    Yes|        No|         Yes|             Yes|    Fiber optic|                 No|                 No|                Yes|                Yes|                Yes|                Yes|Month-to-month|             Yes|    Electronic check|  Yes|\n",
            "|6388-TABGU|  Male|           No|     No|       Yes|         Yes|              No|            DSL|                Yes|                Yes|                 No|                 No|                 No|                 No|      One year|              No|Bank transfer (au...|   No|\n",
            "|9763-GRSKD|  Male|           No|    Yes|       Yes|         Yes|              No|            DSL|                Yes|                 No|                 No|                 No|                 No|                 No|Month-to-month|             Yes|        Mailed check|   No|\n",
            "|7469-LKBCI|  Male|           No|     No|        No|         Yes|              No|             No|No internet service|No internet service|No internet service|No internet service|No internet service|No internet service|      Two year|              No|Credit card (auto...|   No|\n",
            "|8091-TTVAX|  Male|           No|    Yes|        No|         Yes|             Yes|    Fiber optic|                 No|                 No|                Yes|                 No|                Yes|                Yes|      One year|              No|Credit card (auto...|   No|\n",
            "|0280-XJGEX|  Male|           No|     No|        No|         Yes|             Yes|    Fiber optic|                 No|                Yes|                Yes|                 No|                Yes|                Yes|Month-to-month|             Yes|Bank transfer (au...|  Yes|\n",
            "|5129-JLPIS|  Male|           No|     No|        No|         Yes|              No|    Fiber optic|                Yes|                 No|                Yes|                Yes|                Yes|                Yes|Month-to-month|             Yes|    Electronic check|   No|\n",
            "|3655-SNQYZ|Female|           No|    Yes|       Yes|         Yes|             Yes|    Fiber optic|                Yes|                Yes|                Yes|                Yes|                Yes|                Yes|      Two year|              No|Credit card (auto...|   No|\n",
            "|8191-XWSZG|Female|           No|     No|        No|         Yes|              No|             No|No internet service|No internet service|No internet service|No internet service|No internet service|No internet service|      One year|              No|        Mailed check|   No|\n",
            "|9959-WOFKT|  Male|           No|     No|       Yes|         Yes|             Yes|    Fiber optic|                Yes|                 No|                Yes|                 No|                Yes|                Yes|      Two year|              No|Bank transfer (au...|   No|\n",
            "|4190-MFLUW|Female|           No|    Yes|       Yes|         Yes|              No|            DSL|                 No|                 No|                Yes|                Yes|                 No|                 No|Month-to-month|              No|Credit card (auto...|  Yes|\n",
            "|4183-MYFRB|Female|           No|     No|        No|         Yes|              No|    Fiber optic|                 No|                Yes|                Yes|                 No|                 No|                Yes|Month-to-month|             Yes|    Electronic check|   No|\n",
            "+----------+------+-------------+-------+----------+------------+----------------+---------------+-------------------+-------------------+-------------------+-------------------+-------------------+-------------------+--------------+----------------+--------------------+-----+\n",
            "only showing top 20 rows\n",
            "\n"
          ]
        }
      ]
    },
    {
      "cell_type": "code",
      "source": [
        "for col1 in cat_data.columns:\n",
        "  cat_data.groupBy(col1).count().orderBy('count', ascending=False).show()"
      ],
      "metadata": {
        "colab": {
          "base_uri": "https://localhost:8080/"
        },
        "id": "lImWjSGhp7kf",
        "outputId": "53407789-83aa-4063-df5b-8c123f056978"
      },
      "execution_count": 89,
      "outputs": [
        {
          "output_type": "stream",
          "name": "stdout",
          "text": [
            "+----------+-----+\n",
            "|customerID|count|\n",
            "+----------+-----+\n",
            "|3668-QPYBK|    1|\n",
            "|6234-RAAPL|    1|\n",
            "|1894-IGFSG|    1|\n",
            "|6982-SSHFK|    1|\n",
            "|5859-HZYLF|    1|\n",
            "|6479-OAUSD|    1|\n",
            "|2592-YKDIF|    1|\n",
            "|6718-BDGHG|    1|\n",
            "|3195-TQDZX|    1|\n",
            "|4248-QPAVC|    1|\n",
            "|5668-MEISB|    1|\n",
            "|5802-ADBRC|    1|\n",
            "|2712-SYWAY|    1|\n",
            "|2011-TRQYE|    1|\n",
            "|7244-KXYZN|    1|\n",
            "|0953-LGOVU|    1|\n",
            "|3623-FQBOX|    1|\n",
            "|3692-JHONH|    1|\n",
            "|3528-HFRIQ|    1|\n",
            "|7661-CPURM|    1|\n",
            "+----------+-----+\n",
            "only showing top 20 rows\n",
            "\n",
            "+------+-----+\n",
            "|gender|count|\n",
            "+------+-----+\n",
            "|  Male| 3555|\n",
            "|Female| 3488|\n",
            "+------+-----+\n",
            "\n",
            "+-------------+-----+\n",
            "|SeniorCitizen|count|\n",
            "+-------------+-----+\n",
            "|           No| 5901|\n",
            "|          Yes| 1142|\n",
            "+-------------+-----+\n",
            "\n",
            "+-------+-----+\n",
            "|Partner|count|\n",
            "+-------+-----+\n",
            "|     No| 3641|\n",
            "|    Yes| 3402|\n",
            "+-------+-----+\n",
            "\n",
            "+----------+-----+\n",
            "|Dependents|count|\n",
            "+----------+-----+\n",
            "|        No| 4933|\n",
            "|       Yes| 2110|\n",
            "+----------+-----+\n",
            "\n",
            "+------------+-----+\n",
            "|PhoneService|count|\n",
            "+------------+-----+\n",
            "|         Yes| 6361|\n",
            "|          No|  682|\n",
            "+------------+-----+\n",
            "\n",
            "+----------------+-----+\n",
            "|   MultipleLines|count|\n",
            "+----------------+-----+\n",
            "|              No| 3390|\n",
            "|             Yes| 2971|\n",
            "|No phone service|  682|\n",
            "+----------------+-----+\n",
            "\n",
            "+---------------+-----+\n",
            "|InternetService|count|\n",
            "+---------------+-----+\n",
            "|    Fiber optic| 3096|\n",
            "|            DSL| 2421|\n",
            "|             No| 1526|\n",
            "+---------------+-----+\n",
            "\n",
            "+-------------------+-----+\n",
            "|     OnlineSecurity|count|\n",
            "+-------------------+-----+\n",
            "|                 No| 3498|\n",
            "|                Yes| 2019|\n",
            "|No internet service| 1526|\n",
            "+-------------------+-----+\n",
            "\n",
            "+-------------------+-----+\n",
            "|       OnlineBackup|count|\n",
            "+-------------------+-----+\n",
            "|                 No| 3088|\n",
            "|                Yes| 2429|\n",
            "|No internet service| 1526|\n",
            "+-------------------+-----+\n",
            "\n",
            "+-------------------+-----+\n",
            "|   DeviceProtection|count|\n",
            "+-------------------+-----+\n",
            "|                 No| 3095|\n",
            "|                Yes| 2422|\n",
            "|No internet service| 1526|\n",
            "+-------------------+-----+\n",
            "\n",
            "+-------------------+-----+\n",
            "|        TechSupport|count|\n",
            "+-------------------+-----+\n",
            "|                 No| 3473|\n",
            "|                Yes| 2044|\n",
            "|No internet service| 1526|\n",
            "+-------------------+-----+\n",
            "\n",
            "+-------------------+-----+\n",
            "|        StreamingTV|count|\n",
            "+-------------------+-----+\n",
            "|                 No| 2810|\n",
            "|                Yes| 2707|\n",
            "|No internet service| 1526|\n",
            "+-------------------+-----+\n",
            "\n",
            "+-------------------+-----+\n",
            "|    StreamingMovies|count|\n",
            "+-------------------+-----+\n",
            "|                 No| 2785|\n",
            "|                Yes| 2732|\n",
            "|No internet service| 1526|\n",
            "+-------------------+-----+\n",
            "\n",
            "+--------------+-----+\n",
            "|      Contract|count|\n",
            "+--------------+-----+\n",
            "|Month-to-month| 3875|\n",
            "|      Two year| 1695|\n",
            "|      One year| 1473|\n",
            "+--------------+-----+\n",
            "\n",
            "+----------------+-----+\n",
            "|PaperlessBilling|count|\n",
            "+----------------+-----+\n",
            "|             Yes| 4171|\n",
            "|              No| 2872|\n",
            "+----------------+-----+\n",
            "\n",
            "+--------------------+-----+\n",
            "|       PaymentMethod|count|\n",
            "+--------------------+-----+\n",
            "|    Electronic check| 2365|\n",
            "|        Mailed check| 1612|\n",
            "|Bank transfer (au...| 1544|\n",
            "|Credit card (auto...| 1522|\n",
            "+--------------------+-----+\n",
            "\n",
            "+-----+-----+\n",
            "|Churn|count|\n",
            "+-----+-----+\n",
            "|   No| 5174|\n",
            "|  Yes| 1869|\n",
            "+-----+-----+\n",
            "\n"
          ]
        }
      ]
    },
    {
      "cell_type": "code",
      "source": [
        "cat_data.summary().show()"
      ],
      "metadata": {
        "colab": {
          "base_uri": "https://localhost:8080/"
        },
        "id": "XqbzmrVOp7mv",
        "outputId": "7e3be56e-2ae8-483b-a8d6-498d89a8b021"
      },
      "execution_count": 88,
      "outputs": [
        {
          "output_type": "stream",
          "name": "stdout",
          "text": [
            "+-------+----------+------+-------------+-------+----------+------------+-------------+---------------+--------------+------------+----------------+-----------+-----------+---------------+--------------+----------------+--------------------+-----+\n",
            "|summary|customerID|gender|SeniorCitizen|Partner|Dependents|PhoneService|MultipleLines|InternetService|OnlineSecurity|OnlineBackup|DeviceProtection|TechSupport|StreamingTV|StreamingMovies|      Contract|PaperlessBilling|       PaymentMethod|Churn|\n",
            "+-------+----------+------+-------------+-------+----------+------------+-------------+---------------+--------------+------------+----------------+-----------+-----------+---------------+--------------+----------------+--------------------+-----+\n",
            "|  count|      7043|  7043|         7043|   7043|      7043|        7043|         7043|           7043|          7043|        7043|            7043|       7043|       7043|           7043|          7043|            7043|                7043| 7043|\n",
            "|   mean|      NULL|  NULL|         NULL|   NULL|      NULL|        NULL|         NULL|           NULL|          NULL|        NULL|            NULL|       NULL|       NULL|           NULL|          NULL|            NULL|                NULL| NULL|\n",
            "| stddev|      NULL|  NULL|         NULL|   NULL|      NULL|        NULL|         NULL|           NULL|          NULL|        NULL|            NULL|       NULL|       NULL|           NULL|          NULL|            NULL|                NULL| NULL|\n",
            "|    min|0002-ORFBO|Female|           No|     No|        No|          No|           No|            DSL|            No|          No|              No|         No|         No|             No|Month-to-month|              No|Bank transfer (au...|   No|\n",
            "|    25%|      NULL|  NULL|         NULL|   NULL|      NULL|        NULL|         NULL|           NULL|          NULL|        NULL|            NULL|       NULL|       NULL|           NULL|          NULL|            NULL|                NULL| NULL|\n",
            "|    50%|      NULL|  NULL|         NULL|   NULL|      NULL|        NULL|         NULL|           NULL|          NULL|        NULL|            NULL|       NULL|       NULL|           NULL|          NULL|            NULL|                NULL| NULL|\n",
            "|    75%|      NULL|  NULL|         NULL|   NULL|      NULL|        NULL|         NULL|           NULL|          NULL|        NULL|            NULL|       NULL|       NULL|           NULL|          NULL|            NULL|                NULL| NULL|\n",
            "|    max|9995-HOTOH|  Male|          Yes|    Yes|       Yes|         Yes|          Yes|             No|           Yes|         Yes|             Yes|        Yes|        Yes|            Yes|      Two year|             Yes|        Mailed check|  Yes|\n",
            "+-------+----------+------+-------------+-------+----------+------------+-------------+---------------+--------------+------------+----------------+-----------+-----------+---------------+--------------+----------------+--------------------+-----+\n",
            "\n"
          ]
        }
      ]
    },
    {
      "cell_type": "code",
      "source": [
        "for column in cat_data.columns:\n",
        "  cat_data.select(count(when(col(column).isNull(), column)).alias(column)).show()"
      ],
      "metadata": {
        "colab": {
          "base_uri": "https://localhost:8080/"
        },
        "id": "UFGtZ2K4orfN",
        "outputId": "f456824f-923e-48fb-a934-a589e8c9c5bd"
      },
      "execution_count": 100,
      "outputs": [
        {
          "output_type": "stream",
          "name": "stdout",
          "text": [
            "+----------+\n",
            "|customerID|\n",
            "+----------+\n",
            "|         0|\n",
            "+----------+\n",
            "\n",
            "+------+\n",
            "|gender|\n",
            "+------+\n",
            "|     0|\n",
            "+------+\n",
            "\n",
            "+-------------+\n",
            "|SeniorCitizen|\n",
            "+-------------+\n",
            "|            0|\n",
            "+-------------+\n",
            "\n",
            "+-------+\n",
            "|Partner|\n",
            "+-------+\n",
            "|      0|\n",
            "+-------+\n",
            "\n",
            "+----------+\n",
            "|Dependents|\n",
            "+----------+\n",
            "|         0|\n",
            "+----------+\n",
            "\n",
            "+------------+\n",
            "|PhoneService|\n",
            "+------------+\n",
            "|           0|\n",
            "+------------+\n",
            "\n",
            "+-------------+\n",
            "|MultipleLines|\n",
            "+-------------+\n",
            "|            0|\n",
            "+-------------+\n",
            "\n",
            "+---------------+\n",
            "|InternetService|\n",
            "+---------------+\n",
            "|              0|\n",
            "+---------------+\n",
            "\n",
            "+--------------+\n",
            "|OnlineSecurity|\n",
            "+--------------+\n",
            "|             0|\n",
            "+--------------+\n",
            "\n",
            "+------------+\n",
            "|OnlineBackup|\n",
            "+------------+\n",
            "|           0|\n",
            "+------------+\n",
            "\n",
            "+----------------+\n",
            "|DeviceProtection|\n",
            "+----------------+\n",
            "|               0|\n",
            "+----------------+\n",
            "\n",
            "+-----------+\n",
            "|TechSupport|\n",
            "+-----------+\n",
            "|          0|\n",
            "+-----------+\n",
            "\n",
            "+-----------+\n",
            "|StreamingTV|\n",
            "+-----------+\n",
            "|          0|\n",
            "+-----------+\n",
            "\n",
            "+---------------+\n",
            "|StreamingMovies|\n",
            "+---------------+\n",
            "|              0|\n",
            "+---------------+\n",
            "\n",
            "+--------+\n",
            "|Contract|\n",
            "+--------+\n",
            "|       0|\n",
            "+--------+\n",
            "\n",
            "+----------------+\n",
            "|PaperlessBilling|\n",
            "+----------------+\n",
            "|               0|\n",
            "+----------------+\n",
            "\n",
            "+-------------+\n",
            "|PaymentMethod|\n",
            "+-------------+\n",
            "|            0|\n",
            "+-------------+\n",
            "\n",
            "+-----+\n",
            "|Churn|\n",
            "+-----+\n",
            "|    0|\n",
            "+-----+\n",
            "\n"
          ]
        }
      ]
    },
    {
      "cell_type": "code",
      "source": [
        "df.printSchema()"
      ],
      "metadata": {
        "colab": {
          "base_uri": "https://localhost:8080/"
        },
        "id": "QZNT6ELSwffJ",
        "outputId": "8b33ba47-d88c-4495-a5cb-ed5c7f5e6ce2"
      },
      "execution_count": 101,
      "outputs": [
        {
          "output_type": "stream",
          "name": "stdout",
          "text": [
            "root\n",
            " |-- customerID: string (nullable = true)\n",
            " |-- gender: string (nullable = true)\n",
            " |-- SeniorCitizen: string (nullable = true)\n",
            " |-- Partner: string (nullable = true)\n",
            " |-- Dependents: string (nullable = true)\n",
            " |-- tenure: float (nullable = true)\n",
            " |-- PhoneService: string (nullable = true)\n",
            " |-- MultipleLines: string (nullable = true)\n",
            " |-- InternetService: string (nullable = true)\n",
            " |-- OnlineSecurity: string (nullable = true)\n",
            " |-- OnlineBackup: string (nullable = true)\n",
            " |-- DeviceProtection: string (nullable = true)\n",
            " |-- TechSupport: string (nullable = true)\n",
            " |-- StreamingTV: string (nullable = true)\n",
            " |-- StreamingMovies: string (nullable = true)\n",
            " |-- Contract: string (nullable = true)\n",
            " |-- PaperlessBilling: string (nullable = true)\n",
            " |-- PaymentMethod: string (nullable = true)\n",
            " |-- MonthlyCharges: float (nullable = true)\n",
            " |-- TotalCharges: float (nullable = true)\n",
            " |-- Churn: string (nullable = true)\n",
            "\n"
          ]
        }
      ]
    },
    {
      "cell_type": "code",
      "source": [
        "from pyspark.sql.functions import col\n",
        "\n",
        "\n",
        "df = df.withColumn(\"TotalCharges\", col(\"TotalCharges\").cast(\"float\"))\n",
        "\n",
        "\n",
        "impute_column = ['TotalCharges']\n",
        "imputer = Imputer(inputCols=impute_column, outputCols=impute_column, strategy='mean')\n",
        "model = imputer.fit(df).transform(df)\n",
        "\n",
        "model.show()\n",
        "\n",
        "\n"
      ],
      "metadata": {
        "colab": {
          "base_uri": "https://localhost:8080/"
        },
        "id": "8J-8KKnGwi7w",
        "outputId": "62c52730-27bb-4775-86a7-6497c75c9b08"
      },
      "execution_count": 126,
      "outputs": [
        {
          "output_type": "stream",
          "name": "stdout",
          "text": [
            "+----------+------+-------------+-------+----------+------+------------+----------------+---------------+-------------------+-------------------+-------------------+-------------------+-------------------+-------------------+--------------+----------------+--------------------+--------------+------------+-----+\n",
            "|customerID|gender|SeniorCitizen|Partner|Dependents|tenure|PhoneService|   MultipleLines|InternetService|     OnlineSecurity|       OnlineBackup|   DeviceProtection|        TechSupport|        StreamingTV|    StreamingMovies|      Contract|PaperlessBilling|       PaymentMethod|MonthlyCharges|TotalCharges|Churn|\n",
            "+----------+------+-------------+-------+----------+------+------------+----------------+---------------+-------------------+-------------------+-------------------+-------------------+-------------------+-------------------+--------------+----------------+--------------------+--------------+------------+-----+\n",
            "|7590-VHVEG|Female|           No|    Yes|        No|   1.0|          No|No phone service|            DSL|                 No|                Yes|                 No|                 No|                 No|                 No|Month-to-month|             Yes|    Electronic check|         29.85|       29.85|   No|\n",
            "|5575-GNVDE|  Male|           No|     No|        No|  34.0|         Yes|              No|            DSL|                Yes|                 No|                Yes|                 No|                 No|                 No|      One year|              No|        Mailed check|         56.95|      1889.5|   No|\n",
            "|3668-QPYBK|  Male|           No|     No|        No|   2.0|         Yes|              No|            DSL|                Yes|                Yes|                 No|                 No|                 No|                 No|Month-to-month|             Yes|        Mailed check|         53.85|      108.15|  Yes|\n",
            "|7795-CFOCW|  Male|           No|     No|        No|  45.0|          No|No phone service|            DSL|                Yes|                 No|                Yes|                Yes|                 No|                 No|      One year|              No|Bank transfer (au...|          42.3|     1840.75|   No|\n",
            "|9237-HQITU|Female|           No|     No|        No|   2.0|         Yes|              No|    Fiber optic|                 No|                 No|                 No|                 No|                 No|                 No|Month-to-month|             Yes|    Electronic check|          70.7|      151.65|  Yes|\n",
            "|9305-CDSKC|Female|           No|     No|        No|   8.0|         Yes|             Yes|    Fiber optic|                 No|                 No|                Yes|                 No|                Yes|                Yes|Month-to-month|             Yes|    Electronic check|         99.65|       820.5|  Yes|\n",
            "|1452-KIOVK|  Male|           No|     No|       Yes|  22.0|         Yes|             Yes|    Fiber optic|                 No|                Yes|                 No|                 No|                Yes|                 No|Month-to-month|             Yes|Credit card (auto...|          89.1|      1949.4|   No|\n",
            "|6713-OKOMC|Female|           No|     No|        No|  10.0|          No|No phone service|            DSL|                Yes|                 No|                 No|                 No|                 No|                 No|Month-to-month|              No|        Mailed check|         29.75|       301.9|   No|\n",
            "|7892-POOKP|Female|           No|    Yes|        No|  28.0|         Yes|             Yes|    Fiber optic|                 No|                 No|                Yes|                Yes|                Yes|                Yes|Month-to-month|             Yes|    Electronic check|         104.8|     3046.05|  Yes|\n",
            "|6388-TABGU|  Male|           No|     No|       Yes|  62.0|         Yes|              No|            DSL|                Yes|                Yes|                 No|                 No|                 No|                 No|      One year|              No|Bank transfer (au...|         56.15|     3487.95|   No|\n",
            "|9763-GRSKD|  Male|           No|    Yes|       Yes|  13.0|         Yes|              No|            DSL|                Yes|                 No|                 No|                 No|                 No|                 No|Month-to-month|             Yes|        Mailed check|         49.95|      587.45|   No|\n",
            "|7469-LKBCI|  Male|           No|     No|        No|  16.0|         Yes|              No|             No|No internet service|No internet service|No internet service|No internet service|No internet service|No internet service|      Two year|              No|Credit card (auto...|         18.95|       326.8|   No|\n",
            "|8091-TTVAX|  Male|           No|    Yes|        No|  58.0|         Yes|             Yes|    Fiber optic|                 No|                 No|                Yes|                 No|                Yes|                Yes|      One year|              No|Credit card (auto...|        100.35|      5681.1|   No|\n",
            "|0280-XJGEX|  Male|           No|     No|        No|  49.0|         Yes|             Yes|    Fiber optic|                 No|                Yes|                Yes|                 No|                Yes|                Yes|Month-to-month|             Yes|Bank transfer (au...|         103.7|      5036.3|  Yes|\n",
            "|5129-JLPIS|  Male|           No|     No|        No|  25.0|         Yes|              No|    Fiber optic|                Yes|                 No|                Yes|                Yes|                Yes|                Yes|Month-to-month|             Yes|    Electronic check|         105.5|     2686.05|   No|\n",
            "|3655-SNQYZ|Female|           No|    Yes|       Yes|  69.0|         Yes|             Yes|    Fiber optic|                Yes|                Yes|                Yes|                Yes|                Yes|                Yes|      Two year|              No|Credit card (auto...|        113.25|     7895.15|   No|\n",
            "|8191-XWSZG|Female|           No|     No|        No|  52.0|         Yes|              No|             No|No internet service|No internet service|No internet service|No internet service|No internet service|No internet service|      One year|              No|        Mailed check|         20.65|     1022.95|   No|\n",
            "|9959-WOFKT|  Male|           No|     No|       Yes|  71.0|         Yes|             Yes|    Fiber optic|                Yes|                 No|                Yes|                 No|                Yes|                Yes|      Two year|              No|Bank transfer (au...|         106.7|     7382.25|   No|\n",
            "|4190-MFLUW|Female|           No|    Yes|       Yes|  10.0|         Yes|              No|            DSL|                 No|                 No|                Yes|                Yes|                 No|                 No|Month-to-month|              No|Credit card (auto...|          55.2|      528.35|  Yes|\n",
            "|4183-MYFRB|Female|           No|     No|        No|  21.0|         Yes|              No|    Fiber optic|                 No|                Yes|                Yes|                 No|                 No|                Yes|Month-to-month|             Yes|    Electronic check|         90.05|      1862.9|   No|\n",
            "+----------+------+-------------+-------+----------+------+------------+----------------+---------------+-------------------+-------------------+-------------------+-------------------+-------------------+-------------------+--------------+----------------+--------------------+--------------+------------+-----+\n",
            "only showing top 20 rows\n",
            "\n"
          ]
        }
      ]
    },
    {
      "cell_type": "code",
      "source": [
        "for column in model.columns:\n",
        "  model.select(count(when(col(column).isNull(), column)).alias(column)).show()"
      ],
      "metadata": {
        "colab": {
          "base_uri": "https://localhost:8080/"
        },
        "id": "BAIq98GTxqof",
        "outputId": "90b95798-40f0-4223-8ea0-f3686d0c080e"
      },
      "execution_count": 117,
      "outputs": [
        {
          "output_type": "stream",
          "name": "stdout",
          "text": [
            "+----------+\n",
            "|customerID|\n",
            "+----------+\n",
            "|         0|\n",
            "+----------+\n",
            "\n",
            "+------+\n",
            "|gender|\n",
            "+------+\n",
            "|     0|\n",
            "+------+\n",
            "\n",
            "+-------------+\n",
            "|SeniorCitizen|\n",
            "+-------------+\n",
            "|            0|\n",
            "+-------------+\n",
            "\n",
            "+-------+\n",
            "|Partner|\n",
            "+-------+\n",
            "|      0|\n",
            "+-------+\n",
            "\n",
            "+----------+\n",
            "|Dependents|\n",
            "+----------+\n",
            "|         0|\n",
            "+----------+\n",
            "\n",
            "+------+\n",
            "|tenure|\n",
            "+------+\n",
            "|     0|\n",
            "+------+\n",
            "\n",
            "+------------+\n",
            "|PhoneService|\n",
            "+------------+\n",
            "|           0|\n",
            "+------------+\n",
            "\n",
            "+-------------+\n",
            "|MultipleLines|\n",
            "+-------------+\n",
            "|            0|\n",
            "+-------------+\n",
            "\n",
            "+---------------+\n",
            "|InternetService|\n",
            "+---------------+\n",
            "|              0|\n",
            "+---------------+\n",
            "\n",
            "+--------------+\n",
            "|OnlineSecurity|\n",
            "+--------------+\n",
            "|             0|\n",
            "+--------------+\n",
            "\n",
            "+------------+\n",
            "|OnlineBackup|\n",
            "+------------+\n",
            "|           0|\n",
            "+------------+\n",
            "\n",
            "+----------------+\n",
            "|DeviceProtection|\n",
            "+----------------+\n",
            "|               0|\n",
            "+----------------+\n",
            "\n",
            "+-----------+\n",
            "|TechSupport|\n",
            "+-----------+\n",
            "|          0|\n",
            "+-----------+\n",
            "\n",
            "+-----------+\n",
            "|StreamingTV|\n",
            "+-----------+\n",
            "|          0|\n",
            "+-----------+\n",
            "\n",
            "+---------------+\n",
            "|StreamingMovies|\n",
            "+---------------+\n",
            "|              0|\n",
            "+---------------+\n",
            "\n",
            "+--------+\n",
            "|Contract|\n",
            "+--------+\n",
            "|       0|\n",
            "+--------+\n",
            "\n",
            "+----------------+\n",
            "|PaperlessBilling|\n",
            "+----------------+\n",
            "|               0|\n",
            "+----------------+\n",
            "\n",
            "+-------------+\n",
            "|PaymentMethod|\n",
            "+-------------+\n",
            "|            0|\n",
            "+-------------+\n",
            "\n",
            "+--------------+\n",
            "|MonthlyCharges|\n",
            "+--------------+\n",
            "|             0|\n",
            "+--------------+\n",
            "\n",
            "+------------+\n",
            "|TotalCharges|\n",
            "+------------+\n",
            "|           0|\n",
            "+------------+\n",
            "\n",
            "+-----+\n",
            "|Churn|\n",
            "+-----+\n",
            "|    0|\n",
            "+-----+\n",
            "\n"
          ]
        }
      ]
    },
    {
      "cell_type": "code",
      "source": [
        "model.select(count(when(col('tenure') > 100, 'tenure'))).show()"
      ],
      "metadata": {
        "colab": {
          "base_uri": "https://localhost:8080/"
        },
        "id": "OlLuEh9sxtDH",
        "outputId": "9f205690-9336-49ea-87c0-5580abbc23c5"
      },
      "execution_count": 118,
      "outputs": [
        {
          "output_type": "stream",
          "name": "stdout",
          "text": [
            "+-----------------------------------------------+\n",
            "|count(CASE WHEN (tenure > 100) THEN tenure END)|\n",
            "+-----------------------------------------------+\n",
            "|                                              1|\n",
            "+-----------------------------------------------+\n",
            "\n"
          ]
        }
      ]
    },
    {
      "cell_type": "code",
      "source": [
        "model.select(\"*\").where(model.tenure > 100).show()"
      ],
      "metadata": {
        "colab": {
          "base_uri": "https://localhost:8080/"
        },
        "id": "qo3cb3EEz6OD",
        "outputId": "ed11a4a3-53ad-431a-91fb-5204d040a7eb"
      },
      "execution_count": 120,
      "outputs": [
        {
          "output_type": "stream",
          "name": "stdout",
          "text": [
            "+----------+------+-------------+-------+----------+------+------------+-------------+---------------+--------------+------------+----------------+-----------+-----------+---------------+--------------+----------------+----------------+--------------+------------+-----+\n",
            "|customerID|gender|SeniorCitizen|Partner|Dependents|tenure|PhoneService|MultipleLines|InternetService|OnlineSecurity|OnlineBackup|DeviceProtection|TechSupport|StreamingTV|StreamingMovies|      Contract|PaperlessBilling|   PaymentMethod|MonthlyCharges|TotalCharges|Churn|\n",
            "+----------+------+-------------+-------+----------+------+------------+-------------+---------------+--------------+------------+----------------+-----------+-----------+---------------+--------------+----------------+----------------+--------------+------------+-----+\n",
            "|5122-CYFXA|Female|           No|     No|        No| 458.0|         Yes|           No|            DSL|            No|         Yes|              No|        Yes|        Yes|            Yes|Month-to-month|             Yes|Electronic check|          75.3|       244.1|   No|\n",
            "+----------+------+-------------+-------+----------+------+------------+-------------+---------------+--------------+------------+----------------+-----------+-----------+---------------+--------------+----------------+----------------+--------------+------------+-----+\n",
            "\n"
          ]
        }
      ]
    },
    {
      "cell_type": "code",
      "source": [
        "print(model.count())\n",
        "model = model.filter(model.tenure < 100)\n",
        "model.show()\n",
        "print(\" outlier is removed\")\n",
        "print(model.count())"
      ],
      "metadata": {
        "colab": {
          "base_uri": "https://localhost:8080/"
        },
        "id": "dvOzsKQb0HHM",
        "outputId": "01219a64-ccd9-4455-eb84-7ffa3988f674"
      },
      "execution_count": 127,
      "outputs": [
        {
          "output_type": "stream",
          "name": "stdout",
          "text": [
            "7043\n",
            "+----------+------+-------------+-------+----------+------+------------+----------------+---------------+-------------------+-------------------+-------------------+-------------------+-------------------+-------------------+--------------+----------------+--------------------+--------------+------------+-----+\n",
            "|customerID|gender|SeniorCitizen|Partner|Dependents|tenure|PhoneService|   MultipleLines|InternetService|     OnlineSecurity|       OnlineBackup|   DeviceProtection|        TechSupport|        StreamingTV|    StreamingMovies|      Contract|PaperlessBilling|       PaymentMethod|MonthlyCharges|TotalCharges|Churn|\n",
            "+----------+------+-------------+-------+----------+------+------------+----------------+---------------+-------------------+-------------------+-------------------+-------------------+-------------------+-------------------+--------------+----------------+--------------------+--------------+------------+-----+\n",
            "|7590-VHVEG|Female|           No|    Yes|        No|   1.0|          No|No phone service|            DSL|                 No|                Yes|                 No|                 No|                 No|                 No|Month-to-month|             Yes|    Electronic check|         29.85|       29.85|   No|\n",
            "|5575-GNVDE|  Male|           No|     No|        No|  34.0|         Yes|              No|            DSL|                Yes|                 No|                Yes|                 No|                 No|                 No|      One year|              No|        Mailed check|         56.95|      1889.5|   No|\n",
            "|3668-QPYBK|  Male|           No|     No|        No|   2.0|         Yes|              No|            DSL|                Yes|                Yes|                 No|                 No|                 No|                 No|Month-to-month|             Yes|        Mailed check|         53.85|      108.15|  Yes|\n",
            "|7795-CFOCW|  Male|           No|     No|        No|  45.0|          No|No phone service|            DSL|                Yes|                 No|                Yes|                Yes|                 No|                 No|      One year|              No|Bank transfer (au...|          42.3|     1840.75|   No|\n",
            "|9237-HQITU|Female|           No|     No|        No|   2.0|         Yes|              No|    Fiber optic|                 No|                 No|                 No|                 No|                 No|                 No|Month-to-month|             Yes|    Electronic check|          70.7|      151.65|  Yes|\n",
            "|9305-CDSKC|Female|           No|     No|        No|   8.0|         Yes|             Yes|    Fiber optic|                 No|                 No|                Yes|                 No|                Yes|                Yes|Month-to-month|             Yes|    Electronic check|         99.65|       820.5|  Yes|\n",
            "|1452-KIOVK|  Male|           No|     No|       Yes|  22.0|         Yes|             Yes|    Fiber optic|                 No|                Yes|                 No|                 No|                Yes|                 No|Month-to-month|             Yes|Credit card (auto...|          89.1|      1949.4|   No|\n",
            "|6713-OKOMC|Female|           No|     No|        No|  10.0|          No|No phone service|            DSL|                Yes|                 No|                 No|                 No|                 No|                 No|Month-to-month|              No|        Mailed check|         29.75|       301.9|   No|\n",
            "|7892-POOKP|Female|           No|    Yes|        No|  28.0|         Yes|             Yes|    Fiber optic|                 No|                 No|                Yes|                Yes|                Yes|                Yes|Month-to-month|             Yes|    Electronic check|         104.8|     3046.05|  Yes|\n",
            "|6388-TABGU|  Male|           No|     No|       Yes|  62.0|         Yes|              No|            DSL|                Yes|                Yes|                 No|                 No|                 No|                 No|      One year|              No|Bank transfer (au...|         56.15|     3487.95|   No|\n",
            "|9763-GRSKD|  Male|           No|    Yes|       Yes|  13.0|         Yes|              No|            DSL|                Yes|                 No|                 No|                 No|                 No|                 No|Month-to-month|             Yes|        Mailed check|         49.95|      587.45|   No|\n",
            "|7469-LKBCI|  Male|           No|     No|        No|  16.0|         Yes|              No|             No|No internet service|No internet service|No internet service|No internet service|No internet service|No internet service|      Two year|              No|Credit card (auto...|         18.95|       326.8|   No|\n",
            "|8091-TTVAX|  Male|           No|    Yes|        No|  58.0|         Yes|             Yes|    Fiber optic|                 No|                 No|                Yes|                 No|                Yes|                Yes|      One year|              No|Credit card (auto...|        100.35|      5681.1|   No|\n",
            "|0280-XJGEX|  Male|           No|     No|        No|  49.0|         Yes|             Yes|    Fiber optic|                 No|                Yes|                Yes|                 No|                Yes|                Yes|Month-to-month|             Yes|Bank transfer (au...|         103.7|      5036.3|  Yes|\n",
            "|5129-JLPIS|  Male|           No|     No|        No|  25.0|         Yes|              No|    Fiber optic|                Yes|                 No|                Yes|                Yes|                Yes|                Yes|Month-to-month|             Yes|    Electronic check|         105.5|     2686.05|   No|\n",
            "|3655-SNQYZ|Female|           No|    Yes|       Yes|  69.0|         Yes|             Yes|    Fiber optic|                Yes|                Yes|                Yes|                Yes|                Yes|                Yes|      Two year|              No|Credit card (auto...|        113.25|     7895.15|   No|\n",
            "|8191-XWSZG|Female|           No|     No|        No|  52.0|         Yes|              No|             No|No internet service|No internet service|No internet service|No internet service|No internet service|No internet service|      One year|              No|        Mailed check|         20.65|     1022.95|   No|\n",
            "|9959-WOFKT|  Male|           No|     No|       Yes|  71.0|         Yes|             Yes|    Fiber optic|                Yes|                 No|                Yes|                 No|                Yes|                Yes|      Two year|              No|Bank transfer (au...|         106.7|     7382.25|   No|\n",
            "|4190-MFLUW|Female|           No|    Yes|       Yes|  10.0|         Yes|              No|            DSL|                 No|                 No|                Yes|                Yes|                 No|                 No|Month-to-month|              No|Credit card (auto...|          55.2|      528.35|  Yes|\n",
            "|4183-MYFRB|Female|           No|     No|        No|  21.0|         Yes|              No|    Fiber optic|                 No|                Yes|                Yes|                 No|                 No|                Yes|Month-to-month|             Yes|    Electronic check|         90.05|      1862.9|   No|\n",
            "+----------+------+-------------+-------+----------+------+------------+----------------+---------------+-------------------+-------------------+-------------------+-------------------+-------------------+-------------------+--------------+----------------+--------------------+--------------+------------+-----+\n",
            "only showing top 20 rows\n",
            "\n",
            " outlier is removed\n",
            "7042\n"
          ]
        }
      ]
    },
    {
      "cell_type": "code",
      "source": [
        "numerical_vector = VectorAssembler(inputCols=numerical_col, outputCol='numerical_vectors')\n",
        "numerical_vector = numerical_vector.transform(model)\n",
        "numerical_vector.show()"
      ],
      "metadata": {
        "colab": {
          "base_uri": "https://localhost:8080/"
        },
        "id": "-9OF3Ziq020E",
        "outputId": "380928be-2050-4bdb-8a9c-48b1249180ed"
      },
      "execution_count": 128,
      "outputs": [
        {
          "output_type": "stream",
          "name": "stdout",
          "text": [
            "+----------+------+-------------+-------+----------+------+------------+----------------+---------------+-------------------+-------------------+-------------------+-------------------+-------------------+-------------------+--------------+----------------+--------------------+--------------+------------+-----+--------------------+\n",
            "|customerID|gender|SeniorCitizen|Partner|Dependents|tenure|PhoneService|   MultipleLines|InternetService|     OnlineSecurity|       OnlineBackup|   DeviceProtection|        TechSupport|        StreamingTV|    StreamingMovies|      Contract|PaperlessBilling|       PaymentMethod|MonthlyCharges|TotalCharges|Churn|   numerical_vectors|\n",
            "+----------+------+-------------+-------+----------+------+------------+----------------+---------------+-------------------+-------------------+-------------------+-------------------+-------------------+-------------------+--------------+----------------+--------------------+--------------+------------+-----+--------------------+\n",
            "|7590-VHVEG|Female|           No|    Yes|        No|   1.0|          No|No phone service|            DSL|                 No|                Yes|                 No|                 No|                 No|                 No|Month-to-month|             Yes|    Electronic check|         29.85|       29.85|   No|[29.8500003814697...|\n",
            "|5575-GNVDE|  Male|           No|     No|        No|  34.0|         Yes|              No|            DSL|                Yes|                 No|                Yes|                 No|                 No|                 No|      One year|              No|        Mailed check|         56.95|      1889.5|   No|[56.9500007629394...|\n",
            "|3668-QPYBK|  Male|           No|     No|        No|   2.0|         Yes|              No|            DSL|                Yes|                Yes|                 No|                 No|                 No|                 No|Month-to-month|             Yes|        Mailed check|         53.85|      108.15|  Yes|[53.8499984741210...|\n",
            "|7795-CFOCW|  Male|           No|     No|        No|  45.0|          No|No phone service|            DSL|                Yes|                 No|                Yes|                Yes|                 No|                 No|      One year|              No|Bank transfer (au...|          42.3|     1840.75|   No|[42.2999992370605...|\n",
            "|9237-HQITU|Female|           No|     No|        No|   2.0|         Yes|              No|    Fiber optic|                 No|                 No|                 No|                 No|                 No|                 No|Month-to-month|             Yes|    Electronic check|          70.7|      151.65|  Yes|[70.6999969482421...|\n",
            "|9305-CDSKC|Female|           No|     No|        No|   8.0|         Yes|             Yes|    Fiber optic|                 No|                 No|                Yes|                 No|                Yes|                Yes|Month-to-month|             Yes|    Electronic check|         99.65|       820.5|  Yes|[99.6500015258789...|\n",
            "|1452-KIOVK|  Male|           No|     No|       Yes|  22.0|         Yes|             Yes|    Fiber optic|                 No|                Yes|                 No|                 No|                Yes|                 No|Month-to-month|             Yes|Credit card (auto...|          89.1|      1949.4|   No|[89.0999984741211...|\n",
            "|6713-OKOMC|Female|           No|     No|        No|  10.0|          No|No phone service|            DSL|                Yes|                 No|                 No|                 No|                 No|                 No|Month-to-month|              No|        Mailed check|         29.75|       301.9|   No|[29.75,301.899993...|\n",
            "|7892-POOKP|Female|           No|    Yes|        No|  28.0|         Yes|             Yes|    Fiber optic|                 No|                 No|                Yes|                Yes|                Yes|                Yes|Month-to-month|             Yes|    Electronic check|         104.8|     3046.05|  Yes|[104.800003051757...|\n",
            "|6388-TABGU|  Male|           No|     No|       Yes|  62.0|         Yes|              No|            DSL|                Yes|                Yes|                 No|                 No|                 No|                 No|      One year|              No|Bank transfer (au...|         56.15|     3487.95|   No|[56.1500015258789...|\n",
            "|9763-GRSKD|  Male|           No|    Yes|       Yes|  13.0|         Yes|              No|            DSL|                Yes|                 No|                 No|                 No|                 No|                 No|Month-to-month|             Yes|        Mailed check|         49.95|      587.45|   No|[49.9500007629394...|\n",
            "|7469-LKBCI|  Male|           No|     No|        No|  16.0|         Yes|              No|             No|No internet service|No internet service|No internet service|No internet service|No internet service|No internet service|      Two year|              No|Credit card (auto...|         18.95|       326.8|   No|[18.9500007629394...|\n",
            "|8091-TTVAX|  Male|           No|    Yes|        No|  58.0|         Yes|             Yes|    Fiber optic|                 No|                 No|                Yes|                 No|                Yes|                Yes|      One year|              No|Credit card (auto...|        100.35|      5681.1|   No|[100.349998474121...|\n",
            "|0280-XJGEX|  Male|           No|     No|        No|  49.0|         Yes|             Yes|    Fiber optic|                 No|                Yes|                Yes|                 No|                Yes|                Yes|Month-to-month|             Yes|Bank transfer (au...|         103.7|      5036.3|  Yes|[103.699996948242...|\n",
            "|5129-JLPIS|  Male|           No|     No|        No|  25.0|         Yes|              No|    Fiber optic|                Yes|                 No|                Yes|                Yes|                Yes|                Yes|Month-to-month|             Yes|    Electronic check|         105.5|     2686.05|   No|[105.5,2686.05004...|\n",
            "|3655-SNQYZ|Female|           No|    Yes|       Yes|  69.0|         Yes|             Yes|    Fiber optic|                Yes|                Yes|                Yes|                Yes|                Yes|                Yes|      Two year|              No|Credit card (auto...|        113.25|     7895.15|   No|[113.25,7895.1499...|\n",
            "|8191-XWSZG|Female|           No|     No|        No|  52.0|         Yes|              No|             No|No internet service|No internet service|No internet service|No internet service|No internet service|No internet service|      One year|              No|        Mailed check|         20.65|     1022.95|   No|[20.6499996185302...|\n",
            "|9959-WOFKT|  Male|           No|     No|       Yes|  71.0|         Yes|             Yes|    Fiber optic|                Yes|                 No|                Yes|                 No|                Yes|                Yes|      Two year|              No|Bank transfer (au...|         106.7|     7382.25|   No|[106.699996948242...|\n",
            "|4190-MFLUW|Female|           No|    Yes|       Yes|  10.0|         Yes|              No|            DSL|                 No|                 No|                Yes|                Yes|                 No|                 No|Month-to-month|              No|Credit card (auto...|          55.2|      528.35|  Yes|[55.2000007629394...|\n",
            "|4183-MYFRB|Female|           No|     No|        No|  21.0|         Yes|              No|    Fiber optic|                 No|                Yes|                Yes|                 No|                 No|                Yes|Month-to-month|             Yes|    Electronic check|         90.05|      1862.9|   No|[90.0500030517578...|\n",
            "+----------+------+-------------+-------+----------+------+------------+----------------+---------------+-------------------+-------------------+-------------------+-------------------+-------------------+-------------------+--------------+----------------+--------------------+--------------+------------+-----+--------------------+\n",
            "only showing top 20 rows\n",
            "\n"
          ]
        }
      ]
    },
    {
      "cell_type": "code",
      "source": [
        "standarise_vector = StandardScaler(inputCol='numerical_vectors', outputCol='standarise_vectors', withStd=True, withMean=True)\n",
        "standarise_vector = standarise_vector.fit(numerical_vector).transform(numerical_vector)\n",
        "standarise_vector.show()\n"
      ],
      "metadata": {
        "colab": {
          "base_uri": "https://localhost:8080/"
        },
        "id": "iLRjBvh5020u",
        "outputId": "e5c4f0e3-f2ed-4b6c-b47d-bd631e5dcdc9"
      },
      "execution_count": 129,
      "outputs": [
        {
          "output_type": "stream",
          "name": "stdout",
          "text": [
            "+----------+------+-------------+-------+----------+------+------------+----------------+---------------+-------------------+-------------------+-------------------+-------------------+-------------------+-------------------+--------------+----------------+--------------------+--------------+------------+-----+--------------------+--------------------+\n",
            "|customerID|gender|SeniorCitizen|Partner|Dependents|tenure|PhoneService|   MultipleLines|InternetService|     OnlineSecurity|       OnlineBackup|   DeviceProtection|        TechSupport|        StreamingTV|    StreamingMovies|      Contract|PaperlessBilling|       PaymentMethod|MonthlyCharges|TotalCharges|Churn|   numerical_vectors|  standarise_vectors|\n",
            "+----------+------+-------------+-------+----------+------+------------+----------------+---------------+-------------------+-------------------+-------------------+-------------------+-------------------+-------------------+--------------+----------------+--------------------+--------------+------------+-----+--------------------+--------------------+\n",
            "|7590-VHVEG|Female|           No|    Yes|        No|   1.0|          No|No phone service|            DSL|                 No|                Yes|                 No|                 No|                 No|                 No|Month-to-month|             Yes|    Electronic check|         29.85|       29.85|   No|[29.8500003814697...|[-1.1601185175279...|\n",
            "|5575-GNVDE|  Male|           No|     No|        No|  34.0|         Yes|              No|            DSL|                Yes|                 No|                Yes|                 No|                 No|                 No|      One year|              No|        Mailed check|         56.95|      1889.5|   No|[56.9500007629394...|[-0.2595445814041...|\n",
            "|3668-QPYBK|  Male|           No|     No|        No|   2.0|         Yes|              No|            DSL|                Yes|                Yes|                 No|                 No|                 No|                 No|Month-to-month|             Yes|        Mailed check|         53.85|      108.15|  Yes|[53.8499984741210...|[-0.3625623387449...|\n",
            "|7795-CFOCW|  Male|           No|     No|        No|  45.0|          No|No phone service|            DSL|                Yes|                 No|                Yes|                Yes|                 No|                 No|      One year|              No|Bank transfer (au...|          42.3|     1840.75|   No|[42.2999992370605...|[-0.7463862549342...|\n",
            "|9237-HQITU|Female|           No|     No|        No|   2.0|         Yes|              No|    Fiber optic|                 No|                 No|                 No|                 No|                 No|                 No|Month-to-month|             Yes|    Electronic check|          70.7|      151.65|  Yes|[70.6999969482421...|[0.19738855556918...|\n",
            "|9305-CDSKC|Female|           No|     No|        No|   8.0|         Yes|             Yes|    Fiber optic|                 No|                 No|                Yes|                 No|                Yes|                Yes|Month-to-month|             Yes|    Electronic check|         99.65|       820.5|  Yes|[99.6500015258789...|[1.15944092480493...|\n",
            "|1452-KIOVK|  Male|           No|     No|       Yes|  22.0|         Yes|             Yes|    Fiber optic|                 No|                Yes|                 No|                 No|                Yes|                 No|Month-to-month|             Yes|Credit card (auto...|          89.1|      1949.4|   No|[89.0999984741211...|[0.80884839193782...|\n",
            "|6713-OKOMC|Female|           No|     No|        No|  10.0|          No|No phone service|            DSL|                Yes|                 No|                 No|                 No|                 No|                 No|Month-to-month|              No|        Mailed check|         29.75|       301.9|   No|[29.75,301.899993...|[-1.1634416812137...|\n",
            "|7892-POOKP|Female|           No|    Yes|        No|  28.0|         Yes|             Yes|    Fiber optic|                 No|                 No|                Yes|                Yes|                Yes|                Yes|Month-to-month|             Yes|    Electronic check|         104.8|     3046.05|  Yes|[104.800003051757...|[1.33058325247720...|\n",
            "|6388-TABGU|  Male|           No|     No|       Yes|  62.0|         Yes|              No|            DSL|                Yes|                Yes|                 No|                 No|                 No|                 No|      One year|              No|Bank transfer (au...|         56.15|     3487.95|   No|[56.1500015258789...|[-0.2861297641227...|\n",
            "|9763-GRSKD|  Male|           No|    Yes|       Yes|  13.0|         Yes|              No|            DSL|                Yes|                 No|                 No|                 No|                 No|                 No|Month-to-month|             Yes|        Mailed check|         49.95|      587.45|   No|[49.9500007629394...|[-0.4921651520362...|\n",
            "|7469-LKBCI|  Male|           No|     No|        No|  16.0|         Yes|              No|             No|No internet service|No internet service|No internet service|No internet service|No internet service|No internet service|      Two year|              No|Credit card (auto...|         18.95|       326.8|   No|[18.9500007629394...|[-1.5223419648353...|\n",
            "|8091-TTVAX|  Male|           No|    Yes|        No|  58.0|         Yes|             Yes|    Fiber optic|                 No|                 No|                Yes|                 No|                Yes|                Yes|      One year|              No|Credit card (auto...|        100.35|      5681.1|   No|[100.349998474121...|[1.18270288045362...|\n",
            "|0280-XJGEX|  Male|           No|     No|        No|  49.0|         Yes|             Yes|    Fiber optic|                 No|                Yes|                Yes|                 No|                Yes|                Yes|Month-to-month|             Yes|Bank transfer (au...|         103.7|      5036.3|  Yes|[103.699996948242...|[1.29402838854884...|\n",
            "|5129-JLPIS|  Male|           No|     No|        No|  25.0|         Yes|              No|    Fiber optic|                Yes|                 No|                Yes|                Yes|                Yes|                Yes|Month-to-month|             Yes|    Electronic check|         105.5|     2686.05|   No|[105.5,2686.05004...|[1.35384520812588...|\n",
            "|3655-SNQYZ|Female|           No|    Yes|       Yes|  69.0|         Yes|             Yes|    Fiber optic|                Yes|                Yes|                Yes|                Yes|                Yes|                Yes|      Two year|              No|Credit card (auto...|        113.25|     7895.15|   No|[113.25,7895.1499...|[1.61138941132565...|\n",
            "|8191-XWSZG|Female|           No|     No|        No|  52.0|         Yes|              No|             No|No internet service|No internet service|No internet service|No internet service|No internet service|No internet service|      One year|              No|        Mailed check|         20.65|     1022.95|   No|[20.6499996185302...|[-1.4658484357122...|\n",
            "|9959-WOFKT|  Male|           No|     No|       Yes|  71.0|         Yes|             Yes|    Fiber optic|                Yes|                 No|                Yes|                 No|                Yes|                Yes|      Two year|              No|Bank transfer (au...|         106.7|     7382.25|   No|[106.699996948242...|[1.39372291881971...|\n",
            "|4190-MFLUW|Female|           No|    Yes|       Yes|  10.0|         Yes|              No|            DSL|                 No|                 No|                Yes|                Yes|                 No|                 No|Month-to-month|              No|Credit card (auto...|          55.2|      528.35|  Yes|[55.2000007629394...|[-0.3176997240622...|\n",
            "|4183-MYFRB|Female|           No|     No|        No|  21.0|         Yes|              No|    Fiber optic|                 No|                Yes|                Yes|                 No|                 No|                Yes|Month-to-month|             Yes|    Electronic check|         90.05|      1862.9|   No|[90.0500030517578...|[0.84041847864538...|\n",
            "+----------+------+-------------+-------+----------+------+------------+----------------+---------------+-------------------+-------------------+-------------------+-------------------+-------------------+-------------------+--------------+----------------+--------------------+--------------+------------+-----+--------------------+--------------------+\n",
            "only showing top 20 rows\n",
            "\n"
          ]
        }
      ]
    },
    {
      "cell_type": "code",
      "source": [
        "categorical_column_indexed = [name + \"_indexed\" for name in categorical_col ]"
      ],
      "metadata": {
        "id": "pWDYoBMM2y5J"
      },
      "execution_count": 131,
      "outputs": []
    },
    {
      "cell_type": "code",
      "source": [
        "categorical_column_indexed"
      ],
      "metadata": {
        "colab": {
          "base_uri": "https://localhost:8080/"
        },
        "id": "aUS1_tXI3Jj7",
        "outputId": "c6c26452-8c6f-4fe0-bb34-98680ba57dfb"
      },
      "execution_count": 132,
      "outputs": [
        {
          "output_type": "execute_result",
          "data": {
            "text/plain": [
              "['customerID_indexed',\n",
              " 'gender_indexed',\n",
              " 'SeniorCitizen_indexed',\n",
              " 'Partner_indexed',\n",
              " 'Dependents_indexed',\n",
              " 'PhoneService_indexed',\n",
              " 'MultipleLines_indexed',\n",
              " 'InternetService_indexed',\n",
              " 'OnlineSecurity_indexed',\n",
              " 'OnlineBackup_indexed',\n",
              " 'DeviceProtection_indexed',\n",
              " 'TechSupport_indexed',\n",
              " 'StreamingTV_indexed',\n",
              " 'StreamingMovies_indexed',\n",
              " 'Contract_indexed',\n",
              " 'PaperlessBilling_indexed',\n",
              " 'PaymentMethod_indexed',\n",
              " 'Churn_indexed']"
            ]
          },
          "metadata": {},
          "execution_count": 132
        }
      ]
    },
    {
      "cell_type": "code",
      "source": [
        "indexer = StringIndexer(inputCols=categorical_col, outputCols=categorical_column_indexed)\n",
        "indexed = indexer.fit(standarise_vector).transform(standarise_vector)\n",
        "indexed.show()"
      ],
      "metadata": {
        "colab": {
          "base_uri": "https://localhost:8080/"
        },
        "id": "5weMVFrA3weT",
        "outputId": "c780f7d5-600a-4460-abfe-55d18baa6f8b"
      },
      "execution_count": 134,
      "outputs": [
        {
          "output_type": "stream",
          "name": "stdout",
          "text": [
            "+----------+------+-------------+-------+----------+------+------------+----------------+---------------+-------------------+-------------------+-------------------+-------------------+-------------------+-------------------+--------------+----------------+--------------------+--------------+------------+-----+--------------------+--------------------+------------------+--------------+---------------------+---------------+------------------+--------------------+---------------------+-----------------------+----------------------+--------------------+------------------------+-------------------+-------------------+-----------------------+----------------+------------------------+---------------------+-------------+\n",
            "|customerID|gender|SeniorCitizen|Partner|Dependents|tenure|PhoneService|   MultipleLines|InternetService|     OnlineSecurity|       OnlineBackup|   DeviceProtection|        TechSupport|        StreamingTV|    StreamingMovies|      Contract|PaperlessBilling|       PaymentMethod|MonthlyCharges|TotalCharges|Churn|   numerical_vectors|  standarise_vectors|customerID_indexed|gender_indexed|SeniorCitizen_indexed|Partner_indexed|Dependents_indexed|PhoneService_indexed|MultipleLines_indexed|InternetService_indexed|OnlineSecurity_indexed|OnlineBackup_indexed|DeviceProtection_indexed|TechSupport_indexed|StreamingTV_indexed|StreamingMovies_indexed|Contract_indexed|PaperlessBilling_indexed|PaymentMethod_indexed|Churn_indexed|\n",
            "+----------+------+-------------+-------+----------+------+------------+----------------+---------------+-------------------+-------------------+-------------------+-------------------+-------------------+-------------------+--------------+----------------+--------------------+--------------+------------+-----+--------------------+--------------------+------------------+--------------+---------------------+---------------+------------------+--------------------+---------------------+-----------------------+----------------------+--------------------+------------------------+-------------------+-------------------+-----------------------+----------------+------------------------+---------------------+-------------+\n",
            "|7590-VHVEG|Female|           No|    Yes|        No|   1.0|          No|No phone service|            DSL|                 No|                Yes|                 No|                 No|                 No|                 No|Month-to-month|             Yes|    Electronic check|         29.85|       29.85|   No|[29.8500003814697...|[-1.1601185175279...|            5374.0|           1.0|                  0.0|            1.0|               0.0|                 1.0|                  2.0|                    1.0|                   0.0|                 1.0|                     0.0|                0.0|                0.0|                    0.0|             0.0|                     0.0|                  0.0|          0.0|\n",
            "|5575-GNVDE|  Male|           No|     No|        No|  34.0|         Yes|              No|            DSL|                Yes|                 No|                Yes|                 No|                 No|                 No|      One year|              No|        Mailed check|         56.95|      1889.5|   No|[56.9500007629394...|[-0.2595445814041...|            3961.0|           0.0|                  0.0|            0.0|               0.0|                 0.0|                  0.0|                    1.0|                   1.0|                 0.0|                     1.0|                0.0|                0.0|                    0.0|             2.0|                     1.0|                  1.0|          0.0|\n",
            "|3668-QPYBK|  Male|           No|     No|        No|   2.0|         Yes|              No|            DSL|                Yes|                Yes|                 No|                 No|                 No|                 No|Month-to-month|             Yes|        Mailed check|         53.85|      108.15|  Yes|[53.8499984741210...|[-0.3625623387449...|            2564.0|           0.0|                  0.0|            0.0|               0.0|                 0.0|                  0.0|                    1.0|                   1.0|                 1.0|                     0.0|                0.0|                0.0|                    0.0|             0.0|                     0.0|                  1.0|          1.0|\n",
            "|7795-CFOCW|  Male|           No|     No|        No|  45.0|          No|No phone service|            DSL|                Yes|                 No|                Yes|                Yes|                 No|                 No|      One year|              No|Bank transfer (au...|          42.3|     1840.75|   No|[42.2999992370605...|[-0.7463862549342...|            5534.0|           0.0|                  0.0|            0.0|               0.0|                 1.0|                  2.0|                    1.0|                   1.0|                 0.0|                     1.0|                1.0|                0.0|                    0.0|             2.0|                     1.0|                  2.0|          0.0|\n",
            "|9237-HQITU|Female|           No|     No|        No|   2.0|         Yes|              No|    Fiber optic|                 No|                 No|                 No|                 No|                 No|                 No|Month-to-month|             Yes|    Electronic check|          70.7|      151.65|  Yes|[70.6999969482421...|[0.19738855556918...|            6510.0|           1.0|                  0.0|            0.0|               0.0|                 0.0|                  0.0|                    0.0|                   0.0|                 0.0|                     0.0|                0.0|                0.0|                    0.0|             0.0|                     0.0|                  0.0|          1.0|\n",
            "|9305-CDSKC|Female|           No|     No|        No|   8.0|         Yes|             Yes|    Fiber optic|                 No|                 No|                Yes|                 No|                Yes|                Yes|Month-to-month|             Yes|    Electronic check|         99.65|       820.5|  Yes|[99.6500015258789...|[1.15944092480493...|            6550.0|           1.0|                  0.0|            0.0|               0.0|                 0.0|                  1.0|                    0.0|                   0.0|                 0.0|                     1.0|                0.0|                1.0|                    1.0|             0.0|                     0.0|                  0.0|          1.0|\n",
            "|1452-KIOVK|  Male|           No|     No|       Yes|  22.0|         Yes|             Yes|    Fiber optic|                 No|                Yes|                 No|                 No|                Yes|                 No|Month-to-month|             Yes|Credit card (auto...|          89.1|      1949.4|   No|[89.0999984741211...|[0.80884839193782...|            1002.0|           0.0|                  0.0|            0.0|               1.0|                 0.0|                  1.0|                    0.0|                   0.0|                 1.0|                     0.0|                0.0|                1.0|                    0.0|             0.0|                     0.0|                  3.0|          0.0|\n",
            "|6713-OKOMC|Female|           No|     No|        No|  10.0|          No|No phone service|            DSL|                Yes|                 No|                 No|                 No|                 No|                 No|Month-to-month|              No|        Mailed check|         29.75|       301.9|   No|[29.75,301.899993...|[-1.1634416812137...|            4769.0|           1.0|                  0.0|            0.0|               0.0|                 1.0|                  2.0|                    1.0|                   1.0|                 0.0|                     0.0|                0.0|                0.0|                    0.0|             0.0|                     1.0|                  1.0|          0.0|\n",
            "|7892-POOKP|Female|           No|    Yes|        No|  28.0|         Yes|             Yes|    Fiber optic|                 No|                 No|                Yes|                Yes|                Yes|                Yes|Month-to-month|             Yes|    Electronic check|         104.8|     3046.05|  Yes|[104.800003051757...|[1.33058325247720...|            5603.0|           1.0|                  0.0|            1.0|               0.0|                 0.0|                  1.0|                    0.0|                   0.0|                 0.0|                     1.0|                1.0|                1.0|                    1.0|             0.0|                     0.0|                  0.0|          1.0|\n",
            "|6388-TABGU|  Male|           No|     No|       Yes|  62.0|         Yes|              No|            DSL|                Yes|                Yes|                 No|                 No|                 No|                 No|      One year|              No|Bank transfer (au...|         56.15|     3487.95|   No|[56.1500015258789...|[-0.2861297641227...|            4533.0|           0.0|                  0.0|            0.0|               1.0|                 0.0|                  0.0|                    1.0|                   1.0|                 1.0|                     0.0|                0.0|                0.0|                    0.0|             2.0|                     1.0|                  2.0|          0.0|\n",
            "|9763-GRSKD|  Male|           No|    Yes|       Yes|  13.0|         Yes|              No|            DSL|                Yes|                 No|                 No|                 No|                 No|                 No|Month-to-month|             Yes|        Mailed check|         49.95|      587.45|   No|[49.9500007629394...|[-0.4921651520362...|            6870.0|           0.0|                  0.0|            1.0|               1.0|                 0.0|                  0.0|                    1.0|                   1.0|                 0.0|                     0.0|                0.0|                0.0|                    0.0|             0.0|                     0.0|                  1.0|          0.0|\n",
            "|7469-LKBCI|  Male|           No|     No|        No|  16.0|         Yes|              No|             No|No internet service|No internet service|No internet service|No internet service|No internet service|No internet service|      Two year|              No|Credit card (auto...|         18.95|       326.8|   No|[18.9500007629394...|[-1.5223419648353...|            5287.0|           0.0|                  0.0|            0.0|               0.0|                 0.0|                  0.0|                    2.0|                   2.0|                 2.0|                     2.0|                2.0|                2.0|                    2.0|             1.0|                     1.0|                  3.0|          0.0|\n",
            "|8091-TTVAX|  Male|           No|    Yes|        No|  58.0|         Yes|             Yes|    Fiber optic|                 No|                 No|                Yes|                 No|                Yes|                Yes|      One year|              No|Credit card (auto...|        100.35|      5681.1|   No|[100.349998474121...|[1.18270288045362...|            5750.0|           0.0|                  0.0|            1.0|               0.0|                 0.0|                  1.0|                    0.0|                   0.0|                 0.0|                     1.0|                0.0|                1.0|                    1.0|             2.0|                     1.0|                  3.0|          0.0|\n",
            "|0280-XJGEX|  Male|           No|     No|        No|  49.0|         Yes|             Yes|    Fiber optic|                 No|                Yes|                Yes|                 No|                Yes|                Yes|Month-to-month|             Yes|Bank transfer (au...|         103.7|      5036.3|  Yes|[103.699996948242...|[1.29402838854884...|             174.0|           0.0|                  0.0|            0.0|               0.0|                 0.0|                  1.0|                    0.0|                   0.0|                 1.0|                     1.0|                0.0|                1.0|                    1.0|             0.0|                     0.0|                  2.0|          1.0|\n",
            "|5129-JLPIS|  Male|           No|     No|        No|  25.0|         Yes|              No|    Fiber optic|                Yes|                 No|                Yes|                Yes|                Yes|                Yes|Month-to-month|             Yes|    Electronic check|         105.5|     2686.05|   No|[105.5,2686.05004...|[1.35384520812588...|            3614.0|           0.0|                  0.0|            0.0|               0.0|                 0.0|                  0.0|                    0.0|                   1.0|                 0.0|                     1.0|                1.0|                1.0|                    1.0|             0.0|                     0.0|                  0.0|          0.0|\n",
            "|3655-SNQYZ|Female|           No|    Yes|       Yes|  69.0|         Yes|             Yes|    Fiber optic|                Yes|                Yes|                Yes|                Yes|                Yes|                Yes|      Two year|              No|Credit card (auto...|        113.25|     7895.15|   No|[113.25,7895.1499...|[1.61138941132565...|            2556.0|           1.0|                  0.0|            1.0|               1.0|                 0.0|                  1.0|                    0.0|                   1.0|                 1.0|                     1.0|                1.0|                1.0|                    1.0|             1.0|                     1.0|                  3.0|          0.0|\n",
            "|8191-XWSZG|Female|           No|     No|        No|  52.0|         Yes|              No|             No|No internet service|No internet service|No internet service|No internet service|No internet service|No internet service|      One year|              No|        Mailed check|         20.65|     1022.95|   No|[20.6499996185302...|[-1.4658484357122...|            5819.0|           1.0|                  0.0|            0.0|               0.0|                 0.0|                  0.0|                    2.0|                   2.0|                 2.0|                     2.0|                2.0|                2.0|                    2.0|             2.0|                     1.0|                  1.0|          0.0|\n",
            "|9959-WOFKT|  Male|           No|     No|       Yes|  71.0|         Yes|             Yes|    Fiber optic|                Yes|                 No|                Yes|                 No|                Yes|                Yes|      Two year|              No|Bank transfer (au...|         106.7|     7382.25|   No|[106.699996948242...|[1.39372291881971...|            7018.0|           0.0|                  0.0|            0.0|               1.0|                 0.0|                  1.0|                    0.0|                   1.0|                 0.0|                     1.0|                0.0|                1.0|                    1.0|             1.0|                     1.0|                  2.0|          0.0|\n",
            "|4190-MFLUW|Female|           No|    Yes|       Yes|  10.0|         Yes|              No|            DSL|                 No|                 No|                Yes|                Yes|                 No|                 No|Month-to-month|              No|Credit card (auto...|          55.2|      528.35|  Yes|[55.2000007629394...|[-0.3176997240622...|            2937.0|           1.0|                  0.0|            1.0|               1.0|                 0.0|                  0.0|                    1.0|                   0.0|                 0.0|                     1.0|                1.0|                0.0|                    0.0|             0.0|                     1.0|                  3.0|          1.0|\n",
            "|4183-MYFRB|Female|           No|     No|        No|  21.0|         Yes|              No|    Fiber optic|                 No|                Yes|                Yes|                 No|                 No|                Yes|Month-to-month|             Yes|    Electronic check|         90.05|      1862.9|   No|[90.0500030517578...|[0.84041847864538...|            2928.0|           1.0|                  0.0|            0.0|               0.0|                 0.0|                  0.0|                    0.0|                   0.0|                 1.0|                     1.0|                0.0|                0.0|                    1.0|             0.0|                     0.0|                  0.0|          0.0|\n",
            "+----------+------+-------------+-------+----------+------+------------+----------------+---------------+-------------------+-------------------+-------------------+-------------------+-------------------+-------------------+--------------+----------------+--------------------+--------------+------------+-----+--------------------+--------------------+------------------+--------------+---------------------+---------------+------------------+--------------------+---------------------+-----------------------+----------------------+--------------------+------------------------+-------------------+-------------------+-----------------------+----------------+------------------------+---------------------+-------------+\n",
            "only showing top 20 rows\n",
            "\n"
          ]
        }
      ]
    },
    {
      "cell_type": "code",
      "source": [
        "categorical_column_indexed.remove('Churn_indexed')\n",
        "categorical_column_indexed.remove('customerID_indexed')\n",
        "\n",
        "categorical_column_indexed\n"
      ],
      "metadata": {
        "colab": {
          "base_uri": "https://localhost:8080/"
        },
        "id": "v34z5Ole4Qa-",
        "outputId": "2050f0a1-5248-4921-aad1-acacb59e19a2"
      },
      "execution_count": 136,
      "outputs": [
        {
          "output_type": "execute_result",
          "data": {
            "text/plain": [
              "['gender_indexed',\n",
              " 'SeniorCitizen_indexed',\n",
              " 'Partner_indexed',\n",
              " 'Dependents_indexed',\n",
              " 'PhoneService_indexed',\n",
              " 'MultipleLines_indexed',\n",
              " 'InternetService_indexed',\n",
              " 'OnlineSecurity_indexed',\n",
              " 'OnlineBackup_indexed',\n",
              " 'DeviceProtection_indexed',\n",
              " 'TechSupport_indexed',\n",
              " 'StreamingTV_indexed',\n",
              " 'StreamingMovies_indexed',\n",
              " 'Contract_indexed',\n",
              " 'PaperlessBilling_indexed',\n",
              " 'PaymentMethod_indexed']"
            ]
          },
          "metadata": {},
          "execution_count": 136
        }
      ]
    },
    {
      "cell_type": "code",
      "source": [
        "vector2 = VectorAssembler(inputCols=categorical_column_indexed, outputCol='categorical_vectors')\n",
        "final = vector2.transform(indexed)\n",
        "final.show()"
      ],
      "metadata": {
        "colab": {
          "base_uri": "https://localhost:8080/"
        },
        "id": "DnPa-Q3O4xMo",
        "outputId": "d9e0ea5f-4d42-4216-c898-7ec9068690ea"
      },
      "execution_count": 137,
      "outputs": [
        {
          "output_type": "stream",
          "name": "stdout",
          "text": [
            "+----------+------+-------------+-------+----------+------+------------+----------------+---------------+-------------------+-------------------+-------------------+-------------------+-------------------+-------------------+--------------+----------------+--------------------+--------------+------------+-----+--------------------+--------------------+------------------+--------------+---------------------+---------------+------------------+--------------------+---------------------+-----------------------+----------------------+--------------------+------------------------+-------------------+-------------------+-----------------------+----------------+------------------------+---------------------+-------------+--------------------+\n",
            "|customerID|gender|SeniorCitizen|Partner|Dependents|tenure|PhoneService|   MultipleLines|InternetService|     OnlineSecurity|       OnlineBackup|   DeviceProtection|        TechSupport|        StreamingTV|    StreamingMovies|      Contract|PaperlessBilling|       PaymentMethod|MonthlyCharges|TotalCharges|Churn|   numerical_vectors|  standarise_vectors|customerID_indexed|gender_indexed|SeniorCitizen_indexed|Partner_indexed|Dependents_indexed|PhoneService_indexed|MultipleLines_indexed|InternetService_indexed|OnlineSecurity_indexed|OnlineBackup_indexed|DeviceProtection_indexed|TechSupport_indexed|StreamingTV_indexed|StreamingMovies_indexed|Contract_indexed|PaperlessBilling_indexed|PaymentMethod_indexed|Churn_indexed| categorical_vectors|\n",
            "+----------+------+-------------+-------+----------+------+------------+----------------+---------------+-------------------+-------------------+-------------------+-------------------+-------------------+-------------------+--------------+----------------+--------------------+--------------+------------+-----+--------------------+--------------------+------------------+--------------+---------------------+---------------+------------------+--------------------+---------------------+-----------------------+----------------------+--------------------+------------------------+-------------------+-------------------+-----------------------+----------------+------------------------+---------------------+-------------+--------------------+\n",
            "|7590-VHVEG|Female|           No|    Yes|        No|   1.0|          No|No phone service|            DSL|                 No|                Yes|                 No|                 No|                 No|                 No|Month-to-month|             Yes|    Electronic check|         29.85|       29.85|   No|[29.8500003814697...|[-1.1601185175279...|            5374.0|           1.0|                  0.0|            1.0|               0.0|                 1.0|                  2.0|                    1.0|                   0.0|                 1.0|                     0.0|                0.0|                0.0|                    0.0|             0.0|                     0.0|                  0.0|          0.0|(16,[0,2,4,5,6,8]...|\n",
            "|5575-GNVDE|  Male|           No|     No|        No|  34.0|         Yes|              No|            DSL|                Yes|                 No|                Yes|                 No|                 No|                 No|      One year|              No|        Mailed check|         56.95|      1889.5|   No|[56.9500007629394...|[-0.2595445814041...|            3961.0|           0.0|                  0.0|            0.0|               0.0|                 0.0|                  0.0|                    1.0|                   1.0|                 0.0|                     1.0|                0.0|                0.0|                    0.0|             2.0|                     1.0|                  1.0|          0.0|(16,[6,7,9,13,14,...|\n",
            "|3668-QPYBK|  Male|           No|     No|        No|   2.0|         Yes|              No|            DSL|                Yes|                Yes|                 No|                 No|                 No|                 No|Month-to-month|             Yes|        Mailed check|         53.85|      108.15|  Yes|[53.8499984741210...|[-0.3625623387449...|            2564.0|           0.0|                  0.0|            0.0|               0.0|                 0.0|                  0.0|                    1.0|                   1.0|                 1.0|                     0.0|                0.0|                0.0|                    0.0|             0.0|                     0.0|                  1.0|          1.0|(16,[6,7,8,15],[1...|\n",
            "|7795-CFOCW|  Male|           No|     No|        No|  45.0|          No|No phone service|            DSL|                Yes|                 No|                Yes|                Yes|                 No|                 No|      One year|              No|Bank transfer (au...|          42.3|     1840.75|   No|[42.2999992370605...|[-0.7463862549342...|            5534.0|           0.0|                  0.0|            0.0|               0.0|                 1.0|                  2.0|                    1.0|                   1.0|                 0.0|                     1.0|                1.0|                0.0|                    0.0|             2.0|                     1.0|                  2.0|          0.0|(16,[4,5,6,7,9,10...|\n",
            "|9237-HQITU|Female|           No|     No|        No|   2.0|         Yes|              No|    Fiber optic|                 No|                 No|                 No|                 No|                 No|                 No|Month-to-month|             Yes|    Electronic check|          70.7|      151.65|  Yes|[70.6999969482421...|[0.19738855556918...|            6510.0|           1.0|                  0.0|            0.0|               0.0|                 0.0|                  0.0|                    0.0|                   0.0|                 0.0|                     0.0|                0.0|                0.0|                    0.0|             0.0|                     0.0|                  0.0|          1.0|      (16,[0],[1.0])|\n",
            "|9305-CDSKC|Female|           No|     No|        No|   8.0|         Yes|             Yes|    Fiber optic|                 No|                 No|                Yes|                 No|                Yes|                Yes|Month-to-month|             Yes|    Electronic check|         99.65|       820.5|  Yes|[99.6500015258789...|[1.15944092480493...|            6550.0|           1.0|                  0.0|            0.0|               0.0|                 0.0|                  1.0|                    0.0|                   0.0|                 0.0|                     1.0|                0.0|                1.0|                    1.0|             0.0|                     0.0|                  0.0|          1.0|(16,[0,5,9,11,12]...|\n",
            "|1452-KIOVK|  Male|           No|     No|       Yes|  22.0|         Yes|             Yes|    Fiber optic|                 No|                Yes|                 No|                 No|                Yes|                 No|Month-to-month|             Yes|Credit card (auto...|          89.1|      1949.4|   No|[89.0999984741211...|[0.80884839193782...|            1002.0|           0.0|                  0.0|            0.0|               1.0|                 0.0|                  1.0|                    0.0|                   0.0|                 1.0|                     0.0|                0.0|                1.0|                    0.0|             0.0|                     0.0|                  3.0|          0.0|(16,[3,5,8,11,15]...|\n",
            "|6713-OKOMC|Female|           No|     No|        No|  10.0|          No|No phone service|            DSL|                Yes|                 No|                 No|                 No|                 No|                 No|Month-to-month|              No|        Mailed check|         29.75|       301.9|   No|[29.75,301.899993...|[-1.1634416812137...|            4769.0|           1.0|                  0.0|            0.0|               0.0|                 1.0|                  2.0|                    1.0|                   1.0|                 0.0|                     0.0|                0.0|                0.0|                    0.0|             0.0|                     1.0|                  1.0|          0.0|(16,[0,4,5,6,7,14...|\n",
            "|7892-POOKP|Female|           No|    Yes|        No|  28.0|         Yes|             Yes|    Fiber optic|                 No|                 No|                Yes|                Yes|                Yes|                Yes|Month-to-month|             Yes|    Electronic check|         104.8|     3046.05|  Yes|[104.800003051757...|[1.33058325247720...|            5603.0|           1.0|                  0.0|            1.0|               0.0|                 0.0|                  1.0|                    0.0|                   0.0|                 0.0|                     1.0|                1.0|                1.0|                    1.0|             0.0|                     0.0|                  0.0|          1.0|(16,[0,2,5,9,10,1...|\n",
            "|6388-TABGU|  Male|           No|     No|       Yes|  62.0|         Yes|              No|            DSL|                Yes|                Yes|                 No|                 No|                 No|                 No|      One year|              No|Bank transfer (au...|         56.15|     3487.95|   No|[56.1500015258789...|[-0.2861297641227...|            4533.0|           0.0|                  0.0|            0.0|               1.0|                 0.0|                  0.0|                    1.0|                   1.0|                 1.0|                     0.0|                0.0|                0.0|                    0.0|             2.0|                     1.0|                  2.0|          0.0|(16,[3,6,7,8,13,1...|\n",
            "|9763-GRSKD|  Male|           No|    Yes|       Yes|  13.0|         Yes|              No|            DSL|                Yes|                 No|                 No|                 No|                 No|                 No|Month-to-month|             Yes|        Mailed check|         49.95|      587.45|   No|[49.9500007629394...|[-0.4921651520362...|            6870.0|           0.0|                  0.0|            1.0|               1.0|                 0.0|                  0.0|                    1.0|                   1.0|                 0.0|                     0.0|                0.0|                0.0|                    0.0|             0.0|                     0.0|                  1.0|          0.0|(16,[2,3,6,7,15],...|\n",
            "|7469-LKBCI|  Male|           No|     No|        No|  16.0|         Yes|              No|             No|No internet service|No internet service|No internet service|No internet service|No internet service|No internet service|      Two year|              No|Credit card (auto...|         18.95|       326.8|   No|[18.9500007629394...|[-1.5223419648353...|            5287.0|           0.0|                  0.0|            0.0|               0.0|                 0.0|                  0.0|                    2.0|                   2.0|                 2.0|                     2.0|                2.0|                2.0|                    2.0|             1.0|                     1.0|                  3.0|          0.0|[0.0,0.0,0.0,0.0,...|\n",
            "|8091-TTVAX|  Male|           No|    Yes|        No|  58.0|         Yes|             Yes|    Fiber optic|                 No|                 No|                Yes|                 No|                Yes|                Yes|      One year|              No|Credit card (auto...|        100.35|      5681.1|   No|[100.349998474121...|[1.18270288045362...|            5750.0|           0.0|                  0.0|            1.0|               0.0|                 0.0|                  1.0|                    0.0|                   0.0|                 0.0|                     1.0|                0.0|                1.0|                    1.0|             2.0|                     1.0|                  3.0|          0.0|(16,[2,5,9,11,12,...|\n",
            "|0280-XJGEX|  Male|           No|     No|        No|  49.0|         Yes|             Yes|    Fiber optic|                 No|                Yes|                Yes|                 No|                Yes|                Yes|Month-to-month|             Yes|Bank transfer (au...|         103.7|      5036.3|  Yes|[103.699996948242...|[1.29402838854884...|             174.0|           0.0|                  0.0|            0.0|               0.0|                 0.0|                  1.0|                    0.0|                   0.0|                 1.0|                     1.0|                0.0|                1.0|                    1.0|             0.0|                     0.0|                  2.0|          1.0|(16,[5,8,9,11,12,...|\n",
            "|5129-JLPIS|  Male|           No|     No|        No|  25.0|         Yes|              No|    Fiber optic|                Yes|                 No|                Yes|                Yes|                Yes|                Yes|Month-to-month|             Yes|    Electronic check|         105.5|     2686.05|   No|[105.5,2686.05004...|[1.35384520812588...|            3614.0|           0.0|                  0.0|            0.0|               0.0|                 0.0|                  0.0|                    0.0|                   1.0|                 0.0|                     1.0|                1.0|                1.0|                    1.0|             0.0|                     0.0|                  0.0|          0.0|(16,[7,9,10,11,12...|\n",
            "|3655-SNQYZ|Female|           No|    Yes|       Yes|  69.0|         Yes|             Yes|    Fiber optic|                Yes|                Yes|                Yes|                Yes|                Yes|                Yes|      Two year|              No|Credit card (auto...|        113.25|     7895.15|   No|[113.25,7895.1499...|[1.61138941132565...|            2556.0|           1.0|                  0.0|            1.0|               1.0|                 0.0|                  1.0|                    0.0|                   1.0|                 1.0|                     1.0|                1.0|                1.0|                    1.0|             1.0|                     1.0|                  3.0|          0.0|[1.0,0.0,1.0,1.0,...|\n",
            "|8191-XWSZG|Female|           No|     No|        No|  52.0|         Yes|              No|             No|No internet service|No internet service|No internet service|No internet service|No internet service|No internet service|      One year|              No|        Mailed check|         20.65|     1022.95|   No|[20.6499996185302...|[-1.4658484357122...|            5819.0|           1.0|                  0.0|            0.0|               0.0|                 0.0|                  0.0|                    2.0|                   2.0|                 2.0|                     2.0|                2.0|                2.0|                    2.0|             2.0|                     1.0|                  1.0|          0.0|[1.0,0.0,0.0,0.0,...|\n",
            "|9959-WOFKT|  Male|           No|     No|       Yes|  71.0|         Yes|             Yes|    Fiber optic|                Yes|                 No|                Yes|                 No|                Yes|                Yes|      Two year|              No|Bank transfer (au...|         106.7|     7382.25|   No|[106.699996948242...|[1.39372291881971...|            7018.0|           0.0|                  0.0|            0.0|               1.0|                 0.0|                  1.0|                    0.0|                   1.0|                 0.0|                     1.0|                0.0|                1.0|                    1.0|             1.0|                     1.0|                  2.0|          0.0|(16,[3,5,7,9,11,1...|\n",
            "|4190-MFLUW|Female|           No|    Yes|       Yes|  10.0|         Yes|              No|            DSL|                 No|                 No|                Yes|                Yes|                 No|                 No|Month-to-month|              No|Credit card (auto...|          55.2|      528.35|  Yes|[55.2000007629394...|[-0.3176997240622...|            2937.0|           1.0|                  0.0|            1.0|               1.0|                 0.0|                  0.0|                    1.0|                   0.0|                 0.0|                     1.0|                1.0|                0.0|                    0.0|             0.0|                     1.0|                  3.0|          1.0|(16,[0,2,3,6,9,10...|\n",
            "|4183-MYFRB|Female|           No|     No|        No|  21.0|         Yes|              No|    Fiber optic|                 No|                Yes|                Yes|                 No|                 No|                Yes|Month-to-month|             Yes|    Electronic check|         90.05|      1862.9|   No|[90.0500030517578...|[0.84041847864538...|            2928.0|           1.0|                  0.0|            0.0|               0.0|                 0.0|                  0.0|                    0.0|                   0.0|                 1.0|                     1.0|                0.0|                0.0|                    1.0|             0.0|                     0.0|                  0.0|          0.0|(16,[0,8,9,12],[1...|\n",
            "+----------+------+-------------+-------+----------+------+------------+----------------+---------------+-------------------+-------------------+-------------------+-------------------+-------------------+-------------------+--------------+----------------+--------------------+--------------+------------+-----+--------------------+--------------------+------------------+--------------+---------------------+---------------+------------------+--------------------+---------------------+-----------------------+----------------------+--------------------+------------------------+-------------------+-------------------+-----------------------+----------------+------------------------+---------------------+-------------+--------------------+\n",
            "only showing top 20 rows\n",
            "\n"
          ]
        }
      ]
    },
    {
      "cell_type": "code",
      "source": [
        "final_vector = VectorAssembler(inputCols=['standarise_vectors', 'categorical_vectors'], outputCol='final_feature_vector')\n",
        "final_data = final_vector.transform(final)\n",
        "\n",
        "\n",
        "final_data.select('final_feature_vector', 'Churn_indexed').show()"
      ],
      "metadata": {
        "colab": {
          "base_uri": "https://localhost:8080/"
        },
        "id": "v3Vu_1Qu5O9W",
        "outputId": "2712f34e-c027-4446-9e41-f49cdfd6d811"
      },
      "execution_count": 138,
      "outputs": [
        {
          "output_type": "stream",
          "name": "stdout",
          "text": [
            "+--------------------+-------------+\n",
            "|final_feature_vector|Churn_indexed|\n",
            "+--------------------+-------------+\n",
            "|(19,[0,1,2,3,5,7,...|          0.0|\n",
            "|(19,[0,1,2,9,10,1...|          0.0|\n",
            "|(19,[0,1,2,9,10,1...|          1.0|\n",
            "|[-0.7463862549342...|          0.0|\n",
            "|(19,[0,1,2,3],[0....|          1.0|\n",
            "|(19,[0,1,2,3,8,12...|          1.0|\n",
            "|(19,[0,1,2,6,8,11...|          0.0|\n",
            "|(19,[0,1,2,3,7,8,...|          0.0|\n",
            "|(19,[0,1,2,3,5,8,...|          1.0|\n",
            "|(19,[0,1,2,6,9,10...|          0.0|\n",
            "|(19,[0,1,2,5,6,9,...|          0.0|\n",
            "|[-1.5223419648353...|          0.0|\n",
            "|(19,[0,1,2,5,8,12...|          0.0|\n",
            "|(19,[0,1,2,8,11,1...|          1.0|\n",
            "|(19,[0,1,2,10,12,...|          0.0|\n",
            "|[1.61138941132565...|          0.0|\n",
            "|[-1.4658484357122...|          0.0|\n",
            "|[1.39372291881971...|          0.0|\n",
            "|(19,[0,1,2,3,5,6,...|          1.0|\n",
            "|(19,[0,1,2,3,11,1...|          0.0|\n",
            "+--------------------+-------------+\n",
            "only showing top 20 rows\n",
            "\n"
          ]
        }
      ]
    },
    {
      "cell_type": "code",
      "source": [
        "train, test = final_data.randomSplit([0.7, 0.3], seed=102)\n",
        "train.show()\n",
        "test.show()\n",
        "train.count()\n",
        "test.count()"
      ],
      "metadata": {
        "colab": {
          "base_uri": "https://localhost:8080/"
        },
        "id": "rzZpVqzH-aGq",
        "outputId": "9dfbb6ec-38f4-481b-88f3-95ee2ae6d35d"
      },
      "execution_count": 140,
      "outputs": [
        {
          "output_type": "stream",
          "name": "stdout",
          "text": [
            "+----------+------+-------------+-------+----------+------+------------+----------------+---------------+-------------------+-------------------+-------------------+-------------------+-------------------+-------------------+--------------+----------------+--------------------+--------------+------------+-----+--------------------+--------------------+------------------+--------------+---------------------+---------------+------------------+--------------------+---------------------+-----------------------+----------------------+--------------------+------------------------+-------------------+-------------------+-----------------------+----------------+------------------------+---------------------+-------------+--------------------+--------------------+\n",
            "|customerID|gender|SeniorCitizen|Partner|Dependents|tenure|PhoneService|   MultipleLines|InternetService|     OnlineSecurity|       OnlineBackup|   DeviceProtection|        TechSupport|        StreamingTV|    StreamingMovies|      Contract|PaperlessBilling|       PaymentMethod|MonthlyCharges|TotalCharges|Churn|   numerical_vectors|  standarise_vectors|customerID_indexed|gender_indexed|SeniorCitizen_indexed|Partner_indexed|Dependents_indexed|PhoneService_indexed|MultipleLines_indexed|InternetService_indexed|OnlineSecurity_indexed|OnlineBackup_indexed|DeviceProtection_indexed|TechSupport_indexed|StreamingTV_indexed|StreamingMovies_indexed|Contract_indexed|PaperlessBilling_indexed|PaymentMethod_indexed|Churn_indexed| categorical_vectors|final_feature_vector|\n",
            "+----------+------+-------------+-------+----------+------+------------+----------------+---------------+-------------------+-------------------+-------------------+-------------------+-------------------+-------------------+--------------+----------------+--------------------+--------------+------------+-----+--------------------+--------------------+------------------+--------------+---------------------+---------------+------------------+--------------------+---------------------+-----------------------+----------------------+--------------------+------------------------+-------------------+-------------------+-----------------------+----------------+------------------------+---------------------+-------------+--------------------+--------------------+\n",
            "|0002-ORFBO|Female|           No|    Yes|       Yes|   9.0|         Yes|              No|            DSL|                 No|                Yes|                 No|                Yes|                Yes|                 No|      One year|             Yes|        Mailed check|          65.6|       593.3|   No|[65.5999984741211...|[0.02790790481594...|               0.0|           1.0|                  0.0|            1.0|               1.0|                 0.0|                  0.0|                    1.0|                   0.0|                 1.0|                     0.0|                1.0|                1.0|                    0.0|             2.0|                     0.0|                  1.0|          0.0|(16,[0,2,3,6,8,10...|[0.02790790481594...|\n",
            "|0004-TLHLJ|  Male|           No|     No|        No|   4.0|         Yes|              No|    Fiber optic|                 No|                 No|                Yes|                 No|                 No|                 No|Month-to-month|             Yes|    Electronic check|          73.9|      280.85|  Yes|[73.9000015258789...|[0.30372953997989...|               2.0|           0.0|                  0.0|            0.0|               0.0|                 0.0|                  0.0|                    0.0|                   0.0|                 0.0|                     1.0|                0.0|                0.0|                    0.0|             0.0|                     0.0|                  0.0|          1.0|      (16,[9],[1.0])|(19,[0,1,2,12],[0...|\n",
            "|0013-EXCHZ|Female|          Yes|    Yes|        No|   3.0|         Yes|              No|    Fiber optic|                 No|                 No|                 No|                Yes|                Yes|                 No|Month-to-month|             Yes|        Mailed check|          83.9|       267.4|  Yes|[83.9000015258789...|[0.63604464088282...|               4.0|           1.0|                  1.0|            1.0|               0.0|                 0.0|                  0.0|                    0.0|                   0.0|                 0.0|                     0.0|                1.0|                1.0|                    0.0|             0.0|                     0.0|                  1.0|          1.0|(16,[0,1,2,10,11,...|(19,[0,1,2,3,4,5,...|\n",
            "|0014-BMAQU|  Male|           No|    Yes|        No|  63.0|         Yes|             Yes|    Fiber optic|                Yes|                 No|                 No|                Yes|                 No|                 No|      Two year|             Yes|Credit card (auto...|         84.65|      5377.8|   No|[84.6500015258789...|[0.66096827345054...|               7.0|           0.0|                  0.0|            1.0|               0.0|                 0.0|                  1.0|                    0.0|                   1.0|                 0.0|                     0.0|                1.0|                0.0|                    0.0|             1.0|                     0.0|                  3.0|          0.0|(16,[2,5,7,10,13,...|(19,[0,1,2,5,8,10...|\n",
            "|0015-UOCOJ|Female|          Yes|     No|        No|   7.0|         Yes|              No|            DSL|                Yes|                 No|                 No|                 No|                 No|                 No|Month-to-month|             Yes|    Electronic check|          48.2|      340.35|   No|[48.2000007629394...|[-0.5503202946942...|               8.0|           1.0|                  1.0|            0.0|               0.0|                 0.0|                  0.0|                    1.0|                   1.0|                 0.0|                     0.0|                0.0|                0.0|                    0.0|             0.0|                     0.0|                  0.0|          0.0|(16,[0,1,6,7],[1....|(19,[0,1,2,3,4,9,...|\n",
            "|0016-QLJIS|Female|           No|    Yes|       Yes|  65.0|         Yes|             Yes|            DSL|                Yes|                Yes|                Yes|                Yes|                Yes|                Yes|      Two year|             Yes|        Mailed check|         90.45|      5957.9|   No|[90.4499969482421...|[0.85371087985246...|               9.0|           1.0|                  0.0|            1.0|               1.0|                 0.0|                  1.0|                    1.0|                   1.0|                 1.0|                     1.0|                1.0|                1.0|                    1.0|             1.0|                     0.0|                  1.0|          0.0|[1.0,0.0,1.0,1.0,...|[0.85371087985246...|\n",
            "|0017-DINOC|  Male|           No|     No|        No|  54.0|          No|No phone service|            DSL|                Yes|                 No|                 No|                Yes|                Yes|                 No|      Two year|              No|Credit card (auto...|          45.2|     2460.55|   No|[45.2000007629394...|[-0.6500148249651...|              10.0|           0.0|                  0.0|            0.0|               0.0|                 1.0|                  2.0|                    1.0|                   1.0|                 0.0|                     0.0|                1.0|                1.0|                    0.0|             1.0|                     1.0|                  3.0|          0.0|(16,[4,5,6,7,10,1...|[-0.6500148249651...|\n",
            "|0017-IUDMW|Female|           No|    Yes|       Yes|  72.0|         Yes|             Yes|    Fiber optic|                Yes|                Yes|                Yes|                Yes|                Yes|                Yes|      Two year|             Yes|Credit card (auto...|         116.8|     8456.75|   No|[116.800003051757...|[1.72936137356071...|              11.0|           1.0|                  0.0|            1.0|               1.0|                 0.0|                  1.0|                    0.0|                   1.0|                 1.0|                     1.0|                1.0|                1.0|                    1.0|             1.0|                     0.0|                  3.0|          0.0|[1.0,0.0,1.0,1.0,...|[1.72936137356071...|\n",
            "|0018-NYROU|Female|           No|    Yes|        No|   5.0|         Yes|              No|    Fiber optic|                 No|                 No|                 No|                 No|                 No|                 No|Month-to-month|             Yes|    Electronic check|         68.95|       351.5|   No|[68.9499969482421...|[0.13923341291116...|              12.0|           1.0|                  0.0|            1.0|               0.0|                 0.0|                  0.0|                    0.0|                   0.0|                 0.0|                     0.0|                0.0|                0.0|                    0.0|             0.0|                     0.0|                  0.0|          0.0|(16,[0,2],[1.0,1.0])|(19,[0,1,2,3,5],[...|\n",
            "|0019-EFAEP|Female|           No|     No|        No|  72.0|         Yes|             Yes|    Fiber optic|                Yes|                Yes|                Yes|                 No|                Yes|                 No|      Two year|             Yes|Bank transfer (au...|         101.3|     7261.25|   No|[101.300003051757...|[1.21427296716117...|              13.0|           1.0|                  0.0|            0.0|               0.0|                 0.0|                  1.0|                    0.0|                   1.0|                 1.0|                     1.0|                0.0|                1.0|                    0.0|             1.0|                     0.0|                  2.0|          0.0|(16,[0,5,7,8,9,11...|(19,[0,1,2,3,8,10...|\n",
            "|0019-GFNTW|Female|           No|     No|        No|  56.0|          No|No phone service|            DSL|                Yes|                Yes|                Yes|                Yes|                 No|                 No|      Two year|              No|Bank transfer (au...|         45.05|      2560.1|   No|[45.0499992370605...|[-0.6549996021859...|              14.0|           1.0|                  0.0|            0.0|               0.0|                 1.0|                  2.0|                    1.0|                   1.0|                 1.0|                     1.0|                1.0|                0.0|                    0.0|             1.0|                     1.0|                  2.0|          0.0|[1.0,0.0,0.0,0.0,...|[-0.6549996021859...|\n",
            "|0020-INWCK|Female|           No|    Yes|       Yes|  71.0|         Yes|             Yes|    Fiber optic|                 No|                Yes|                Yes|                 No|                 No|                Yes|      Two year|             Yes|Credit card (auto...|         95.75|      6849.4|   No|[95.75,6849.39990...|[1.02983798474553...|              15.0|           1.0|                  0.0|            1.0|               1.0|                 0.0|                  1.0|                    0.0|                   0.0|                 1.0|                     1.0|                0.0|                0.0|                    1.0|             1.0|                     0.0|                  3.0|          0.0|(16,[0,2,3,5,8,9,...|[1.02983798474553...|\n",
            "|0020-JDNXP|Female|           No|    Yes|       Yes|  34.0|          No|No phone service|            DSL|                Yes|                 No|                Yes|                Yes|                Yes|                Yes|      One year|              No|        Mailed check|         61.25|      1993.2|   No|[61.25,1993.19995...|[-0.1166491133695...|              16.0|           1.0|                  0.0|            1.0|               1.0|                 1.0|                  2.0|                    1.0|                   1.0|                 0.0|                     1.0|                1.0|                1.0|                    1.0|             2.0|                     1.0|                  1.0|          0.0|[1.0,0.0,1.0,1.0,...|[-0.1166491133695...|\n",
            "|0021-IKXGC|Female|          Yes|     No|        No|   1.0|         Yes|             Yes|    Fiber optic|                 No|                 No|                 No|                 No|                 No|                 No|Month-to-month|             Yes|    Electronic check|          72.1|        72.1|   No|[72.0999984741211...|[0.24391272040285...|              17.0|           1.0|                  1.0|            0.0|               0.0|                 0.0|                  1.0|                    0.0|                   0.0|                 0.0|                     0.0|                0.0|                0.0|                    0.0|             0.0|                     0.0|                  0.0|          0.0|(16,[0,1,5],[1.0,...|(19,[0,1,2,3,4,8]...|\n",
            "|0023-UYUPN|Female|          Yes|    Yes|        No|  50.0|         Yes|             Yes|             No|No internet service|No internet service|No internet service|No internet service|No internet service|No internet service|      One year|              No|    Electronic check|          25.2|      1306.3|   No|[25.2000007629394...|[-1.3146450267709...|              20.0|           1.0|                  1.0|            1.0|               0.0|                 0.0|                  1.0|                    2.0|                   2.0|                 2.0|                     2.0|                2.0|                2.0|                    2.0|             2.0|                     1.0|                  0.0|          0.0|[1.0,1.0,1.0,0.0,...|[-1.3146450267709...|\n",
            "|0023-XUOPT|Female|           No|    Yes|        No|  13.0|         Yes|             Yes|    Fiber optic|                 No|                Yes|                Yes|                 No|                Yes|                 No|Month-to-month|              No|    Electronic check|          94.1|      1215.6|  Yes|[94.0999984741211...|[0.97500594238929...|              21.0|           1.0|                  0.0|            1.0|               0.0|                 0.0|                  1.0|                    0.0|                   0.0|                 1.0|                     1.0|                0.0|                1.0|                    0.0|             0.0|                     1.0|                  0.0|          1.0|(16,[0,2,5,8,9,11...|(19,[0,1,2,3,5,8,...|\n",
            "|0031-PVLZI|Female|           No|    Yes|       Yes|   4.0|         Yes|              No|             No|No internet service|No internet service|No internet service|No internet service|No internet service|No internet service|Month-to-month|              No|        Mailed check|         20.35|       76.35|  Yes|[20.3500003814697...|[-1.4758178633857...|              24.0|           1.0|                  0.0|            1.0|               1.0|                 0.0|                  0.0|                    2.0|                   2.0|                 2.0|                     2.0|                2.0|                2.0|                    2.0|             0.0|                     1.0|                  1.0|          1.0|[1.0,0.0,1.0,1.0,...|[-1.4758178633857...|\n",
            "|0032-PGELS|Female|           No|    Yes|       Yes|   1.0|          No|No phone service|            DSL|                Yes|                 No|                 No|                 No|                 No|                 No|Month-to-month|              No|Bank transfer (au...|          30.5|        30.5|  Yes|     [30.5,30.5,1.0]|[-1.1385180486460...|              25.0|           1.0|                  0.0|            1.0|               1.0|                 1.0|                  2.0|                    1.0|                   1.0|                 0.0|                     0.0|                0.0|                0.0|                    0.0|             0.0|                     1.0|                  2.0|          1.0|(16,[0,2,3,4,5,6,...|[-1.1385180486460...|\n",
            "|0036-IHMOT|Female|           No|    Yes|       Yes|  55.0|         Yes|              No|    Fiber optic|                 No|                Yes|                Yes|                Yes|                Yes|                Yes|      One year|             Yes|Bank transfer (au...|         103.7|     5656.75|   No|[103.699996948242...|[1.29402838854884...|              26.0|           1.0|                  0.0|            1.0|               1.0|                 0.0|                  0.0|                    0.0|                   0.0|                 1.0|                     1.0|                1.0|                1.0|                    1.0|             2.0|                     0.0|                  2.0|          0.0|[1.0,0.0,1.0,1.0,...|[1.29402838854884...|\n",
            "|0040-HALCW|  Male|           No|    Yes|       Yes|  54.0|         Yes|              No|             No|No internet service|No internet service|No internet service|No internet service|No internet service|No internet service|      Two year|              No|Credit card (auto...|          20.4|      1090.6|   No|[20.3999996185302...|[-1.4741563132348...|              27.0|           0.0|                  0.0|            1.0|               1.0|                 0.0|                  0.0|                    2.0|                   2.0|                 2.0|                     2.0|                2.0|                2.0|                    2.0|             1.0|                     1.0|                  3.0|          0.0|[0.0,0.0,1.0,1.0,...|[-1.4741563132348...|\n",
            "+----------+------+-------------+-------+----------+------+------------+----------------+---------------+-------------------+-------------------+-------------------+-------------------+-------------------+-------------------+--------------+----------------+--------------------+--------------+------------+-----+--------------------+--------------------+------------------+--------------+---------------------+---------------+------------------+--------------------+---------------------+-----------------------+----------------------+--------------------+------------------------+-------------------+-------------------+-----------------------+----------------+------------------------+---------------------+-------------+--------------------+--------------------+\n",
            "only showing top 20 rows\n",
            "\n",
            "+----------+------+-------------+-------+----------+------+------------+----------------+---------------+-------------------+-------------------+-------------------+-------------------+-------------------+-------------------+--------------+----------------+--------------------+--------------+------------+-----+--------------------+--------------------+------------------+--------------+---------------------+---------------+------------------+--------------------+---------------------+-----------------------+----------------------+--------------------+------------------------+-------------------+-------------------+-----------------------+----------------+------------------------+---------------------+-------------+--------------------+--------------------+\n",
            "|customerID|gender|SeniorCitizen|Partner|Dependents|tenure|PhoneService|   MultipleLines|InternetService|     OnlineSecurity|       OnlineBackup|   DeviceProtection|        TechSupport|        StreamingTV|    StreamingMovies|      Contract|PaperlessBilling|       PaymentMethod|MonthlyCharges|TotalCharges|Churn|   numerical_vectors|  standarise_vectors|customerID_indexed|gender_indexed|SeniorCitizen_indexed|Partner_indexed|Dependents_indexed|PhoneService_indexed|MultipleLines_indexed|InternetService_indexed|OnlineSecurity_indexed|OnlineBackup_indexed|DeviceProtection_indexed|TechSupport_indexed|StreamingTV_indexed|StreamingMovies_indexed|Contract_indexed|PaperlessBilling_indexed|PaymentMethod_indexed|Churn_indexed| categorical_vectors|final_feature_vector|\n",
            "+----------+------+-------------+-------+----------+------+------------+----------------+---------------+-------------------+-------------------+-------------------+-------------------+-------------------+-------------------+--------------+----------------+--------------------+--------------+------------+-----+--------------------+--------------------+------------------+--------------+---------------------+---------------+------------------+--------------------+---------------------+-----------------------+----------------------+--------------------+------------------------+-------------------+-------------------+-----------------------+----------------+------------------------+---------------------+-------------+--------------------+--------------------+\n",
            "|0003-MKNFE|  Male|           No|     No|        No|   9.0|         Yes|             Yes|            DSL|                 No|                 No|                 No|                 No|                 No|                Yes|Month-to-month|              No|        Mailed check|          59.9|       542.4|   No|[59.9000015258789...|[-0.1615116012841...|               1.0|           0.0|                  0.0|            0.0|               0.0|                 0.0|                  1.0|                    1.0|                   0.0|                 0.0|                     0.0|                0.0|                0.0|                    1.0|             0.0|                     1.0|                  1.0|          0.0|(16,[5,6,12,14,15...|(19,[0,1,2,8,9,15...|\n",
            "|0011-IGKFF|  Male|          Yes|    Yes|        No|  13.0|         Yes|              No|    Fiber optic|                 No|                Yes|                Yes|                 No|                Yes|                Yes|Month-to-month|             Yes|    Electronic check|          98.0|     1237.85|  Yes|[98.0,1237.849975...|[1.10460888244869...|               3.0|           0.0|                  1.0|            1.0|               0.0|                 0.0|                  0.0|                    0.0|                   0.0|                 1.0|                     1.0|                0.0|                1.0|                    1.0|             0.0|                     0.0|                  0.0|          1.0|(16,[1,2,8,9,11,1...|(19,[0,1,2,4,5,11...|\n",
            "|0013-MHZWF|Female|           No|     No|       Yes|   9.0|         Yes|              No|            DSL|                 No|                 No|                 No|                Yes|                Yes|                Yes|Month-to-month|             Yes|Credit card (auto...|          69.4|      571.45|   No|[69.4000015258789...|[0.15418774457358...|               5.0|           1.0|                  0.0|            0.0|               1.0|                 0.0|                  0.0|                    1.0|                   0.0|                 0.0|                     0.0|                1.0|                1.0|                    1.0|             0.0|                     0.0|                  3.0|          0.0|(16,[0,3,6,10,11,...|(19,[0,1,2,3,6,9,...|\n",
            "|0013-SMEOE|Female|          Yes|    Yes|        No|  71.0|         Yes|              No|    Fiber optic|                Yes|                Yes|                Yes|                Yes|                Yes|                Yes|      Two year|             Yes|Bank transfer (au...|         109.7|     7904.25|   No|[109.699996948242...|[1.49341744909059...|               6.0|           1.0|                  1.0|            1.0|               0.0|                 0.0|                  0.0|                    0.0|                   1.0|                 1.0|                     1.0|                1.0|                1.0|                    1.0|             1.0|                     0.0|                  2.0|          0.0|[1.0,1.0,1.0,0.0,...|[1.49341744909059...|\n",
            "|0022-TCJCI|  Male|          Yes|     No|        No|  45.0|         Yes|              No|            DSL|                Yes|                 No|                Yes|                 No|                 No|                Yes|      One year|              No|Credit card (auto...|          62.7|      2791.5|  Yes|[62.7000007629394...|[-0.0684633983850...|              18.0|           0.0|                  1.0|            0.0|               0.0|                 0.0|                  0.0|                    1.0|                   1.0|                 0.0|                     1.0|                0.0|                0.0|                    1.0|             2.0|                     1.0|                  3.0|          1.0|(16,[1,6,7,9,12,1...|(19,[0,1,2,4,9,10...|\n",
            "|0023-HGHWL|  Male|          Yes|     No|        No|   1.0|          No|No phone service|            DSL|                 No|                 No|                 No|                 No|                 No|                 No|Month-to-month|             Yes|    Electronic check|          25.1|        25.1|  Yes|[25.1000003814697...|[-1.3179681904568...|              19.0|           0.0|                  1.0|            0.0|               0.0|                 1.0|                  2.0|                    1.0|                   0.0|                 0.0|                     0.0|                0.0|                0.0|                    0.0|             0.0|                     0.0|                  0.0|          1.0|(16,[1,4,5,6],[1....|(19,[0,1,2,4,7,8,...|\n",
            "|0027-KWYKW|Female|           No|    Yes|       Yes|  23.0|         Yes|             Yes|    Fiber optic|                 No|                 No|                 No|                 No|                Yes|                 No|Month-to-month|             Yes|    Electronic check|         83.75|     1849.95|   No|[83.75,1849.94995...|[0.63105986366202...|              22.0|           1.0|                  0.0|            1.0|               1.0|                 0.0|                  1.0|                    0.0|                   0.0|                 0.0|                     0.0|                0.0|                1.0|                    0.0|             0.0|                     0.0|                  0.0|          0.0|(16,[0,2,3,5,11],...|(19,[0,1,2,3,5,6,...|\n",
            "|0030-FNXPP|Female|           No|     No|        No|   3.0|         Yes|              No|             No|No internet service|No internet service|No internet service|No internet service|No internet service|No internet service|Month-to-month|              No|        Mailed check|         19.85|        57.2|   No|[19.8500003814697...|[-1.4924336184308...|              23.0|           1.0|                  0.0|            0.0|               0.0|                 0.0|                  0.0|                    2.0|                   2.0|                 2.0|                     2.0|                2.0|                2.0|                    2.0|             0.0|                     1.0|                  1.0|          0.0|[1.0,0.0,0.0,0.0,...|[-1.4924336184308...|\n",
            "|0042-RLHYP|Female|           No|    Yes|       Yes|  69.0|         Yes|              No|             No|No internet service|No internet service|No internet service|No internet service|No internet service|No internet service|      Two year|              No|Bank transfer (au...|          19.7|      1396.9|   No|[19.7000007629394...|[-1.4974183322675...|              29.0|           1.0|                  0.0|            1.0|               1.0|                 0.0|                  0.0|                    2.0|                   2.0|                 2.0|                     2.0|                2.0|                2.0|                    2.0|             1.0|                     1.0|                  2.0|          0.0|[1.0,0.0,1.0,1.0,...|[-1.4974183322675...|\n",
            "|0048-LUMLS|  Male|           No|    Yes|       Yes|  37.0|         Yes|              No|    Fiber optic|                 No|                 No|                 No|                 No|                Yes|                Yes|      One year|              No|Credit card (auto...|          91.2|     3247.55|   No|[91.1999969482421...|[0.87863451242018...|              30.0|           0.0|                  0.0|            1.0|               1.0|                 0.0|                  0.0|                    0.0|                   0.0|                 0.0|                     0.0|                0.0|                1.0|                    1.0|             2.0|                     1.0|                  3.0|          0.0|(16,[2,3,11,12,13...|(19,[0,1,2,5,6,14...|\n",
            "|0052-YNYOT|Female|           No|     No|        No|  67.0|         Yes|              No|             No|No internet service|No internet service|No internet service|No internet service|No internet service|No internet service|      One year|              No|    Electronic check|         20.55|      1343.4|   No|[20.5499992370605...|[-1.4691715993981...|              33.0|           1.0|                  0.0|            0.0|               0.0|                 0.0|                  0.0|                    2.0|                   2.0|                 2.0|                     2.0|                2.0|                2.0|                    2.0|             2.0|                     1.0|                  0.0|          0.0|[1.0,0.0,0.0,0.0,...|[-1.4691715993981...|\n",
            "|0057-QBUQH|Female|           No|     No|       Yes|  43.0|         Yes|             Yes|             No|No internet service|No internet service|No internet service|No internet service|No internet service|No internet service|      Two year|             Yes|    Electronic check|          25.1|     1070.15|   No|[25.1000003814697...|[-1.3179681904568...|              35.0|           1.0|                  0.0|            0.0|               1.0|                 0.0|                  1.0|                    2.0|                   2.0|                 2.0|                     2.0|                2.0|                2.0|                    2.0|             1.0|                     0.0|                  0.0|          0.0|[1.0,0.0,0.0,1.0,...|[-1.3179681904568...|\n",
            "|0064-SUDOG|Female|           No|    Yes|       Yes|  12.0|         Yes|              No|             No|No internet service|No internet service|No internet service|No internet service|No internet service|No internet service|      Two year|              No|Bank transfer (au...|          20.3|       224.5|   No|[20.2999992370605...|[-1.4774794769206...|              38.0|           1.0|                  0.0|            1.0|               1.0|                 0.0|                  0.0|                    2.0|                   2.0|                 2.0|                     2.0|                2.0|                2.0|                    2.0|             1.0|                     1.0|                  2.0|          0.0|[1.0,0.0,1.0,1.0,...|[-1.4774794769206...|\n",
            "|0082-LDZUE|  Male|           No|     No|        No|   1.0|         Yes|              No|            DSL|                 No|                 No|                 No|                 No|                 No|                 No|Month-to-month|             Yes|        Mailed check|          44.3|        44.3|   No|[44.2999992370605...|[-0.6799232347536...|              48.0|           0.0|                  0.0|            0.0|               0.0|                 0.0|                  0.0|                    1.0|                   0.0|                 0.0|                     0.0|                0.0|                0.0|                    0.0|             0.0|                     0.0|                  1.0|          0.0|(16,[6,15],[1.0,1...|(19,[0,1,2,9,18],...|\n",
            "|0083-PIVIK|  Male|           No|     No|        No|  64.0|         Yes|             Yes|            DSL|                Yes|                Yes|                Yes|                Yes|                Yes|                 No|      One year|              No|    Electronic check|         81.25|     5567.55|   No|[81.25,5567.54980...|[0.54798108843628...|              50.0|           0.0|                  0.0|            0.0|               0.0|                 0.0|                  1.0|                    1.0|                   1.0|                 1.0|                     1.0|                1.0|                1.0|                    0.0|             2.0|                     1.0|                  0.0|          0.0|(16,[5,6,7,8,9,10...|[0.54798108843628...|\n",
            "|0093-EXYQL|Female|          Yes|     No|        No|  40.0|         Yes|              No|    Fiber optic|                 No|                 No|                 No|                 No|                Yes|                Yes|Month-to-month|             Yes|    Electronic check|         91.55|      3673.6|   No|[91.5500030517578...|[0.89026574378082...|              52.0|           1.0|                  1.0|            0.0|               0.0|                 0.0|                  0.0|                    0.0|                   0.0|                 0.0|                     0.0|                0.0|                1.0|                    1.0|             0.0|                     0.0|                  0.0|          0.0|(16,[0,1,11,12],[...|(19,[0,1,2,3,4,14...|\n",
            "|0106-GHRQR|  Male|           No|     No|        No|  16.0|         Yes|             Yes|            DSL|                 No|                Yes|                Yes|                 No|                 No|                Yes|Month-to-month|             Yes|Bank transfer (au...|          71.4|      1212.1|   No|[71.4000015258789...|[0.22065076475416...|              61.0|           0.0|                  0.0|            0.0|               0.0|                 0.0|                  1.0|                    1.0|                   0.0|                 1.0|                     1.0|                0.0|                0.0|                    1.0|             0.0|                     0.0|                  2.0|          0.0|(16,[5,6,8,9,12,1...|(19,[0,1,2,8,9,11...|\n",
            "|0106-UGRDO|Female|           No|    Yes|        No|  69.0|         Yes|             Yes|    Fiber optic|                Yes|                Yes|                Yes|                Yes|                Yes|                Yes|      Two year|             Yes|    Electronic check|         116.0|     8182.85|   No|[116.0,8182.85009...|[1.70277606407396...|              62.0|           1.0|                  0.0|            1.0|               0.0|                 0.0|                  1.0|                    0.0|                   1.0|                 1.0|                     1.0|                1.0|                1.0|                    1.0|             1.0|                     0.0|                  0.0|          0.0|[1.0,0.0,1.0,0.0,...|[1.70277606407396...|\n",
            "|0107-WESLM|  Male|           No|     No|        No|   1.0|         Yes|              No|             No|No internet service|No internet service|No internet service|No internet service|No internet service|No internet service|Month-to-month|             Yes|    Electronic check|         19.85|       19.85|  Yes|[19.8500003814697...|[-1.4924336184308...|              63.0|           0.0|                  0.0|            0.0|               0.0|                 0.0|                  0.0|                    2.0|                   2.0|                 2.0|                     2.0|                2.0|                2.0|                    2.0|             0.0|                     0.0|                  0.0|          1.0|(16,[6,7,8,9,10,1...|(19,[0,1,2,9,10,1...|\n",
            "|0112-QAWRZ|  Male|           No|    Yes|       Yes|  16.0|         Yes|             Yes|    Fiber optic|                 No|                 No|                Yes|                 No|                Yes|                 No|Month-to-month|             Yes|Bank transfer (au...|          90.8|      1442.2|   No|[90.8000030517578...|[0.86534211121310...|              66.0|           0.0|                  0.0|            1.0|               1.0|                 0.0|                  1.0|                    0.0|                   0.0|                 0.0|                     1.0|                0.0|                1.0|                    0.0|             0.0|                     0.0|                  2.0|          0.0|(16,[2,3,5,9,11,1...|(19,[0,1,2,5,6,8,...|\n",
            "+----------+------+-------------+-------+----------+------+------------+----------------+---------------+-------------------+-------------------+-------------------+-------------------+-------------------+-------------------+--------------+----------------+--------------------+--------------+------------+-----+--------------------+--------------------+------------------+--------------+---------------------+---------------+------------------+--------------------+---------------------+-----------------------+----------------------+--------------------+------------------------+-------------------+-------------------+-----------------------+----------------+------------------------+---------------------+-------------+--------------------+--------------------+\n",
            "only showing top 20 rows\n",
            "\n"
          ]
        },
        {
          "output_type": "execute_result",
          "data": {
            "text/plain": [
              "2188"
            ]
          },
          "metadata": {},
          "execution_count": 140
        }
      ]
    },
    {
      "cell_type": "code",
      "source": [
        "dec_tree = DecisionTreeClassifier(featuresCol='final_feature_vector', labelCol='Churn_indexed', maxDepth=4)\n",
        "dec_tree_model = dec_tree.fit(train)\n",
        "dec_tree_model"
      ],
      "metadata": {
        "colab": {
          "base_uri": "https://localhost:8080/"
        },
        "id": "T1q2a7Zl-zoK",
        "outputId": "a1cf71ae-8795-4924-906a-9d7ec2f27073"
      },
      "execution_count": 145,
      "outputs": [
        {
          "output_type": "execute_result",
          "data": {
            "text/plain": [
              "DecisionTreeClassificationModel: uid=DecisionTreeClassifier_41f5df9339f7, depth=4, numNodes=17, numClasses=2, numFeatures=19"
            ]
          },
          "metadata": {},
          "execution_count": 145
        }
      ]
    },
    {
      "cell_type": "code",
      "source": [
        "lr = LogisticRegression(featuresCol='final_feature_vector', labelCol='Churn_indexed', regParam=0.01, elasticNetParam=1)\n",
        "lr_model = lr.fit(train)\n",
        "lr_model.summary.areaUnderROC\n"
      ],
      "metadata": {
        "colab": {
          "base_uri": "https://localhost:8080/"
        },
        "id": "QTsvvZj9ALpv",
        "outputId": "aab5473f-9137-4e60-bad9-e60b4c87555a"
      },
      "execution_count": 143,
      "outputs": [
        {
          "output_type": "execute_result",
          "data": {
            "text/plain": [
              "0.8355979597762542"
            ]
          },
          "metadata": {},
          "execution_count": 143
        }
      ]
    },
    {
      "cell_type": "code",
      "source": [
        "from pyspark.ml.classification import RandomForestClassifier\n",
        "\n",
        "rf = RandomForestClassifier(featuresCol='final_feature_vector', labelCol='Churn_indexed', numTrees=500, maxDepth=4, seed=1354)\n",
        "rf_model = rf.fit(train)\n",
        "rf_model.summary.areaUnderROC"
      ],
      "metadata": {
        "colab": {
          "base_uri": "https://localhost:8080/"
        },
        "id": "NZ_bWHfwDrk-",
        "outputId": "ddd75dcb-fc88-405d-d096-967aac5858b8"
      },
      "execution_count": 149,
      "outputs": [
        {
          "output_type": "execute_result",
          "data": {
            "text/plain": [
              "0.840238756581145"
            ]
          },
          "metadata": {},
          "execution_count": 149
        }
      ]
    },
    {
      "cell_type": "code",
      "source": [
        "predictions = dec_tree_model.transform(test)\n",
        "predictions.select('final_feature_vector', 'Churn_indexed', 'prediction').show()"
      ],
      "metadata": {
        "colab": {
          "base_uri": "https://localhost:8080/"
        },
        "id": "pL46u8m5_tAs",
        "outputId": "eaf63909-3f16-4b00-c5b2-ec2eab3b5131"
      },
      "execution_count": 142,
      "outputs": [
        {
          "output_type": "stream",
          "name": "stdout",
          "text": [
            "+--------------------+-------------+----------+\n",
            "|final_feature_vector|Churn_indexed|prediction|\n",
            "+--------------------+-------------+----------+\n",
            "|(19,[0,1,2,8,9,15...|          0.0|       0.0|\n",
            "|(19,[0,1,2,4,5,11...|          1.0|       1.0|\n",
            "|(19,[0,1,2,3,6,9,...|          0.0|       0.0|\n",
            "|[1.49341744909059...|          0.0|       0.0|\n",
            "|(19,[0,1,2,4,9,10...|          1.0|       0.0|\n",
            "|(19,[0,1,2,4,7,8,...|          1.0|       1.0|\n",
            "|(19,[0,1,2,3,5,6,...|          0.0|       0.0|\n",
            "|[-1.4924336184308...|          0.0|       0.0|\n",
            "|[-1.4974183322675...|          0.0|       0.0|\n",
            "|(19,[0,1,2,5,6,14...|          0.0|       0.0|\n",
            "|[-1.4691715993981...|          0.0|       0.0|\n",
            "|[-1.3179681904568...|          0.0|       0.0|\n",
            "|[-1.4774794769206...|          0.0|       0.0|\n",
            "|(19,[0,1,2,9,18],...|          0.0|       1.0|\n",
            "|[0.54798108843628...|          0.0|       0.0|\n",
            "|(19,[0,1,2,3,4,14...|          0.0|       0.0|\n",
            "|(19,[0,1,2,8,9,11...|          0.0|       0.0|\n",
            "|[1.70277606407396...|          0.0|       0.0|\n",
            "|(19,[0,1,2,9,10,1...|          1.0|       0.0|\n",
            "|(19,[0,1,2,5,6,8,...|          0.0|       1.0|\n",
            "+--------------------+-------------+----------+\n",
            "only showing top 20 rows\n",
            "\n"
          ]
        }
      ]
    },
    {
      "cell_type": "code",
      "source": [
        "predictions1 = lr_model.transform(test)\n",
        "predictions1.select('final_feature_vector', 'Churn_indexed', 'prediction').show()"
      ],
      "metadata": {
        "colab": {
          "base_uri": "https://localhost:8080/"
        },
        "id": "DKy8GqVoEpUw",
        "outputId": "d6c5b31b-2f0b-4e40-b43e-b4a4236a4f24"
      },
      "execution_count": 150,
      "outputs": [
        {
          "output_type": "stream",
          "name": "stdout",
          "text": [
            "+--------------------+-------------+----------+\n",
            "|final_feature_vector|Churn_indexed|prediction|\n",
            "+--------------------+-------------+----------+\n",
            "|(19,[0,1,2,8,9,15...|          0.0|       0.0|\n",
            "|(19,[0,1,2,4,5,11...|          1.0|       1.0|\n",
            "|(19,[0,1,2,3,6,9,...|          0.0|       0.0|\n",
            "|[1.49341744909059...|          0.0|       0.0|\n",
            "|(19,[0,1,2,4,9,10...|          1.0|       0.0|\n",
            "|(19,[0,1,2,4,7,8,...|          1.0|       1.0|\n",
            "|(19,[0,1,2,3,5,6,...|          0.0|       1.0|\n",
            "|[-1.4924336184308...|          0.0|       0.0|\n",
            "|[-1.4974183322675...|          0.0|       0.0|\n",
            "|(19,[0,1,2,5,6,14...|          0.0|       0.0|\n",
            "|[-1.4691715993981...|          0.0|       0.0|\n",
            "|[-1.3179681904568...|          0.0|       0.0|\n",
            "|[-1.4774794769206...|          0.0|       0.0|\n",
            "|(19,[0,1,2,9,18],...|          0.0|       0.0|\n",
            "|[0.54798108843628...|          0.0|       0.0|\n",
            "|(19,[0,1,2,3,4,14...|          0.0|       0.0|\n",
            "|(19,[0,1,2,8,9,11...|          0.0|       0.0|\n",
            "|[1.70277606407396...|          0.0|       0.0|\n",
            "|(19,[0,1,2,9,10,1...|          1.0|       0.0|\n",
            "|(19,[0,1,2,5,6,8,...|          0.0|       1.0|\n",
            "+--------------------+-------------+----------+\n",
            "only showing top 20 rows\n",
            "\n"
          ]
        }
      ]
    },
    {
      "cell_type": "code",
      "source": [
        "prediction2 = rf_model.transform(test)\n",
        "prediction2.select('final_feature_vector', 'Churn_indexed', 'prediction').show()"
      ],
      "metadata": {
        "colab": {
          "base_uri": "https://localhost:8080/"
        },
        "id": "qpSifKgyE1ex",
        "outputId": "4c152147-bf1e-4d85-c98b-9c6c413a12ff"
      },
      "execution_count": 151,
      "outputs": [
        {
          "output_type": "stream",
          "name": "stdout",
          "text": [
            "+--------------------+-------------+----------+\n",
            "|final_feature_vector|Churn_indexed|prediction|\n",
            "+--------------------+-------------+----------+\n",
            "|(19,[0,1,2,8,9,15...|          0.0|       0.0|\n",
            "|(19,[0,1,2,4,5,11...|          1.0|       1.0|\n",
            "|(19,[0,1,2,3,6,9,...|          0.0|       0.0|\n",
            "|[1.49341744909059...|          0.0|       0.0|\n",
            "|(19,[0,1,2,4,9,10...|          1.0|       0.0|\n",
            "|(19,[0,1,2,4,7,8,...|          1.0|       1.0|\n",
            "|(19,[0,1,2,3,5,6,...|          0.0|       0.0|\n",
            "|[-1.4924336184308...|          0.0|       0.0|\n",
            "|[-1.4974183322675...|          0.0|       0.0|\n",
            "|(19,[0,1,2,5,6,14...|          0.0|       0.0|\n",
            "|[-1.4691715993981...|          0.0|       0.0|\n",
            "|[-1.3179681904568...|          0.0|       0.0|\n",
            "|[-1.4774794769206...|          0.0|       0.0|\n",
            "|(19,[0,1,2,9,18],...|          0.0|       0.0|\n",
            "|[0.54798108843628...|          0.0|       0.0|\n",
            "|(19,[0,1,2,3,4,14...|          0.0|       0.0|\n",
            "|(19,[0,1,2,8,9,11...|          0.0|       0.0|\n",
            "|[1.70277606407396...|          0.0|       0.0|\n",
            "|(19,[0,1,2,9,10,1...|          1.0|       0.0|\n",
            "|(19,[0,1,2,5,6,8,...|          0.0|       0.0|\n",
            "+--------------------+-------------+----------+\n",
            "only showing top 20 rows\n",
            "\n"
          ]
        }
      ]
    },
    {
      "cell_type": "code",
      "source": [
        "evaluator = BinaryClassificationEvaluator(labelCol='Churn_indexed')\n",
        "auc_pred1 = evaluator.evaluate(predictions, {evaluator.metricName: \"areaUnderROC\"})\n",
        "auc_pred1"
      ],
      "metadata": {
        "colab": {
          "base_uri": "https://localhost:8080/"
        },
        "id": "f-CpnyO4E8L4",
        "outputId": "ab774f85-7ebc-4f32-b3fc-6527089c2180"
      },
      "execution_count": 152,
      "outputs": [
        {
          "output_type": "execute_result",
          "data": {
            "text/plain": [
              "0.8166741653253574"
            ]
          },
          "metadata": {},
          "execution_count": 152
        }
      ]
    },
    {
      "cell_type": "code",
      "source": [
        "predictions_train = dec_tree_model.transform(train)\n",
        "evaluator = BinaryClassificationEvaluator(labelCol='Churn_indexed')\n",
        "auc_pred1_train = evaluator.evaluate(predictions_train, {evaluator.metricName: \"areaUnderROC\"})\n",
        "auc_pred1_train"
      ],
      "metadata": {
        "colab": {
          "base_uri": "https://localhost:8080/"
        },
        "id": "C0n1tOo5FoOp",
        "outputId": "e890c7e2-f97e-40dc-abc6-b920935d1b39"
      },
      "execution_count": 154,
      "outputs": [
        {
          "output_type": "execute_result",
          "data": {
            "text/plain": [
              "0.8104972908414553"
            ]
          },
          "metadata": {},
          "execution_count": 154
        }
      ]
    },
    {
      "cell_type": "code",
      "source": [
        "import pyspark.ml.tuning as tune\n",
        "from pyspark.ml.tuning import CrossValidator, ParamGridBuilder"
      ],
      "metadata": {
        "id": "el3Oxz-pHkTv"
      },
      "execution_count": 156,
      "outputs": []
    },
    {
      "cell_type": "code",
      "source": [
        "\n",
        "paramgrid = ParamGridBuilder() \\\n",
        "  .addGrid(lr.regParam, [0.1, 0.01])\\\n",
        "  .addGrid(lr.fitIntercept, [False, True])\\\n",
        "  .addGrid(lr.elasticNetParam, [0.0, 0.5, 1.0])\\\n",
        "  .build()\n",
        "\n",
        "print(paramgrid)\n",
        "cross_val = CrossValidator(estimator=lr, estimatorParamMaps=paramgrid, evaluator=evaluator, numFolds=5)\n",
        "cv_model = cross_val.fit(train)\n",
        "bestModel_lr = cv_model.bestModel\n",
        "print(\"Best logistic regression model Params: \", bestModel_lr.explainParams())\n",
        "predictions_lr = bestModel_lr.transform(test)\n",
        "roc_auc_lr = evaluator.evaluate(predictions_lr)\n",
        "print(f\"Best logistic regression model AUC: {roc_auc_lr}\")"
      ],
      "metadata": {
        "colab": {
          "base_uri": "https://localhost:8080/"
        },
        "id": "RGUohKk9Gohk",
        "outputId": "c320e3cd-a1db-4d2d-f297-66161e61bdc8"
      },
      "execution_count": 161,
      "outputs": [
        {
          "output_type": "stream",
          "name": "stdout",
          "text": [
            "[{Param(parent='LogisticRegression_b47e617cba82', name='regParam', doc='regularization parameter (>= 0).'): 0.1, Param(parent='LogisticRegression_b47e617cba82', name='fitIntercept', doc='whether to fit an intercept term.'): False, Param(parent='LogisticRegression_b47e617cba82', name='elasticNetParam', doc='the ElasticNet mixing parameter, in range [0, 1]. For alpha = 0, the penalty is an L2 penalty. For alpha = 1, it is an L1 penalty.'): 0.0}, {Param(parent='LogisticRegression_b47e617cba82', name='regParam', doc='regularization parameter (>= 0).'): 0.1, Param(parent='LogisticRegression_b47e617cba82', name='fitIntercept', doc='whether to fit an intercept term.'): False, Param(parent='LogisticRegression_b47e617cba82', name='elasticNetParam', doc='the ElasticNet mixing parameter, in range [0, 1]. For alpha = 0, the penalty is an L2 penalty. For alpha = 1, it is an L1 penalty.'): 0.5}, {Param(parent='LogisticRegression_b47e617cba82', name='regParam', doc='regularization parameter (>= 0).'): 0.1, Param(parent='LogisticRegression_b47e617cba82', name='fitIntercept', doc='whether to fit an intercept term.'): False, Param(parent='LogisticRegression_b47e617cba82', name='elasticNetParam', doc='the ElasticNet mixing parameter, in range [0, 1]. For alpha = 0, the penalty is an L2 penalty. For alpha = 1, it is an L1 penalty.'): 1.0}, {Param(parent='LogisticRegression_b47e617cba82', name='regParam', doc='regularization parameter (>= 0).'): 0.1, Param(parent='LogisticRegression_b47e617cba82', name='fitIntercept', doc='whether to fit an intercept term.'): True, Param(parent='LogisticRegression_b47e617cba82', name='elasticNetParam', doc='the ElasticNet mixing parameter, in range [0, 1]. For alpha = 0, the penalty is an L2 penalty. For alpha = 1, it is an L1 penalty.'): 0.0}, {Param(parent='LogisticRegression_b47e617cba82', name='regParam', doc='regularization parameter (>= 0).'): 0.1, Param(parent='LogisticRegression_b47e617cba82', name='fitIntercept', doc='whether to fit an intercept term.'): True, Param(parent='LogisticRegression_b47e617cba82', name='elasticNetParam', doc='the ElasticNet mixing parameter, in range [0, 1]. For alpha = 0, the penalty is an L2 penalty. For alpha = 1, it is an L1 penalty.'): 0.5}, {Param(parent='LogisticRegression_b47e617cba82', name='regParam', doc='regularization parameter (>= 0).'): 0.1, Param(parent='LogisticRegression_b47e617cba82', name='fitIntercept', doc='whether to fit an intercept term.'): True, Param(parent='LogisticRegression_b47e617cba82', name='elasticNetParam', doc='the ElasticNet mixing parameter, in range [0, 1]. For alpha = 0, the penalty is an L2 penalty. For alpha = 1, it is an L1 penalty.'): 1.0}, {Param(parent='LogisticRegression_b47e617cba82', name='regParam', doc='regularization parameter (>= 0).'): 0.01, Param(parent='LogisticRegression_b47e617cba82', name='fitIntercept', doc='whether to fit an intercept term.'): False, Param(parent='LogisticRegression_b47e617cba82', name='elasticNetParam', doc='the ElasticNet mixing parameter, in range [0, 1]. For alpha = 0, the penalty is an L2 penalty. For alpha = 1, it is an L1 penalty.'): 0.0}, {Param(parent='LogisticRegression_b47e617cba82', name='regParam', doc='regularization parameter (>= 0).'): 0.01, Param(parent='LogisticRegression_b47e617cba82', name='fitIntercept', doc='whether to fit an intercept term.'): False, Param(parent='LogisticRegression_b47e617cba82', name='elasticNetParam', doc='the ElasticNet mixing parameter, in range [0, 1]. For alpha = 0, the penalty is an L2 penalty. For alpha = 1, it is an L1 penalty.'): 0.5}, {Param(parent='LogisticRegression_b47e617cba82', name='regParam', doc='regularization parameter (>= 0).'): 0.01, Param(parent='LogisticRegression_b47e617cba82', name='fitIntercept', doc='whether to fit an intercept term.'): False, Param(parent='LogisticRegression_b47e617cba82', name='elasticNetParam', doc='the ElasticNet mixing parameter, in range [0, 1]. For alpha = 0, the penalty is an L2 penalty. For alpha = 1, it is an L1 penalty.'): 1.0}, {Param(parent='LogisticRegression_b47e617cba82', name='regParam', doc='regularization parameter (>= 0).'): 0.01, Param(parent='LogisticRegression_b47e617cba82', name='fitIntercept', doc='whether to fit an intercept term.'): True, Param(parent='LogisticRegression_b47e617cba82', name='elasticNetParam', doc='the ElasticNet mixing parameter, in range [0, 1]. For alpha = 0, the penalty is an L2 penalty. For alpha = 1, it is an L1 penalty.'): 0.0}, {Param(parent='LogisticRegression_b47e617cba82', name='regParam', doc='regularization parameter (>= 0).'): 0.01, Param(parent='LogisticRegression_b47e617cba82', name='fitIntercept', doc='whether to fit an intercept term.'): True, Param(parent='LogisticRegression_b47e617cba82', name='elasticNetParam', doc='the ElasticNet mixing parameter, in range [0, 1]. For alpha = 0, the penalty is an L2 penalty. For alpha = 1, it is an L1 penalty.'): 0.5}, {Param(parent='LogisticRegression_b47e617cba82', name='regParam', doc='regularization parameter (>= 0).'): 0.01, Param(parent='LogisticRegression_b47e617cba82', name='fitIntercept', doc='whether to fit an intercept term.'): True, Param(parent='LogisticRegression_b47e617cba82', name='elasticNetParam', doc='the ElasticNet mixing parameter, in range [0, 1]. For alpha = 0, the penalty is an L2 penalty. For alpha = 1, it is an L1 penalty.'): 1.0}]\n",
            "Best logistic regression model Params:  aggregationDepth: suggested depth for treeAggregate (>= 2). (default: 2)\n",
            "elasticNetParam: the ElasticNet mixing parameter, in range [0, 1]. For alpha = 0, the penalty is an L2 penalty. For alpha = 1, it is an L1 penalty. (default: 0.0, current: 0.0)\n",
            "family: The name of family which is a description of the label distribution to be used in the model. Supported options: auto, binomial, multinomial (default: auto)\n",
            "featuresCol: features column name. (default: features, current: final_feature_vector)\n",
            "fitIntercept: whether to fit an intercept term. (default: True, current: True)\n",
            "labelCol: label column name. (default: label, current: Churn_indexed)\n",
            "lowerBoundsOnCoefficients: The lower bounds on coefficients if fitting under bound constrained optimization. The bound matrix must be compatible with the shape (1, number of features) for binomial regression, or (number of classes, number of features) for multinomial regression. (undefined)\n",
            "lowerBoundsOnIntercepts: The lower bounds on intercepts if fitting under bound constrained optimization. The bounds vector size must beequal with 1 for binomial regression, or the number oflasses for multinomial regression. (undefined)\n",
            "maxBlockSizeInMB: maximum memory in MB for stacking input data into blocks. Data is stacked within partitions. If more than remaining data size in a partition then it is adjusted to the data size. Default 0.0 represents choosing optimal value, depends on specific algorithm. Must be >= 0. (default: 0.0)\n",
            "maxIter: max number of iterations (>= 0). (default: 100)\n",
            "predictionCol: prediction column name. (default: prediction)\n",
            "probabilityCol: Column name for predicted class conditional probabilities. Note: Not all models output well-calibrated probability estimates! These probabilities should be treated as confidences, not precise probabilities. (default: probability)\n",
            "rawPredictionCol: raw prediction (a.k.a. confidence) column name. (default: rawPrediction)\n",
            "regParam: regularization parameter (>= 0). (default: 0.0, current: 0.01)\n",
            "standardization: whether to standardize the training features before fitting the model. (default: True)\n",
            "threshold: Threshold in binary classification prediction, in range [0, 1]. If threshold and thresholds are both set, they must match.e.g. if threshold is p, then thresholds must be equal to [1-p, p]. (default: 0.5)\n",
            "thresholds: Thresholds in multi-class classification to adjust the probability of predicting each class. Array must have length equal to the number of classes, with values > 0, excepting that at most one value may be 0. The class with largest value p/t is predicted, where p is the original probability of that class and t is the class's threshold. (undefined)\n",
            "tol: the convergence tolerance for iterative algorithms (>= 0). (default: 1e-06)\n",
            "upperBoundsOnCoefficients: The upper bounds on coefficients if fitting under bound constrained optimization. The bound matrix must be compatible with the shape (1, number of features) for binomial regression, or (number of classes, number of features) for multinomial regression. (undefined)\n",
            "upperBoundsOnIntercepts: The upper bounds on intercepts if fitting under bound constrained optimization. The bound vector size must be equal with 1 for binomial regression, or the number of classes for multinomial regression. (undefined)\n",
            "weightCol: weight column name. If this is not set or empty, we treat all instance weights as 1.0. (undefined)\n",
            "Best logistic regression model AUC: 0.8495853558588861\n"
          ]
        }
      ]
    },
    {
      "cell_type": "code",
      "source": [
        "paramGrid_dt = ParamGridBuilder() \\\n",
        "    .addGrid(dec_tree.maxDepth, [5, 10, 20]) \\\n",
        "    .addGrid(dec_tree.minInstancesPerNode, [1, 2, 5]) \\\n",
        "    .addGrid(dec_tree.impurity, ['gini', 'entropy']) \\\n",
        "    .build()\n",
        "\n",
        "print(paramGrid_dt)\n",
        "cross_val_dt = CrossValidator(estimator=dec_tree, estimatorParamMaps=paramGrid_dt, evaluator=evaluator, numFolds=5)\n",
        "cv_model_dt = cross_val_dt.fit(train)\n",
        "bestModel_dt = cv_model_dt.bestModel\n",
        "print(\"Best decision tree model Params: \", bestModel_dt.explainParams())\n",
        "predictions_dt = bestModel_dt.transform(test)\n",
        "roc_auc_dt = evaluator.evaluate(predictions_dt)\n",
        "print(f\"Best decision tree model AUC: {roc_auc_dt}\")"
      ],
      "metadata": {
        "colab": {
          "base_uri": "https://localhost:8080/"
        },
        "id": "zgW-dZ4TI7sl",
        "outputId": "ee4609ef-4206-4b02-b7ec-9086a5bee9b1"
      },
      "execution_count": 162,
      "outputs": [
        {
          "output_type": "stream",
          "name": "stdout",
          "text": [
            "[{Param(parent='DecisionTreeClassifier_41f5df9339f7', name='maxDepth', doc='Maximum depth of the tree. (>= 0) E.g., depth 0 means 1 leaf node; depth 1 means 1 internal node + 2 leaf nodes. Must be in range [0, 30].'): 5, Param(parent='DecisionTreeClassifier_41f5df9339f7', name='minInstancesPerNode', doc='Minimum number of instances each child must have after split. If a split causes the left or right child to have fewer than minInstancesPerNode, the split will be discarded as invalid. Should be >= 1.'): 1, Param(parent='DecisionTreeClassifier_41f5df9339f7', name='impurity', doc='Criterion used for information gain calculation (case-insensitive). Supported options: entropy, gini'): 'gini'}, {Param(parent='DecisionTreeClassifier_41f5df9339f7', name='maxDepth', doc='Maximum depth of the tree. (>= 0) E.g., depth 0 means 1 leaf node; depth 1 means 1 internal node + 2 leaf nodes. Must be in range [0, 30].'): 5, Param(parent='DecisionTreeClassifier_41f5df9339f7', name='minInstancesPerNode', doc='Minimum number of instances each child must have after split. If a split causes the left or right child to have fewer than minInstancesPerNode, the split will be discarded as invalid. Should be >= 1.'): 1, Param(parent='DecisionTreeClassifier_41f5df9339f7', name='impurity', doc='Criterion used for information gain calculation (case-insensitive). Supported options: entropy, gini'): 'entropy'}, {Param(parent='DecisionTreeClassifier_41f5df9339f7', name='maxDepth', doc='Maximum depth of the tree. (>= 0) E.g., depth 0 means 1 leaf node; depth 1 means 1 internal node + 2 leaf nodes. Must be in range [0, 30].'): 5, Param(parent='DecisionTreeClassifier_41f5df9339f7', name='minInstancesPerNode', doc='Minimum number of instances each child must have after split. If a split causes the left or right child to have fewer than minInstancesPerNode, the split will be discarded as invalid. Should be >= 1.'): 2, Param(parent='DecisionTreeClassifier_41f5df9339f7', name='impurity', doc='Criterion used for information gain calculation (case-insensitive). Supported options: entropy, gini'): 'gini'}, {Param(parent='DecisionTreeClassifier_41f5df9339f7', name='maxDepth', doc='Maximum depth of the tree. (>= 0) E.g., depth 0 means 1 leaf node; depth 1 means 1 internal node + 2 leaf nodes. Must be in range [0, 30].'): 5, Param(parent='DecisionTreeClassifier_41f5df9339f7', name='minInstancesPerNode', doc='Minimum number of instances each child must have after split. If a split causes the left or right child to have fewer than minInstancesPerNode, the split will be discarded as invalid. Should be >= 1.'): 2, Param(parent='DecisionTreeClassifier_41f5df9339f7', name='impurity', doc='Criterion used for information gain calculation (case-insensitive). Supported options: entropy, gini'): 'entropy'}, {Param(parent='DecisionTreeClassifier_41f5df9339f7', name='maxDepth', doc='Maximum depth of the tree. (>= 0) E.g., depth 0 means 1 leaf node; depth 1 means 1 internal node + 2 leaf nodes. Must be in range [0, 30].'): 5, Param(parent='DecisionTreeClassifier_41f5df9339f7', name='minInstancesPerNode', doc='Minimum number of instances each child must have after split. If a split causes the left or right child to have fewer than minInstancesPerNode, the split will be discarded as invalid. Should be >= 1.'): 5, Param(parent='DecisionTreeClassifier_41f5df9339f7', name='impurity', doc='Criterion used for information gain calculation (case-insensitive). Supported options: entropy, gini'): 'gini'}, {Param(parent='DecisionTreeClassifier_41f5df9339f7', name='maxDepth', doc='Maximum depth of the tree. (>= 0) E.g., depth 0 means 1 leaf node; depth 1 means 1 internal node + 2 leaf nodes. Must be in range [0, 30].'): 5, Param(parent='DecisionTreeClassifier_41f5df9339f7', name='minInstancesPerNode', doc='Minimum number of instances each child must have after split. If a split causes the left or right child to have fewer than minInstancesPerNode, the split will be discarded as invalid. Should be >= 1.'): 5, Param(parent='DecisionTreeClassifier_41f5df9339f7', name='impurity', doc='Criterion used for information gain calculation (case-insensitive). Supported options: entropy, gini'): 'entropy'}, {Param(parent='DecisionTreeClassifier_41f5df9339f7', name='maxDepth', doc='Maximum depth of the tree. (>= 0) E.g., depth 0 means 1 leaf node; depth 1 means 1 internal node + 2 leaf nodes. Must be in range [0, 30].'): 10, Param(parent='DecisionTreeClassifier_41f5df9339f7', name='minInstancesPerNode', doc='Minimum number of instances each child must have after split. If a split causes the left or right child to have fewer than minInstancesPerNode, the split will be discarded as invalid. Should be >= 1.'): 1, Param(parent='DecisionTreeClassifier_41f5df9339f7', name='impurity', doc='Criterion used for information gain calculation (case-insensitive). Supported options: entropy, gini'): 'gini'}, {Param(parent='DecisionTreeClassifier_41f5df9339f7', name='maxDepth', doc='Maximum depth of the tree. (>= 0) E.g., depth 0 means 1 leaf node; depth 1 means 1 internal node + 2 leaf nodes. Must be in range [0, 30].'): 10, Param(parent='DecisionTreeClassifier_41f5df9339f7', name='minInstancesPerNode', doc='Minimum number of instances each child must have after split. If a split causes the left or right child to have fewer than minInstancesPerNode, the split will be discarded as invalid. Should be >= 1.'): 1, Param(parent='DecisionTreeClassifier_41f5df9339f7', name='impurity', doc='Criterion used for information gain calculation (case-insensitive). Supported options: entropy, gini'): 'entropy'}, {Param(parent='DecisionTreeClassifier_41f5df9339f7', name='maxDepth', doc='Maximum depth of the tree. (>= 0) E.g., depth 0 means 1 leaf node; depth 1 means 1 internal node + 2 leaf nodes. Must be in range [0, 30].'): 10, Param(parent='DecisionTreeClassifier_41f5df9339f7', name='minInstancesPerNode', doc='Minimum number of instances each child must have after split. If a split causes the left or right child to have fewer than minInstancesPerNode, the split will be discarded as invalid. Should be >= 1.'): 2, Param(parent='DecisionTreeClassifier_41f5df9339f7', name='impurity', doc='Criterion used for information gain calculation (case-insensitive). Supported options: entropy, gini'): 'gini'}, {Param(parent='DecisionTreeClassifier_41f5df9339f7', name='maxDepth', doc='Maximum depth of the tree. (>= 0) E.g., depth 0 means 1 leaf node; depth 1 means 1 internal node + 2 leaf nodes. Must be in range [0, 30].'): 10, Param(parent='DecisionTreeClassifier_41f5df9339f7', name='minInstancesPerNode', doc='Minimum number of instances each child must have after split. If a split causes the left or right child to have fewer than minInstancesPerNode, the split will be discarded as invalid. Should be >= 1.'): 2, Param(parent='DecisionTreeClassifier_41f5df9339f7', name='impurity', doc='Criterion used for information gain calculation (case-insensitive). Supported options: entropy, gini'): 'entropy'}, {Param(parent='DecisionTreeClassifier_41f5df9339f7', name='maxDepth', doc='Maximum depth of the tree. (>= 0) E.g., depth 0 means 1 leaf node; depth 1 means 1 internal node + 2 leaf nodes. Must be in range [0, 30].'): 10, Param(parent='DecisionTreeClassifier_41f5df9339f7', name='minInstancesPerNode', doc='Minimum number of instances each child must have after split. If a split causes the left or right child to have fewer than minInstancesPerNode, the split will be discarded as invalid. Should be >= 1.'): 5, Param(parent='DecisionTreeClassifier_41f5df9339f7', name='impurity', doc='Criterion used for information gain calculation (case-insensitive). Supported options: entropy, gini'): 'gini'}, {Param(parent='DecisionTreeClassifier_41f5df9339f7', name='maxDepth', doc='Maximum depth of the tree. (>= 0) E.g., depth 0 means 1 leaf node; depth 1 means 1 internal node + 2 leaf nodes. Must be in range [0, 30].'): 10, Param(parent='DecisionTreeClassifier_41f5df9339f7', name='minInstancesPerNode', doc='Minimum number of instances each child must have after split. If a split causes the left or right child to have fewer than minInstancesPerNode, the split will be discarded as invalid. Should be >= 1.'): 5, Param(parent='DecisionTreeClassifier_41f5df9339f7', name='impurity', doc='Criterion used for information gain calculation (case-insensitive). Supported options: entropy, gini'): 'entropy'}, {Param(parent='DecisionTreeClassifier_41f5df9339f7', name='maxDepth', doc='Maximum depth of the tree. (>= 0) E.g., depth 0 means 1 leaf node; depth 1 means 1 internal node + 2 leaf nodes. Must be in range [0, 30].'): 20, Param(parent='DecisionTreeClassifier_41f5df9339f7', name='minInstancesPerNode', doc='Minimum number of instances each child must have after split. If a split causes the left or right child to have fewer than minInstancesPerNode, the split will be discarded as invalid. Should be >= 1.'): 1, Param(parent='DecisionTreeClassifier_41f5df9339f7', name='impurity', doc='Criterion used for information gain calculation (case-insensitive). Supported options: entropy, gini'): 'gini'}, {Param(parent='DecisionTreeClassifier_41f5df9339f7', name='maxDepth', doc='Maximum depth of the tree. (>= 0) E.g., depth 0 means 1 leaf node; depth 1 means 1 internal node + 2 leaf nodes. Must be in range [0, 30].'): 20, Param(parent='DecisionTreeClassifier_41f5df9339f7', name='minInstancesPerNode', doc='Minimum number of instances each child must have after split. If a split causes the left or right child to have fewer than minInstancesPerNode, the split will be discarded as invalid. Should be >= 1.'): 1, Param(parent='DecisionTreeClassifier_41f5df9339f7', name='impurity', doc='Criterion used for information gain calculation (case-insensitive). Supported options: entropy, gini'): 'entropy'}, {Param(parent='DecisionTreeClassifier_41f5df9339f7', name='maxDepth', doc='Maximum depth of the tree. (>= 0) E.g., depth 0 means 1 leaf node; depth 1 means 1 internal node + 2 leaf nodes. Must be in range [0, 30].'): 20, Param(parent='DecisionTreeClassifier_41f5df9339f7', name='minInstancesPerNode', doc='Minimum number of instances each child must have after split. If a split causes the left or right child to have fewer than minInstancesPerNode, the split will be discarded as invalid. Should be >= 1.'): 2, Param(parent='DecisionTreeClassifier_41f5df9339f7', name='impurity', doc='Criterion used for information gain calculation (case-insensitive). Supported options: entropy, gini'): 'gini'}, {Param(parent='DecisionTreeClassifier_41f5df9339f7', name='maxDepth', doc='Maximum depth of the tree. (>= 0) E.g., depth 0 means 1 leaf node; depth 1 means 1 internal node + 2 leaf nodes. Must be in range [0, 30].'): 20, Param(parent='DecisionTreeClassifier_41f5df9339f7', name='minInstancesPerNode', doc='Minimum number of instances each child must have after split. If a split causes the left or right child to have fewer than minInstancesPerNode, the split will be discarded as invalid. Should be >= 1.'): 2, Param(parent='DecisionTreeClassifier_41f5df9339f7', name='impurity', doc='Criterion used for information gain calculation (case-insensitive). Supported options: entropy, gini'): 'entropy'}, {Param(parent='DecisionTreeClassifier_41f5df9339f7', name='maxDepth', doc='Maximum depth of the tree. (>= 0) E.g., depth 0 means 1 leaf node; depth 1 means 1 internal node + 2 leaf nodes. Must be in range [0, 30].'): 20, Param(parent='DecisionTreeClassifier_41f5df9339f7', name='minInstancesPerNode', doc='Minimum number of instances each child must have after split. If a split causes the left or right child to have fewer than minInstancesPerNode, the split will be discarded as invalid. Should be >= 1.'): 5, Param(parent='DecisionTreeClassifier_41f5df9339f7', name='impurity', doc='Criterion used for information gain calculation (case-insensitive). Supported options: entropy, gini'): 'gini'}, {Param(parent='DecisionTreeClassifier_41f5df9339f7', name='maxDepth', doc='Maximum depth of the tree. (>= 0) E.g., depth 0 means 1 leaf node; depth 1 means 1 internal node + 2 leaf nodes. Must be in range [0, 30].'): 20, Param(parent='DecisionTreeClassifier_41f5df9339f7', name='minInstancesPerNode', doc='Minimum number of instances each child must have after split. If a split causes the left or right child to have fewer than minInstancesPerNode, the split will be discarded as invalid. Should be >= 1.'): 5, Param(parent='DecisionTreeClassifier_41f5df9339f7', name='impurity', doc='Criterion used for information gain calculation (case-insensitive). Supported options: entropy, gini'): 'entropy'}]\n",
            "Best decision tree model Params:  cacheNodeIds: If false, the algorithm will pass trees to executors to match instances with nodes. If true, the algorithm will cache node IDs for each instance. Caching can speed up training of deeper trees. Users can set how often should the cache be checkpointed or disable it by setting checkpointInterval. (default: False)\n",
            "checkpointInterval: set checkpoint interval (>= 1) or disable checkpoint (-1). E.g. 10 means that the cache will get checkpointed every 10 iterations. Note: this setting will be ignored if the checkpoint directory is not set in the SparkContext. (default: 10)\n",
            "featuresCol: features column name. (default: features, current: final_feature_vector)\n",
            "impurity: Criterion used for information gain calculation (case-insensitive). Supported options: entropy, gini (default: gini, current: gini)\n",
            "labelCol: label column name. (default: label, current: Churn_indexed)\n",
            "leafCol: Leaf indices column name. Predicted leaf index of each instance in each tree by preorder. (default: )\n",
            "maxBins: Max number of bins for discretizing continuous features.  Must be >=2 and >= number of categories for any categorical feature. (default: 32)\n",
            "maxDepth: Maximum depth of the tree. (>= 0) E.g., depth 0 means 1 leaf node; depth 1 means 1 internal node + 2 leaf nodes. Must be in range [0, 30]. (default: 5, current: 10)\n",
            "maxMemoryInMB: Maximum memory in MB allocated to histogram aggregation. If too small, then 1 node will be split per iteration, and its aggregates may exceed this size. (default: 256)\n",
            "minInfoGain: Minimum information gain for a split to be considered at a tree node. (default: 0.0)\n",
            "minInstancesPerNode: Minimum number of instances each child must have after split. If a split causes the left or right child to have fewer than minInstancesPerNode, the split will be discarded as invalid. Should be >= 1. (default: 1, current: 1)\n",
            "minWeightFractionPerNode: Minimum fraction of the weighted sample count that each child must have after split. If a split causes the fraction of the total weight in the left or right child to be less than minWeightFractionPerNode, the split will be discarded as invalid. Should be in interval [0.0, 0.5). (default: 0.0)\n",
            "predictionCol: prediction column name. (default: prediction)\n",
            "probabilityCol: Column name for predicted class conditional probabilities. Note: Not all models output well-calibrated probability estimates! These probabilities should be treated as confidences, not precise probabilities. (default: probability)\n",
            "rawPredictionCol: raw prediction (a.k.a. confidence) column name. (default: rawPrediction)\n",
            "seed: random seed. (default: -595453862060660963)\n",
            "thresholds: Thresholds in multi-class classification to adjust the probability of predicting each class. Array must have length equal to the number of classes, with values > 0, excepting that at most one value may be 0. The class with largest value p/t is predicted, where p is the original probability of that class and t is the class's threshold. (undefined)\n",
            "weightCol: weight column name. If this is not set or empty, we treat all instance weights as 1.0. (undefined)\n",
            "Best decision tree model AUC: 0.7283816838396512\n"
          ]
        }
      ]
    },
    {
      "cell_type": "code",
      "source": [
        "evaluator = BinaryClassificationEvaluator(labelCol='Churn_indexed')\n",
        "auc_pred2 = evaluator.evaluate(predictions_lr, {evaluator.metricName: \"areaUnderROC\"})\n",
        "print(\"on testing\", auc_pred1)\n",
        "predictions_train = lr_model.transform(train)\n",
        "auc_pred2_train = evaluator.evaluate(predictions_train, {evaluator.metricName: \"areaUnderROC\"})\n",
        "auc_pred2_train"
      ],
      "metadata": {
        "colab": {
          "base_uri": "https://localhost:8080/"
        },
        "id": "mQNDWpIWKlwl",
        "outputId": "0aae12df-634f-41f4-97ab-52db41971291"
      },
      "execution_count": 163,
      "outputs": [
        {
          "output_type": "stream",
          "name": "stdout",
          "text": [
            "on testing 0.8166741653253574\n"
          ]
        },
        {
          "output_type": "execute_result",
          "data": {
            "text/plain": [
              "0.8355979597762543"
            ]
          },
          "metadata": {},
          "execution_count": 163
        }
      ]
    },
    {
      "cell_type": "code",
      "source": [
        "evaluator = BinaryClassificationEvaluator(labelCol='Churn_indexed')\n",
        "auc_pred3 = evaluator.evaluate(prediction2, {evaluator.metricName: \"areaUnderROC\"})\n",
        "print(\"on testing\", auc_pred3)\n",
        "predictions_train = rf_model.transform(train)\n",
        "auc_pred3_train = evaluator.evaluate(predictions_train, {evaluator.metricName: \"areaUnderROC\"})\n",
        "auc_pred3_train"
      ],
      "metadata": {
        "colab": {
          "base_uri": "https://localhost:8080/"
        },
        "id": "S6Pg3GY-LWdf",
        "outputId": "b6f4c6f7-be1a-45d8-dc7b-39bdd03327fc"
      },
      "execution_count": 164,
      "outputs": [
        {
          "output_type": "stream",
          "name": "stdout",
          "text": [
            "on testing 0.847335758251693\n"
          ]
        },
        {
          "output_type": "execute_result",
          "data": {
            "text/plain": [
              "0.840238756581145"
            ]
          },
          "metadata": {},
          "execution_count": 164
        }
      ]
    },
    {
      "cell_type": "markdown",
      "source": [
        "# Choosen best model RandomForest\n"
      ],
      "metadata": {
        "id": "mLgo1ZTgLqcX"
      }
    },
    {
      "cell_type": "code",
      "source": [
        "import plotly.express as px\n",
        "feature_importance = rf_model.featureImportances\n",
        "score = [score for i, score in enumerate(feature_importance)]\n",
        "scor_data = pd.DataFrame(score, columns = [\"scores\"], index = categorical_column_indexed + numerical_col)\n",
        "scor_data\n",
        "px.bar(scor_data, y=scor_data.index, x=\"scores\", orientation='h')"
      ],
      "metadata": {
        "colab": {
          "base_uri": "https://localhost:8080/",
          "height": 542
        },
        "id": "-lOR-Z0jLsEn",
        "outputId": "5a626e59-d666-48a7-c7b7-9558c79dfed7"
      },
      "execution_count": 173,
      "outputs": [
        {
          "output_type": "display_data",
          "data": {
            "text/html": [
              "<html>\n",
              "<head><meta charset=\"utf-8\" /></head>\n",
              "<body>\n",
              "    <div>            <script src=\"https://cdnjs.cloudflare.com/ajax/libs/mathjax/2.7.5/MathJax.js?config=TeX-AMS-MML_SVG\"></script><script type=\"text/javascript\">if (window.MathJax && window.MathJax.Hub && window.MathJax.Hub.Config) {window.MathJax.Hub.Config({SVG: {font: \"STIX-Web\"}});}</script>                <script type=\"text/javascript\">window.PlotlyConfig = {MathJaxConfig: 'local'};</script>\n",
              "        <script charset=\"utf-8\" src=\"https://cdn.plot.ly/plotly-2.35.2.min.js\"></script>                <div id=\"4d7c01d3-3a59-41b5-87f6-79e33007cca7\" class=\"plotly-graph-div\" style=\"height:525px; width:100%;\"></div>            <script type=\"text/javascript\">                                    window.PLOTLYENV=window.PLOTLYENV || {};                                    if (document.getElementById(\"4d7c01d3-3a59-41b5-87f6-79e33007cca7\")) {                    Plotly.newPlot(                        \"4d7c01d3-3a59-41b5-87f6-79e33007cca7\",                        [{\"alignmentgroup\":\"True\",\"hovertemplate\":\"scores=%{x}\\u003cbr\\u003eindex=%{y}\\u003cextra\\u003e\\u003c\\u002fextra\\u003e\",\"legendgroup\":\"\",\"marker\":{\"color\":\"#636efa\",\"pattern\":{\"shape\":\"\"}},\"name\":\"\",\"offsetgroup\":\"\",\"orientation\":\"h\",\"showlegend\":false,\"textposition\":\"auto\",\"x\":[0.04121269580152946,0.06589067839539013,0.20200856823778726,0.0001681523977571925,0.0032712305304058767,0.0012622396758341157,0.002238246654458049,0.0008467824639465892,0.0006724820424518479,0.10080064042798964,0.12136897646615859,0.02132528792585542,0.014383494638820323,0.09547493912757153,0.003686848730006318,0.0070005529502404846,0.26031412383386243,0.0029862626896741337,0.05508779701026046],\"xaxis\":\"x\",\"y\":[\"gender_indexed\",\"SeniorCitizen_indexed\",\"Partner_indexed\",\"Dependents_indexed\",\"PhoneService_indexed\",\"MultipleLines_indexed\",\"InternetService_indexed\",\"OnlineSecurity_indexed\",\"OnlineBackup_indexed\",\"DeviceProtection_indexed\",\"TechSupport_indexed\",\"StreamingTV_indexed\",\"StreamingMovies_indexed\",\"Contract_indexed\",\"PaperlessBilling_indexed\",\"PaymentMethod_indexed\",\"MonthlyCharges\",\"TotalCharges\",\"tenure\"],\"yaxis\":\"y\",\"type\":\"bar\"}],                        {\"template\":{\"data\":{\"histogram2dcontour\":[{\"type\":\"histogram2dcontour\",\"colorbar\":{\"outlinewidth\":0,\"ticks\":\"\"},\"colorscale\":[[0.0,\"#0d0887\"],[0.1111111111111111,\"#46039f\"],[0.2222222222222222,\"#7201a8\"],[0.3333333333333333,\"#9c179e\"],[0.4444444444444444,\"#bd3786\"],[0.5555555555555556,\"#d8576b\"],[0.6666666666666666,\"#ed7953\"],[0.7777777777777778,\"#fb9f3a\"],[0.8888888888888888,\"#fdca26\"],[1.0,\"#f0f921\"]]}],\"choropleth\":[{\"type\":\"choropleth\",\"colorbar\":{\"outlinewidth\":0,\"ticks\":\"\"}}],\"histogram2d\":[{\"type\":\"histogram2d\",\"colorbar\":{\"outlinewidth\":0,\"ticks\":\"\"},\"colorscale\":[[0.0,\"#0d0887\"],[0.1111111111111111,\"#46039f\"],[0.2222222222222222,\"#7201a8\"],[0.3333333333333333,\"#9c179e\"],[0.4444444444444444,\"#bd3786\"],[0.5555555555555556,\"#d8576b\"],[0.6666666666666666,\"#ed7953\"],[0.7777777777777778,\"#fb9f3a\"],[0.8888888888888888,\"#fdca26\"],[1.0,\"#f0f921\"]]}],\"heatmap\":[{\"type\":\"heatmap\",\"colorbar\":{\"outlinewidth\":0,\"ticks\":\"\"},\"colorscale\":[[0.0,\"#0d0887\"],[0.1111111111111111,\"#46039f\"],[0.2222222222222222,\"#7201a8\"],[0.3333333333333333,\"#9c179e\"],[0.4444444444444444,\"#bd3786\"],[0.5555555555555556,\"#d8576b\"],[0.6666666666666666,\"#ed7953\"],[0.7777777777777778,\"#fb9f3a\"],[0.8888888888888888,\"#fdca26\"],[1.0,\"#f0f921\"]]}],\"heatmapgl\":[{\"type\":\"heatmapgl\",\"colorbar\":{\"outlinewidth\":0,\"ticks\":\"\"},\"colorscale\":[[0.0,\"#0d0887\"],[0.1111111111111111,\"#46039f\"],[0.2222222222222222,\"#7201a8\"],[0.3333333333333333,\"#9c179e\"],[0.4444444444444444,\"#bd3786\"],[0.5555555555555556,\"#d8576b\"],[0.6666666666666666,\"#ed7953\"],[0.7777777777777778,\"#fb9f3a\"],[0.8888888888888888,\"#fdca26\"],[1.0,\"#f0f921\"]]}],\"contourcarpet\":[{\"type\":\"contourcarpet\",\"colorbar\":{\"outlinewidth\":0,\"ticks\":\"\"}}],\"contour\":[{\"type\":\"contour\",\"colorbar\":{\"outlinewidth\":0,\"ticks\":\"\"},\"colorscale\":[[0.0,\"#0d0887\"],[0.1111111111111111,\"#46039f\"],[0.2222222222222222,\"#7201a8\"],[0.3333333333333333,\"#9c179e\"],[0.4444444444444444,\"#bd3786\"],[0.5555555555555556,\"#d8576b\"],[0.6666666666666666,\"#ed7953\"],[0.7777777777777778,\"#fb9f3a\"],[0.8888888888888888,\"#fdca26\"],[1.0,\"#f0f921\"]]}],\"surface\":[{\"type\":\"surface\",\"colorbar\":{\"outlinewidth\":0,\"ticks\":\"\"},\"colorscale\":[[0.0,\"#0d0887\"],[0.1111111111111111,\"#46039f\"],[0.2222222222222222,\"#7201a8\"],[0.3333333333333333,\"#9c179e\"],[0.4444444444444444,\"#bd3786\"],[0.5555555555555556,\"#d8576b\"],[0.6666666666666666,\"#ed7953\"],[0.7777777777777778,\"#fb9f3a\"],[0.8888888888888888,\"#fdca26\"],[1.0,\"#f0f921\"]]}],\"mesh3d\":[{\"type\":\"mesh3d\",\"colorbar\":{\"outlinewidth\":0,\"ticks\":\"\"}}],\"scatter\":[{\"fillpattern\":{\"fillmode\":\"overlay\",\"size\":10,\"solidity\":0.2},\"type\":\"scatter\"}],\"parcoords\":[{\"type\":\"parcoords\",\"line\":{\"colorbar\":{\"outlinewidth\":0,\"ticks\":\"\"}}}],\"scatterpolargl\":[{\"type\":\"scatterpolargl\",\"marker\":{\"colorbar\":{\"outlinewidth\":0,\"ticks\":\"\"}}}],\"bar\":[{\"error_x\":{\"color\":\"#2a3f5f\"},\"error_y\":{\"color\":\"#2a3f5f\"},\"marker\":{\"line\":{\"color\":\"#E5ECF6\",\"width\":0.5},\"pattern\":{\"fillmode\":\"overlay\",\"size\":10,\"solidity\":0.2}},\"type\":\"bar\"}],\"scattergeo\":[{\"type\":\"scattergeo\",\"marker\":{\"colorbar\":{\"outlinewidth\":0,\"ticks\":\"\"}}}],\"scatterpolar\":[{\"type\":\"scatterpolar\",\"marker\":{\"colorbar\":{\"outlinewidth\":0,\"ticks\":\"\"}}}],\"histogram\":[{\"marker\":{\"pattern\":{\"fillmode\":\"overlay\",\"size\":10,\"solidity\":0.2}},\"type\":\"histogram\"}],\"scattergl\":[{\"type\":\"scattergl\",\"marker\":{\"colorbar\":{\"outlinewidth\":0,\"ticks\":\"\"}}}],\"scatter3d\":[{\"type\":\"scatter3d\",\"line\":{\"colorbar\":{\"outlinewidth\":0,\"ticks\":\"\"}},\"marker\":{\"colorbar\":{\"outlinewidth\":0,\"ticks\":\"\"}}}],\"scattermapbox\":[{\"type\":\"scattermapbox\",\"marker\":{\"colorbar\":{\"outlinewidth\":0,\"ticks\":\"\"}}}],\"scatterternary\":[{\"type\":\"scatterternary\",\"marker\":{\"colorbar\":{\"outlinewidth\":0,\"ticks\":\"\"}}}],\"scattercarpet\":[{\"type\":\"scattercarpet\",\"marker\":{\"colorbar\":{\"outlinewidth\":0,\"ticks\":\"\"}}}],\"carpet\":[{\"aaxis\":{\"endlinecolor\":\"#2a3f5f\",\"gridcolor\":\"white\",\"linecolor\":\"white\",\"minorgridcolor\":\"white\",\"startlinecolor\":\"#2a3f5f\"},\"baxis\":{\"endlinecolor\":\"#2a3f5f\",\"gridcolor\":\"white\",\"linecolor\":\"white\",\"minorgridcolor\":\"white\",\"startlinecolor\":\"#2a3f5f\"},\"type\":\"carpet\"}],\"table\":[{\"cells\":{\"fill\":{\"color\":\"#EBF0F8\"},\"line\":{\"color\":\"white\"}},\"header\":{\"fill\":{\"color\":\"#C8D4E3\"},\"line\":{\"color\":\"white\"}},\"type\":\"table\"}],\"barpolar\":[{\"marker\":{\"line\":{\"color\":\"#E5ECF6\",\"width\":0.5},\"pattern\":{\"fillmode\":\"overlay\",\"size\":10,\"solidity\":0.2}},\"type\":\"barpolar\"}],\"pie\":[{\"automargin\":true,\"type\":\"pie\"}]},\"layout\":{\"autotypenumbers\":\"strict\",\"colorway\":[\"#636efa\",\"#EF553B\",\"#00cc96\",\"#ab63fa\",\"#FFA15A\",\"#19d3f3\",\"#FF6692\",\"#B6E880\",\"#FF97FF\",\"#FECB52\"],\"font\":{\"color\":\"#2a3f5f\"},\"hovermode\":\"closest\",\"hoverlabel\":{\"align\":\"left\"},\"paper_bgcolor\":\"white\",\"plot_bgcolor\":\"#E5ECF6\",\"polar\":{\"bgcolor\":\"#E5ECF6\",\"angularaxis\":{\"gridcolor\":\"white\",\"linecolor\":\"white\",\"ticks\":\"\"},\"radialaxis\":{\"gridcolor\":\"white\",\"linecolor\":\"white\",\"ticks\":\"\"}},\"ternary\":{\"bgcolor\":\"#E5ECF6\",\"aaxis\":{\"gridcolor\":\"white\",\"linecolor\":\"white\",\"ticks\":\"\"},\"baxis\":{\"gridcolor\":\"white\",\"linecolor\":\"white\",\"ticks\":\"\"},\"caxis\":{\"gridcolor\":\"white\",\"linecolor\":\"white\",\"ticks\":\"\"}},\"coloraxis\":{\"colorbar\":{\"outlinewidth\":0,\"ticks\":\"\"}},\"colorscale\":{\"sequential\":[[0.0,\"#0d0887\"],[0.1111111111111111,\"#46039f\"],[0.2222222222222222,\"#7201a8\"],[0.3333333333333333,\"#9c179e\"],[0.4444444444444444,\"#bd3786\"],[0.5555555555555556,\"#d8576b\"],[0.6666666666666666,\"#ed7953\"],[0.7777777777777778,\"#fb9f3a\"],[0.8888888888888888,\"#fdca26\"],[1.0,\"#f0f921\"]],\"sequentialminus\":[[0.0,\"#0d0887\"],[0.1111111111111111,\"#46039f\"],[0.2222222222222222,\"#7201a8\"],[0.3333333333333333,\"#9c179e\"],[0.4444444444444444,\"#bd3786\"],[0.5555555555555556,\"#d8576b\"],[0.6666666666666666,\"#ed7953\"],[0.7777777777777778,\"#fb9f3a\"],[0.8888888888888888,\"#fdca26\"],[1.0,\"#f0f921\"]],\"diverging\":[[0,\"#8e0152\"],[0.1,\"#c51b7d\"],[0.2,\"#de77ae\"],[0.3,\"#f1b6da\"],[0.4,\"#fde0ef\"],[0.5,\"#f7f7f7\"],[0.6,\"#e6f5d0\"],[0.7,\"#b8e186\"],[0.8,\"#7fbc41\"],[0.9,\"#4d9221\"],[1,\"#276419\"]]},\"xaxis\":{\"gridcolor\":\"white\",\"linecolor\":\"white\",\"ticks\":\"\",\"title\":{\"standoff\":15},\"zerolinecolor\":\"white\",\"automargin\":true,\"zerolinewidth\":2},\"yaxis\":{\"gridcolor\":\"white\",\"linecolor\":\"white\",\"ticks\":\"\",\"title\":{\"standoff\":15},\"zerolinecolor\":\"white\",\"automargin\":true,\"zerolinewidth\":2},\"scene\":{\"xaxis\":{\"backgroundcolor\":\"#E5ECF6\",\"gridcolor\":\"white\",\"linecolor\":\"white\",\"showbackground\":true,\"ticks\":\"\",\"zerolinecolor\":\"white\",\"gridwidth\":2},\"yaxis\":{\"backgroundcolor\":\"#E5ECF6\",\"gridcolor\":\"white\",\"linecolor\":\"white\",\"showbackground\":true,\"ticks\":\"\",\"zerolinecolor\":\"white\",\"gridwidth\":2},\"zaxis\":{\"backgroundcolor\":\"#E5ECF6\",\"gridcolor\":\"white\",\"linecolor\":\"white\",\"showbackground\":true,\"ticks\":\"\",\"zerolinecolor\":\"white\",\"gridwidth\":2}},\"shapedefaults\":{\"line\":{\"color\":\"#2a3f5f\"}},\"annotationdefaults\":{\"arrowcolor\":\"#2a3f5f\",\"arrowhead\":0,\"arrowwidth\":1},\"geo\":{\"bgcolor\":\"white\",\"landcolor\":\"#E5ECF6\",\"subunitcolor\":\"white\",\"showland\":true,\"showlakes\":true,\"lakecolor\":\"white\"},\"title\":{\"x\":0.05},\"mapbox\":{\"style\":\"light\"}}},\"xaxis\":{\"anchor\":\"y\",\"domain\":[0.0,1.0],\"title\":{\"text\":\"scores\"}},\"yaxis\":{\"anchor\":\"x\",\"domain\":[0.0,1.0],\"title\":{\"text\":\"index\"}},\"legend\":{\"tracegroupgap\":0},\"margin\":{\"t\":60},\"barmode\":\"relative\"},                        {\"responsive\": true}                    ).then(function(){\n",
              "                            \n",
              "var gd = document.getElementById('4d7c01d3-3a59-41b5-87f6-79e33007cca7');\n",
              "var x = new MutationObserver(function (mutations, observer) {{\n",
              "        var display = window.getComputedStyle(gd).display;\n",
              "        if (!display || display === 'none') {{\n",
              "            console.log([gd, 'removed!']);\n",
              "            Plotly.purge(gd);\n",
              "            observer.disconnect();\n",
              "        }}\n",
              "}});\n",
              "\n",
              "// Listen for the removal of the full notebook cells\n",
              "var notebookContainer = gd.closest('#notebook-container');\n",
              "if (notebookContainer) {{\n",
              "    x.observe(notebookContainer, {childList: true});\n",
              "}}\n",
              "\n",
              "// Listen for the clearing of the current output cell\n",
              "var outputEl = gd.closest('.output');\n",
              "if (outputEl) {{\n",
              "    x.observe(outputEl, {childList: true});\n",
              "}}\n",
              "\n",
              "                        })                };                            </script>        </div>\n",
              "</body>\n",
              "</html>"
            ]
          },
          "metadata": {}
        }
      ]
    },
    {
      "cell_type": "code",
      "source": [
        "test = model.groupBy('Contract', 'Churn').count().toPandas()\n",
        "px.bar(test, x=\"Contract\", y=\"count\", color=\"Churn\")"
      ],
      "metadata": {
        "colab": {
          "base_uri": "https://localhost:8080/",
          "height": 542
        },
        "id": "gwfvi2oVNOQi",
        "outputId": "adf1c6a5-7faa-438a-fb5c-9f2fa7f84a49"
      },
      "execution_count": 176,
      "outputs": [
        {
          "output_type": "display_data",
          "data": {
            "text/html": [
              "<html>\n",
              "<head><meta charset=\"utf-8\" /></head>\n",
              "<body>\n",
              "    <div>            <script src=\"https://cdnjs.cloudflare.com/ajax/libs/mathjax/2.7.5/MathJax.js?config=TeX-AMS-MML_SVG\"></script><script type=\"text/javascript\">if (window.MathJax && window.MathJax.Hub && window.MathJax.Hub.Config) {window.MathJax.Hub.Config({SVG: {font: \"STIX-Web\"}});}</script>                <script type=\"text/javascript\">window.PlotlyConfig = {MathJaxConfig: 'local'};</script>\n",
              "        <script charset=\"utf-8\" src=\"https://cdn.plot.ly/plotly-2.35.2.min.js\"></script>                <div id=\"f106bff1-3b4c-4471-8eee-587f31133a1b\" class=\"plotly-graph-div\" style=\"height:525px; width:100%;\"></div>            <script type=\"text/javascript\">                                    window.PLOTLYENV=window.PLOTLYENV || {};                                    if (document.getElementById(\"f106bff1-3b4c-4471-8eee-587f31133a1b\")) {                    Plotly.newPlot(                        \"f106bff1-3b4c-4471-8eee-587f31133a1b\",                        [{\"alignmentgroup\":\"True\",\"hovertemplate\":\"Churn=No\\u003cbr\\u003eContract=%{x}\\u003cbr\\u003ecount=%{y}\\u003cextra\\u003e\\u003c\\u002fextra\\u003e\",\"legendgroup\":\"No\",\"marker\":{\"color\":\"#636efa\",\"pattern\":{\"shape\":\"\"}},\"name\":\"No\",\"offsetgroup\":\"No\",\"orientation\":\"v\",\"showlegend\":true,\"textposition\":\"auto\",\"x\":[\"Month-to-month\",\"One year\",\"Two year\"],\"xaxis\":\"x\",\"y\":[2219,1307,1647],\"yaxis\":\"y\",\"type\":\"bar\"},{\"alignmentgroup\":\"True\",\"hovertemplate\":\"Churn=Yes\\u003cbr\\u003eContract=%{x}\\u003cbr\\u003ecount=%{y}\\u003cextra\\u003e\\u003c\\u002fextra\\u003e\",\"legendgroup\":\"Yes\",\"marker\":{\"color\":\"#EF553B\",\"pattern\":{\"shape\":\"\"}},\"name\":\"Yes\",\"offsetgroup\":\"Yes\",\"orientation\":\"v\",\"showlegend\":true,\"textposition\":\"auto\",\"x\":[\"Month-to-month\",\"Two year\",\"One year\"],\"xaxis\":\"x\",\"y\":[1655,48,166],\"yaxis\":\"y\",\"type\":\"bar\"}],                        {\"template\":{\"data\":{\"histogram2dcontour\":[{\"type\":\"histogram2dcontour\",\"colorbar\":{\"outlinewidth\":0,\"ticks\":\"\"},\"colorscale\":[[0.0,\"#0d0887\"],[0.1111111111111111,\"#46039f\"],[0.2222222222222222,\"#7201a8\"],[0.3333333333333333,\"#9c179e\"],[0.4444444444444444,\"#bd3786\"],[0.5555555555555556,\"#d8576b\"],[0.6666666666666666,\"#ed7953\"],[0.7777777777777778,\"#fb9f3a\"],[0.8888888888888888,\"#fdca26\"],[1.0,\"#f0f921\"]]}],\"choropleth\":[{\"type\":\"choropleth\",\"colorbar\":{\"outlinewidth\":0,\"ticks\":\"\"}}],\"histogram2d\":[{\"type\":\"histogram2d\",\"colorbar\":{\"outlinewidth\":0,\"ticks\":\"\"},\"colorscale\":[[0.0,\"#0d0887\"],[0.1111111111111111,\"#46039f\"],[0.2222222222222222,\"#7201a8\"],[0.3333333333333333,\"#9c179e\"],[0.4444444444444444,\"#bd3786\"],[0.5555555555555556,\"#d8576b\"],[0.6666666666666666,\"#ed7953\"],[0.7777777777777778,\"#fb9f3a\"],[0.8888888888888888,\"#fdca26\"],[1.0,\"#f0f921\"]]}],\"heatmap\":[{\"type\":\"heatmap\",\"colorbar\":{\"outlinewidth\":0,\"ticks\":\"\"},\"colorscale\":[[0.0,\"#0d0887\"],[0.1111111111111111,\"#46039f\"],[0.2222222222222222,\"#7201a8\"],[0.3333333333333333,\"#9c179e\"],[0.4444444444444444,\"#bd3786\"],[0.5555555555555556,\"#d8576b\"],[0.6666666666666666,\"#ed7953\"],[0.7777777777777778,\"#fb9f3a\"],[0.8888888888888888,\"#fdca26\"],[1.0,\"#f0f921\"]]}],\"heatmapgl\":[{\"type\":\"heatmapgl\",\"colorbar\":{\"outlinewidth\":0,\"ticks\":\"\"},\"colorscale\":[[0.0,\"#0d0887\"],[0.1111111111111111,\"#46039f\"],[0.2222222222222222,\"#7201a8\"],[0.3333333333333333,\"#9c179e\"],[0.4444444444444444,\"#bd3786\"],[0.5555555555555556,\"#d8576b\"],[0.6666666666666666,\"#ed7953\"],[0.7777777777777778,\"#fb9f3a\"],[0.8888888888888888,\"#fdca26\"],[1.0,\"#f0f921\"]]}],\"contourcarpet\":[{\"type\":\"contourcarpet\",\"colorbar\":{\"outlinewidth\":0,\"ticks\":\"\"}}],\"contour\":[{\"type\":\"contour\",\"colorbar\":{\"outlinewidth\":0,\"ticks\":\"\"},\"colorscale\":[[0.0,\"#0d0887\"],[0.1111111111111111,\"#46039f\"],[0.2222222222222222,\"#7201a8\"],[0.3333333333333333,\"#9c179e\"],[0.4444444444444444,\"#bd3786\"],[0.5555555555555556,\"#d8576b\"],[0.6666666666666666,\"#ed7953\"],[0.7777777777777778,\"#fb9f3a\"],[0.8888888888888888,\"#fdca26\"],[1.0,\"#f0f921\"]]}],\"surface\":[{\"type\":\"surface\",\"colorbar\":{\"outlinewidth\":0,\"ticks\":\"\"},\"colorscale\":[[0.0,\"#0d0887\"],[0.1111111111111111,\"#46039f\"],[0.2222222222222222,\"#7201a8\"],[0.3333333333333333,\"#9c179e\"],[0.4444444444444444,\"#bd3786\"],[0.5555555555555556,\"#d8576b\"],[0.6666666666666666,\"#ed7953\"],[0.7777777777777778,\"#fb9f3a\"],[0.8888888888888888,\"#fdca26\"],[1.0,\"#f0f921\"]]}],\"mesh3d\":[{\"type\":\"mesh3d\",\"colorbar\":{\"outlinewidth\":0,\"ticks\":\"\"}}],\"scatter\":[{\"fillpattern\":{\"fillmode\":\"overlay\",\"size\":10,\"solidity\":0.2},\"type\":\"scatter\"}],\"parcoords\":[{\"type\":\"parcoords\",\"line\":{\"colorbar\":{\"outlinewidth\":0,\"ticks\":\"\"}}}],\"scatterpolargl\":[{\"type\":\"scatterpolargl\",\"marker\":{\"colorbar\":{\"outlinewidth\":0,\"ticks\":\"\"}}}],\"bar\":[{\"error_x\":{\"color\":\"#2a3f5f\"},\"error_y\":{\"color\":\"#2a3f5f\"},\"marker\":{\"line\":{\"color\":\"#E5ECF6\",\"width\":0.5},\"pattern\":{\"fillmode\":\"overlay\",\"size\":10,\"solidity\":0.2}},\"type\":\"bar\"}],\"scattergeo\":[{\"type\":\"scattergeo\",\"marker\":{\"colorbar\":{\"outlinewidth\":0,\"ticks\":\"\"}}}],\"scatterpolar\":[{\"type\":\"scatterpolar\",\"marker\":{\"colorbar\":{\"outlinewidth\":0,\"ticks\":\"\"}}}],\"histogram\":[{\"marker\":{\"pattern\":{\"fillmode\":\"overlay\",\"size\":10,\"solidity\":0.2}},\"type\":\"histogram\"}],\"scattergl\":[{\"type\":\"scattergl\",\"marker\":{\"colorbar\":{\"outlinewidth\":0,\"ticks\":\"\"}}}],\"scatter3d\":[{\"type\":\"scatter3d\",\"line\":{\"colorbar\":{\"outlinewidth\":0,\"ticks\":\"\"}},\"marker\":{\"colorbar\":{\"outlinewidth\":0,\"ticks\":\"\"}}}],\"scattermapbox\":[{\"type\":\"scattermapbox\",\"marker\":{\"colorbar\":{\"outlinewidth\":0,\"ticks\":\"\"}}}],\"scatterternary\":[{\"type\":\"scatterternary\",\"marker\":{\"colorbar\":{\"outlinewidth\":0,\"ticks\":\"\"}}}],\"scattercarpet\":[{\"type\":\"scattercarpet\",\"marker\":{\"colorbar\":{\"outlinewidth\":0,\"ticks\":\"\"}}}],\"carpet\":[{\"aaxis\":{\"endlinecolor\":\"#2a3f5f\",\"gridcolor\":\"white\",\"linecolor\":\"white\",\"minorgridcolor\":\"white\",\"startlinecolor\":\"#2a3f5f\"},\"baxis\":{\"endlinecolor\":\"#2a3f5f\",\"gridcolor\":\"white\",\"linecolor\":\"white\",\"minorgridcolor\":\"white\",\"startlinecolor\":\"#2a3f5f\"},\"type\":\"carpet\"}],\"table\":[{\"cells\":{\"fill\":{\"color\":\"#EBF0F8\"},\"line\":{\"color\":\"white\"}},\"header\":{\"fill\":{\"color\":\"#C8D4E3\"},\"line\":{\"color\":\"white\"}},\"type\":\"table\"}],\"barpolar\":[{\"marker\":{\"line\":{\"color\":\"#E5ECF6\",\"width\":0.5},\"pattern\":{\"fillmode\":\"overlay\",\"size\":10,\"solidity\":0.2}},\"type\":\"barpolar\"}],\"pie\":[{\"automargin\":true,\"type\":\"pie\"}]},\"layout\":{\"autotypenumbers\":\"strict\",\"colorway\":[\"#636efa\",\"#EF553B\",\"#00cc96\",\"#ab63fa\",\"#FFA15A\",\"#19d3f3\",\"#FF6692\",\"#B6E880\",\"#FF97FF\",\"#FECB52\"],\"font\":{\"color\":\"#2a3f5f\"},\"hovermode\":\"closest\",\"hoverlabel\":{\"align\":\"left\"},\"paper_bgcolor\":\"white\",\"plot_bgcolor\":\"#E5ECF6\",\"polar\":{\"bgcolor\":\"#E5ECF6\",\"angularaxis\":{\"gridcolor\":\"white\",\"linecolor\":\"white\",\"ticks\":\"\"},\"radialaxis\":{\"gridcolor\":\"white\",\"linecolor\":\"white\",\"ticks\":\"\"}},\"ternary\":{\"bgcolor\":\"#E5ECF6\",\"aaxis\":{\"gridcolor\":\"white\",\"linecolor\":\"white\",\"ticks\":\"\"},\"baxis\":{\"gridcolor\":\"white\",\"linecolor\":\"white\",\"ticks\":\"\"},\"caxis\":{\"gridcolor\":\"white\",\"linecolor\":\"white\",\"ticks\":\"\"}},\"coloraxis\":{\"colorbar\":{\"outlinewidth\":0,\"ticks\":\"\"}},\"colorscale\":{\"sequential\":[[0.0,\"#0d0887\"],[0.1111111111111111,\"#46039f\"],[0.2222222222222222,\"#7201a8\"],[0.3333333333333333,\"#9c179e\"],[0.4444444444444444,\"#bd3786\"],[0.5555555555555556,\"#d8576b\"],[0.6666666666666666,\"#ed7953\"],[0.7777777777777778,\"#fb9f3a\"],[0.8888888888888888,\"#fdca26\"],[1.0,\"#f0f921\"]],\"sequentialminus\":[[0.0,\"#0d0887\"],[0.1111111111111111,\"#46039f\"],[0.2222222222222222,\"#7201a8\"],[0.3333333333333333,\"#9c179e\"],[0.4444444444444444,\"#bd3786\"],[0.5555555555555556,\"#d8576b\"],[0.6666666666666666,\"#ed7953\"],[0.7777777777777778,\"#fb9f3a\"],[0.8888888888888888,\"#fdca26\"],[1.0,\"#f0f921\"]],\"diverging\":[[0,\"#8e0152\"],[0.1,\"#c51b7d\"],[0.2,\"#de77ae\"],[0.3,\"#f1b6da\"],[0.4,\"#fde0ef\"],[0.5,\"#f7f7f7\"],[0.6,\"#e6f5d0\"],[0.7,\"#b8e186\"],[0.8,\"#7fbc41\"],[0.9,\"#4d9221\"],[1,\"#276419\"]]},\"xaxis\":{\"gridcolor\":\"white\",\"linecolor\":\"white\",\"ticks\":\"\",\"title\":{\"standoff\":15},\"zerolinecolor\":\"white\",\"automargin\":true,\"zerolinewidth\":2},\"yaxis\":{\"gridcolor\":\"white\",\"linecolor\":\"white\",\"ticks\":\"\",\"title\":{\"standoff\":15},\"zerolinecolor\":\"white\",\"automargin\":true,\"zerolinewidth\":2},\"scene\":{\"xaxis\":{\"backgroundcolor\":\"#E5ECF6\",\"gridcolor\":\"white\",\"linecolor\":\"white\",\"showbackground\":true,\"ticks\":\"\",\"zerolinecolor\":\"white\",\"gridwidth\":2},\"yaxis\":{\"backgroundcolor\":\"#E5ECF6\",\"gridcolor\":\"white\",\"linecolor\":\"white\",\"showbackground\":true,\"ticks\":\"\",\"zerolinecolor\":\"white\",\"gridwidth\":2},\"zaxis\":{\"backgroundcolor\":\"#E5ECF6\",\"gridcolor\":\"white\",\"linecolor\":\"white\",\"showbackground\":true,\"ticks\":\"\",\"zerolinecolor\":\"white\",\"gridwidth\":2}},\"shapedefaults\":{\"line\":{\"color\":\"#2a3f5f\"}},\"annotationdefaults\":{\"arrowcolor\":\"#2a3f5f\",\"arrowhead\":0,\"arrowwidth\":1},\"geo\":{\"bgcolor\":\"white\",\"landcolor\":\"#E5ECF6\",\"subunitcolor\":\"white\",\"showland\":true,\"showlakes\":true,\"lakecolor\":\"white\"},\"title\":{\"x\":0.05},\"mapbox\":{\"style\":\"light\"}}},\"xaxis\":{\"anchor\":\"y\",\"domain\":[0.0,1.0],\"title\":{\"text\":\"Contract\"}},\"yaxis\":{\"anchor\":\"x\",\"domain\":[0.0,1.0],\"title\":{\"text\":\"count\"}},\"legend\":{\"title\":{\"text\":\"Churn\"},\"tracegroupgap\":0},\"margin\":{\"t\":60},\"barmode\":\"relative\"},                        {\"responsive\": true}                    ).then(function(){\n",
              "                            \n",
              "var gd = document.getElementById('f106bff1-3b4c-4471-8eee-587f31133a1b');\n",
              "var x = new MutationObserver(function (mutations, observer) {{\n",
              "        var display = window.getComputedStyle(gd).display;\n",
              "        if (!display || display === 'none') {{\n",
              "            console.log([gd, 'removed!']);\n",
              "            Plotly.purge(gd);\n",
              "            observer.disconnect();\n",
              "        }}\n",
              "}});\n",
              "\n",
              "// Listen for the removal of the full notebook cells\n",
              "var notebookContainer = gd.closest('#notebook-container');\n",
              "if (notebookContainer) {{\n",
              "    x.observe(notebookContainer, {childList: true});\n",
              "}}\n",
              "\n",
              "// Listen for the clearing of the current output cell\n",
              "var outputEl = gd.closest('.output');\n",
              "if (outputEl) {{\n",
              "    x.observe(outputEl, {childList: true});\n",
              "}}\n",
              "\n",
              "                        })                };                            </script>        </div>\n",
              "</body>\n",
              "</html>"
            ]
          },
          "metadata": {}
        }
      ]
    }
  ]
}